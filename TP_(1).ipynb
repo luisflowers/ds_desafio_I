{
  "nbformat": 4,
  "nbformat_minor": 0,
  "metadata": {
    "colab": {
      "name": "TP (1).ipynb",
      "version": "0.3.2",
      "provenance": [],
      "include_colab_link": true
    },
    "kernelspec": {
      "display_name": "Python 3",
      "language": "python",
      "name": "python3"
    }
  },
  "cells": [
    {
      "cell_type": "markdown",
      "metadata": {
        "id": "view-in-github",
        "colab_type": "text"
      },
      "source": [
        "[View in Colaboratory](https://colab.research.google.com/github/lycohen/ds/blob/master/TP_(1).ipynb)"
      ]
    },
    {
      "metadata": {
        "id": "01a0feac-ab3d-4734-ab1e-ffaccc065b90",
        "colab_type": "text"
      },
      "cell_type": "markdown",
      "source": [
        "# LAB:   Desafío 1.\n",
        "\n",
        "## Objetivos\n",
        "\n",
        "* Efectuar una limpieza del dataset provisto. Particularmente, deberá diseñar estrategias para lidiar con los datos perdidos en ciertas variables.\n",
        "* Realizar un análisis descriptivo de las principales variables.\n",
        "* Crear nuevas columnas a partir de las características dadas que puedan tener valor predictivo.\n",
        "\n",
        "El dataset contiene información referida al primer semestre de 2017 de las propiedades comercializables por la empresa:\n",
        "\n",
        "* Fecha de creación\n",
        "* Tipo de la propiedad (house, apartment, ph )\n",
        "* Operación del aviso (sell, rent)\n",
        "* Nombre del lugar\n",
        "* Nombre del lugar + nombre de sus ‘padres’\n",
        "* ID de geonames del lugar (si está disponible)\n",
        "* Latitud,Longitud\n",
        "* Precio original del aviso\n",
        "* Moneda original del aviso (ARS, USD)\n",
        "* Precio del aviso en moneda local (ARS)\n",
        "* Precio aproximado en USD\n",
        "* Superficie en m²\n",
        "* Superficie cubierta en m²\n",
        "* Precio en USD/m²\n",
        "* Precio por m²\n",
        "* N° de piso, si corresponde\n",
        "* Ambientes\n",
        "* URL en Properati\n",
        "* Descripción\n",
        "* Título\n",
        "* URL de un thumbnail de la primer foto\n",
        "\n",
        "## ¿Cómo empezar? Sugerencias\n",
        "Agreguen toda otra información construida a partir de los datos originales (o incluso\n",
        "información externa) que consideren relevante y útil para resolver los objetivos planteados.\n",
        "Aprovechen las herramientas de pandas: gropuby , summation, pivot_tables y otras\n",
        "aplicaciones y métodos de los DataFrames hacen mucho más simples los cálculos y otras\n",
        "agregaciones de los datos.\n",
        "En la presentación de los resultados tengan en cuenta que es altamente probable que la\n",
        "audiencia no tenga un nivel técnico así que mantengan el lenguaje en un nivel accesible.\n",
        "En términos generales, recuerden las siguientes sugerencias:\n",
        "* escribir un pseudocódigo antes de empezar a codear. Suele ser muy útil para darle un esquema y una lógica generales al análisis\n",
        "* leer la documentación de cualquier tecnología o herramienta de análisis que uses. A veces no hay tutoriales para todo y los documentos y las ayudas son fundamentales para entender el funcionamiento de las herramientas utilizadas\n",
        "* documentar todos los pasos, transformaciones, comandos y análisis que realices.\n",
        "\n",
        "## Recursos útiles\n",
        "* Documentación de la librería GeoPandas\n",
        "* Github\n",
        "\n",
        "##Tareas\n",
        "\n",
        "##1 - ver calidad\n",
        "* NaN\n",
        "* vacios\n",
        "* inconsistencias entre keywords columnas vs keywords url\n",
        "* monedad $/u$s\n",
        "* EDA / Media central y outliers\n",
        "* correlacion\n",
        "* MNAR/MNCAR etc\n",
        "* mejor opcion de fill"
      ]
    },
    {
      "metadata": {
        "id": "13018c95-3582-460f-ba8e-4910f7089e11",
        "colab_type": "code",
        "colab": {}
      },
      "cell_type": "code",
      "source": [
        "% matplotlib inline\n",
        "import matplotlib.pyplot as plt\n",
        "import datetime\n",
        "import numpy as np\n",
        "import pandas as pd\n",
        "import seaborn as sns\n",
        "from sklearn.feature_extraction.text import CountVectorizer\n",
        "#from unidecode import unidecode #QUITO TILDES\n"
      ],
      "execution_count": 0,
      "outputs": []
    },
    {
      "metadata": {
        "id": "80c8956f-2e08-49b5-90c6-f97c6a9676ad",
        "colab_type": "code",
        "colab": {
          "base_uri": "https://localhost:8080/",
          "height": 880
        },
        "outputId": "7b18e3c0-8742-4a61-e229-844140d5f3d6"
      },
      "cell_type": "code",
      "source": [
        "# Cargar la data\n",
        "df = pd.read_csv('properatti.csv')  # DATOS DE PROPIEDADES EN VENTA PROPERATI\n",
        "print(df.columns)\n",
        "df.info()"
      ],
      "execution_count": 3,
      "outputs": [
        {
          "output_type": "error",
          "ename": "FileNotFoundError",
          "evalue": "ignored",
          "traceback": [
            "\u001b[0;31m---------------------------------------------------------------------------\u001b[0m",
            "\u001b[0;31mFileNotFoundError\u001b[0m                         Traceback (most recent call last)",
            "\u001b[0;32m<ipython-input-3-1186dbd33f72>\u001b[0m in \u001b[0;36m<module>\u001b[0;34m()\u001b[0m\n\u001b[0;32m----> 1\u001b[0;31m \u001b[0mdf\u001b[0m \u001b[0;34m=\u001b[0m \u001b[0mpd\u001b[0m\u001b[0;34m.\u001b[0m\u001b[0mread_csv\u001b[0m\u001b[0;34m(\u001b[0m\u001b[0;34m'properatti.csv'\u001b[0m\u001b[0;34m)\u001b[0m  \u001b[0;31m# DATOS DE PROPIEDADES EN VENTA PROPERATI\u001b[0m\u001b[0;34m\u001b[0m\u001b[0m\n\u001b[0m\u001b[1;32m      2\u001b[0m \u001b[0mprint\u001b[0m\u001b[0;34m(\u001b[0m\u001b[0mdf\u001b[0m\u001b[0;34m.\u001b[0m\u001b[0mcolumns\u001b[0m\u001b[0;34m)\u001b[0m\u001b[0;34m\u001b[0m\u001b[0m\n\u001b[1;32m      3\u001b[0m \u001b[0mdf\u001b[0m\u001b[0;34m.\u001b[0m\u001b[0minfo\u001b[0m\u001b[0;34m(\u001b[0m\u001b[0;34m)\u001b[0m\u001b[0;34m\u001b[0m\u001b[0m\n",
            "\u001b[0;32m/usr/local/lib/python3.6/dist-packages/pandas/io/parsers.py\u001b[0m in \u001b[0;36mparser_f\u001b[0;34m(filepath_or_buffer, sep, delimiter, header, names, index_col, usecols, squeeze, prefix, mangle_dupe_cols, dtype, engine, converters, true_values, false_values, skipinitialspace, skiprows, nrows, na_values, keep_default_na, na_filter, verbose, skip_blank_lines, parse_dates, infer_datetime_format, keep_date_col, date_parser, dayfirst, iterator, chunksize, compression, thousands, decimal, lineterminator, quotechar, quoting, escapechar, comment, encoding, dialect, tupleize_cols, error_bad_lines, warn_bad_lines, skipfooter, skip_footer, doublequote, delim_whitespace, as_recarray, compact_ints, use_unsigned, low_memory, buffer_lines, memory_map, float_precision)\u001b[0m\n\u001b[1;32m    707\u001b[0m                     skip_blank_lines=skip_blank_lines)\n\u001b[1;32m    708\u001b[0m \u001b[0;34m\u001b[0m\u001b[0m\n\u001b[0;32m--> 709\u001b[0;31m         \u001b[0;32mreturn\u001b[0m \u001b[0m_read\u001b[0m\u001b[0;34m(\u001b[0m\u001b[0mfilepath_or_buffer\u001b[0m\u001b[0;34m,\u001b[0m \u001b[0mkwds\u001b[0m\u001b[0;34m)\u001b[0m\u001b[0;34m\u001b[0m\u001b[0m\n\u001b[0m\u001b[1;32m    710\u001b[0m \u001b[0;34m\u001b[0m\u001b[0m\n\u001b[1;32m    711\u001b[0m     \u001b[0mparser_f\u001b[0m\u001b[0;34m.\u001b[0m\u001b[0m__name__\u001b[0m \u001b[0;34m=\u001b[0m \u001b[0mname\u001b[0m\u001b[0;34m\u001b[0m\u001b[0m\n",
            "\u001b[0;32m/usr/local/lib/python3.6/dist-packages/pandas/io/parsers.py\u001b[0m in \u001b[0;36m_read\u001b[0;34m(filepath_or_buffer, kwds)\u001b[0m\n\u001b[1;32m    447\u001b[0m \u001b[0;34m\u001b[0m\u001b[0m\n\u001b[1;32m    448\u001b[0m     \u001b[0;31m# Create the parser.\u001b[0m\u001b[0;34m\u001b[0m\u001b[0;34m\u001b[0m\u001b[0m\n\u001b[0;32m--> 449\u001b[0;31m     \u001b[0mparser\u001b[0m \u001b[0;34m=\u001b[0m \u001b[0mTextFileReader\u001b[0m\u001b[0;34m(\u001b[0m\u001b[0mfilepath_or_buffer\u001b[0m\u001b[0;34m,\u001b[0m \u001b[0;34m**\u001b[0m\u001b[0mkwds\u001b[0m\u001b[0;34m)\u001b[0m\u001b[0;34m\u001b[0m\u001b[0m\n\u001b[0m\u001b[1;32m    450\u001b[0m \u001b[0;34m\u001b[0m\u001b[0m\n\u001b[1;32m    451\u001b[0m     \u001b[0;32mif\u001b[0m \u001b[0mchunksize\u001b[0m \u001b[0;32mor\u001b[0m \u001b[0miterator\u001b[0m\u001b[0;34m:\u001b[0m\u001b[0;34m\u001b[0m\u001b[0m\n",
            "\u001b[0;32m/usr/local/lib/python3.6/dist-packages/pandas/io/parsers.py\u001b[0m in \u001b[0;36m__init__\u001b[0;34m(self, f, engine, **kwds)\u001b[0m\n\u001b[1;32m    816\u001b[0m             \u001b[0mself\u001b[0m\u001b[0;34m.\u001b[0m\u001b[0moptions\u001b[0m\u001b[0;34m[\u001b[0m\u001b[0;34m'has_index_names'\u001b[0m\u001b[0;34m]\u001b[0m \u001b[0;34m=\u001b[0m \u001b[0mkwds\u001b[0m\u001b[0;34m[\u001b[0m\u001b[0;34m'has_index_names'\u001b[0m\u001b[0;34m]\u001b[0m\u001b[0;34m\u001b[0m\u001b[0m\n\u001b[1;32m    817\u001b[0m \u001b[0;34m\u001b[0m\u001b[0m\n\u001b[0;32m--> 818\u001b[0;31m         \u001b[0mself\u001b[0m\u001b[0;34m.\u001b[0m\u001b[0m_make_engine\u001b[0m\u001b[0;34m(\u001b[0m\u001b[0mself\u001b[0m\u001b[0;34m.\u001b[0m\u001b[0mengine\u001b[0m\u001b[0;34m)\u001b[0m\u001b[0;34m\u001b[0m\u001b[0m\n\u001b[0m\u001b[1;32m    819\u001b[0m \u001b[0;34m\u001b[0m\u001b[0m\n\u001b[1;32m    820\u001b[0m     \u001b[0;32mdef\u001b[0m \u001b[0mclose\u001b[0m\u001b[0;34m(\u001b[0m\u001b[0mself\u001b[0m\u001b[0;34m)\u001b[0m\u001b[0;34m:\u001b[0m\u001b[0;34m\u001b[0m\u001b[0m\n",
            "\u001b[0;32m/usr/local/lib/python3.6/dist-packages/pandas/io/parsers.py\u001b[0m in \u001b[0;36m_make_engine\u001b[0;34m(self, engine)\u001b[0m\n\u001b[1;32m   1047\u001b[0m     \u001b[0;32mdef\u001b[0m \u001b[0m_make_engine\u001b[0m\u001b[0;34m(\u001b[0m\u001b[0mself\u001b[0m\u001b[0;34m,\u001b[0m \u001b[0mengine\u001b[0m\u001b[0;34m=\u001b[0m\u001b[0;34m'c'\u001b[0m\u001b[0;34m)\u001b[0m\u001b[0;34m:\u001b[0m\u001b[0;34m\u001b[0m\u001b[0m\n\u001b[1;32m   1048\u001b[0m         \u001b[0;32mif\u001b[0m \u001b[0mengine\u001b[0m \u001b[0;34m==\u001b[0m \u001b[0;34m'c'\u001b[0m\u001b[0;34m:\u001b[0m\u001b[0;34m\u001b[0m\u001b[0m\n\u001b[0;32m-> 1049\u001b[0;31m             \u001b[0mself\u001b[0m\u001b[0;34m.\u001b[0m\u001b[0m_engine\u001b[0m \u001b[0;34m=\u001b[0m \u001b[0mCParserWrapper\u001b[0m\u001b[0;34m(\u001b[0m\u001b[0mself\u001b[0m\u001b[0;34m.\u001b[0m\u001b[0mf\u001b[0m\u001b[0;34m,\u001b[0m \u001b[0;34m**\u001b[0m\u001b[0mself\u001b[0m\u001b[0;34m.\u001b[0m\u001b[0moptions\u001b[0m\u001b[0;34m)\u001b[0m\u001b[0;34m\u001b[0m\u001b[0m\n\u001b[0m\u001b[1;32m   1050\u001b[0m         \u001b[0;32melse\u001b[0m\u001b[0;34m:\u001b[0m\u001b[0;34m\u001b[0m\u001b[0m\n\u001b[1;32m   1051\u001b[0m             \u001b[0;32mif\u001b[0m \u001b[0mengine\u001b[0m \u001b[0;34m==\u001b[0m \u001b[0;34m'python'\u001b[0m\u001b[0;34m:\u001b[0m\u001b[0;34m\u001b[0m\u001b[0m\n",
            "\u001b[0;32m/usr/local/lib/python3.6/dist-packages/pandas/io/parsers.py\u001b[0m in \u001b[0;36m__init__\u001b[0;34m(self, src, **kwds)\u001b[0m\n\u001b[1;32m   1693\u001b[0m         \u001b[0mkwds\u001b[0m\u001b[0;34m[\u001b[0m\u001b[0;34m'allow_leading_cols'\u001b[0m\u001b[0;34m]\u001b[0m \u001b[0;34m=\u001b[0m \u001b[0mself\u001b[0m\u001b[0;34m.\u001b[0m\u001b[0mindex_col\u001b[0m \u001b[0;32mis\u001b[0m \u001b[0;32mnot\u001b[0m \u001b[0;32mFalse\u001b[0m\u001b[0;34m\u001b[0m\u001b[0m\n\u001b[1;32m   1694\u001b[0m \u001b[0;34m\u001b[0m\u001b[0m\n\u001b[0;32m-> 1695\u001b[0;31m         \u001b[0mself\u001b[0m\u001b[0;34m.\u001b[0m\u001b[0m_reader\u001b[0m \u001b[0;34m=\u001b[0m \u001b[0mparsers\u001b[0m\u001b[0;34m.\u001b[0m\u001b[0mTextReader\u001b[0m\u001b[0;34m(\u001b[0m\u001b[0msrc\u001b[0m\u001b[0;34m,\u001b[0m \u001b[0;34m**\u001b[0m\u001b[0mkwds\u001b[0m\u001b[0;34m)\u001b[0m\u001b[0;34m\u001b[0m\u001b[0m\n\u001b[0m\u001b[1;32m   1696\u001b[0m \u001b[0;34m\u001b[0m\u001b[0m\n\u001b[1;32m   1697\u001b[0m         \u001b[0;31m# XXX\u001b[0m\u001b[0;34m\u001b[0m\u001b[0;34m\u001b[0m\u001b[0m\n",
            "\u001b[0;32mpandas/_libs/parsers.pyx\u001b[0m in \u001b[0;36mpandas._libs.parsers.TextReader.__cinit__\u001b[0;34m()\u001b[0m\n",
            "\u001b[0;32mpandas/_libs/parsers.pyx\u001b[0m in \u001b[0;36mpandas._libs.parsers.TextReader._setup_parser_source\u001b[0;34m()\u001b[0m\n",
            "\u001b[0;31mFileNotFoundError\u001b[0m: File b'properatti.csv' does not exist"
          ]
        }
      ]
    },
    {
      "metadata": {
        "id": "1AcE7bkiNgRN",
        "colab_type": "code",
        "colab": {},
        "outputId": "3cbfcc1b-5cca-44f0-ce3b-dec9498c0281"
      },
      "cell_type": "code",
      "source": [
        "df.columns\n",
        "df['currency'].head()"
      ],
      "execution_count": 0,
      "outputs": [
        {
          "output_type": "execute_result",
          "data": {
            "text/plain": [
              "0    USD\n",
              "1    USD\n",
              "2    USD\n",
              "3    USD\n",
              "4    USD\n",
              "Name: currency, dtype: object"
            ]
          },
          "metadata": {
            "tags": []
          },
          "execution_count": 5
        }
      ]
    },
    {
      "metadata": {
        "id": "W5-pTm8HNgRR",
        "colab_type": "code",
        "colab": {}
      },
      "cell_type": "code",
      "source": [
        "df=df.rename(index=str, columns={\n",
        "\"Unnamed: 0\": \"IDENTITY\",\n",
        "\"operation\": \"OPERACION\",\n",
        "\"property_type\": \"PROP_TIPO\",\n",
        "\"place_name\": \"BARRIO\",\n",
        "\"place_with_parent_names\": \"BARRIO_COMPLETO\",\n",
        "\"country_name\": \"PAIS\",\n",
        "\"state_name\": \"PROVINCIA\",\n",
        "\"geonames_id\": \"GEONAME_ID\",\n",
        "\"lat-lon\": \"LAT-LON\",\n",
        "\"lat\": \"LAT\",\n",
        "\"lon\": \"LON\",\n",
        "\"price\": \"PRC\",\n",
        "\"currency\": \"MONEDA\",\n",
        "\"price_aprox_local_currency\": \"PRC_APROX_LC\",\n",
        "\"price_aprox_usd\": \"PRC_APROX_USD\",\n",
        "\"surface_total_in_m2\": \"M2_TOTAL\",\n",
        "\"surface_covered_in_m2\": \"M2_CUBIERTOS\",\n",
        "\"price_usd_per_m2\": \"PRC_M2_USD\",\n",
        "\"price_per_m2\": \"PRC_M2_LC\",\n",
        "\"floor\": \"QTY_PLANTA\",\n",
        "\"rooms\": \"QTY_AMBIENTES\",\n",
        "\"expenses\": \"PRC_EXPENSAS\",\n",
        "\"properati_url\": \"URL_PROPERATI\",\n",
        "\"description\": \"DESCRIPCION\",\n",
        "\"title\": \"TITULO\",\n",
        "\"image_thumbnail\": \"IMAGEN\"})"
      ],
      "execution_count": 0,
      "outputs": []
    },
    {
      "metadata": {
        "id": "c-zK-9O4NgRT",
        "colab_type": "code",
        "colab": {}
      },
      "cell_type": "code",
      "source": [
        "df.describe()"
      ],
      "execution_count": 0,
      "outputs": []
    },
    {
      "metadata": {
        "id": "nZXPMiDCNgRV",
        "colab_type": "code",
        "colab": {}
      },
      "cell_type": "code",
      "source": [
        "#df[('MONEDA')]!='USD'"
      ],
      "execution_count": 0,
      "outputs": []
    },
    {
      "metadata": {
        "id": "UHSF_z_2NgRY",
        "colab_type": "code",
        "colab": {}
      },
      "cell_type": "code",
      "source": [
        "dfp = df\n",
        "dfp"
      ],
      "execution_count": 0,
      "outputs": []
    },
    {
      "metadata": {
        "id": "LITMAEhHNgRa",
        "colab_type": "code",
        "colab": {}
      },
      "cell_type": "code",
      "source": [
        ""
      ],
      "execution_count": 0,
      "outputs": []
    },
    {
      "metadata": {
        "id": "cvqpOfFUNgRd",
        "colab_type": "code",
        "colab": {}
      },
      "cell_type": "code",
      "source": [
        "# Filtro los de CABA, PRECIO Y M2\n",
        "df = df[(df['PROVINCIA'] == 'Capital Federal') & (df['PRC'] > 0) & (df['M2_TOTAL'] > 0)].drop(columns=['BARRIO_COMPLETO', 'PAIS', 'MONEDA', 'PRC_APROX_LC',\n",
        "       'PRC_APROX_USD', 'PRC_M2_USD', 'PRC_M2_LC', 'M2_CUBIERTOS'])\n",
        "df.head()"
      ],
      "execution_count": 0,
      "outputs": []
    },
    {
      "metadata": {
        "id": "Cp8dHkDhNgRf",
        "colab_type": "code",
        "colab": {}
      },
      "cell_type": "code",
      "source": [
        "df6 = df[[ 'BARRIO', 'PRC', 'M2_TOTAL', 'QTY_PLANTA',\n",
        "       'QTY_AMBIENTES', 'PRC_EXPENSAS']]\n",
        "df7 = df[[ 'PRC', 'M2_TOTAL', 'QTY_PLANTA',\n",
        "       'QTY_AMBIENTES', 'PRC_EXPENSAS']]\n",
        "df6.describe()"
      ],
      "execution_count": 0,
      "outputs": []
    },
    {
      "metadata": {
        "id": "yj_PwBF5NgRk",
        "colab_type": "code",
        "colab": {}
      },
      "cell_type": "code",
      "source": [
        "# Precio vs M2\n",
        "sns.jointplot(dfp['PRC'],dfp['M2_TOTAL'])\n",
        "plt.show()"
      ],
      "execution_count": 0,
      "outputs": []
    },
    {
      "metadata": {
        "id": "knvPUTccNgRn",
        "colab_type": "code",
        "colab": {}
      },
      "cell_type": "code",
      "source": [
        ""
      ],
      "execution_count": 0,
      "outputs": []
    },
    {
      "metadata": {
        "id": "gR9Rv4O1NgRp",
        "colab_type": "code",
        "colab": {}
      },
      "cell_type": "code",
      "source": [
        ""
      ],
      "execution_count": 0,
      "outputs": []
    },
    {
      "metadata": {
        "id": "-Z-0QAJkNgRu",
        "colab_type": "code",
        "colab": {}
      },
      "cell_type": "code",
      "source": [
        "#df=df.join(pd.get_dummies(df['OPERACION'],prefix='OPERACION'))\n",
        "# df.head()\n",
        "\n",
        "DF_TEXT=df[['IDENTITY','QTY_PLANTA','QTY_AMBIENTES','DESCRIPCION','TITULO']]\n",
        "\n",
        "DF_TEXT.loc[:,\"DESCRIPCION\"]=DF_TEXT.loc[:,\"DESCRIPCION\"].str.upper()\n",
        "\n",
        "DF_TEXT.loc[:,\"TITULO\"]=DF_TEXT.loc[:,\"TITULO\"].str.upper()\n",
        "\n",
        "\n",
        "\n"
      ],
      "execution_count": 0,
      "outputs": []
    },
    {
      "metadata": {
        "id": "BXyHcHGyNgRx",
        "colab_type": "code",
        "colab": {}
      },
      "cell_type": "code",
      "source": [
        "# reemplazo caracteres especiales\n",
        "cols = DF_TEXT.select_dtypes(include=[np.object]).columns\n",
        "DF_TEXT[cols]=DF_TEXT[cols].apply(lambda x: x.str.normalize('NFKD').str.encode('ascii', errors='ignore').str.decode('utf-8'))\n",
        "\n"
      ],
      "execution_count": 0,
      "outputs": []
    },
    {
      "metadata": {
        "id": "2TCmq06JNgRz",
        "colab_type": "code",
        "colab": {}
      },
      "cell_type": "code",
      "source": [
        "#Traigo todos los datos que contengan la palabra AMB o AMBIENTE y excluyo los que ya tienen la cantidad de ambientes\n",
        "\n",
        "DF_TEXT2=DF_TEXT[((DF_TEXT[\"DESCRIPCION\"].str.find(\"AMBIENTES\")>0)|(DF_TEXT[\"DESCRIPCION\"].str.find(\"AMB\")>0)) & (DF_TEXT[\"QTY_AMBIENTES\"].isnull()==1)]\n",
        "\n",
        "DF_TEXT2[\"DESCRIPCION_AMB\"]=DF_TEXT2[\"DESCRIPCION\"].str.find(\"AMB\")\n",
        "DF_TEXT2[\"TITULO_AMB\"]=DF_TEXT2[\"TITULO\"].str.find(\"AMB\")\n",
        "\n"
      ],
      "execution_count": 0,
      "outputs": []
    },
    {
      "metadata": {
        "id": "sgGASTPqNgR4",
        "colab_type": "code",
        "colab": {}
      },
      "cell_type": "code",
      "source": [
        "DF_TEXT2['QTY_AMB_DESC'] = DF_TEXT2.apply(lambda x: x['DESCRIPCION'][x['DESCRIPCION_AMB']-2:x['DESCRIPCION_AMB']-1], 1)\n",
        "DF_TEXT2['QTY_AMB_TITLE'] = DF_TEXT2.apply(lambda x: x['DESCRIPCION'][x['TITULO_AMB']-2:x['TITULO_AMB']-1], 1)\n",
        "\n",
        "DF_TEXT2.drop(columns=['DESCRIPCION_AMB', 'TITULO_AMB'],inplace=True)\n",
        "\n"
      ],
      "execution_count": 0,
      "outputs": []
    },
    {
      "metadata": {
        "id": "cFNBpDzsNgR7",
        "colab_type": "code",
        "colab": {}
      },
      "cell_type": "code",
      "source": [
        "DF_TEXT2.head()"
      ],
      "execution_count": 0,
      "outputs": []
    },
    {
      "metadata": {
        "id": "u98JhGQwNgR-",
        "colab_type": "code",
        "colab": {}
      },
      "cell_type": "code",
      "source": [
        "DF_TEXT2['DESC_TYPE']=DF_TEXT2['QTY_AMB_DESC'].str.isnumeric()\n",
        "DF_TEXT2['TITLE_TYPE']=DF_TEXT2['QTY_AMB_TITLE'].str.isnumeric()\n",
        "\n",
        "DF_TEXT2=DF_TEXT2[(DF_TEXT2['DESC_TYPE']==True)|(DF_TEXT2['TITLE_TYPE']==True)]\n",
        "\n",
        "DF_TEXT2['QTY_AMB_DESC']=np.where(DF_TEXT2['DESC_TYPE']==False, np.nan, DF_TEXT2['QTY_AMB_DESC'])\n",
        "DF_TEXT2['QTY_AMB_TYPE']=np.where(DF_TEXT2['TITLE_TYPE']==False, np.nan, DF_TEXT2['QTY_AMB_TITLE'])\n",
        "\n",
        "DF_TEXT2['QTY_AMBIENTES_CALC']= DF_TEXT2[['QTY_AMB_DESC','QTY_AMB_DESC']].max(axis=1)\n",
        "\n",
        "DF_TEXT2.drop(columns=[\"QTY_AMB_DESC\",\"QTY_AMB_TITLE\",\"DESC_TYPE\",\"TITLE_TYPE\",\"QTY_AMB_TYPE\"],inplace=True)"
      ],
      "execution_count": 0,
      "outputs": []
    },
    {
      "metadata": {
        "id": "G6Hja5w8NgSE",
        "colab_type": "code",
        "colab": {}
      },
      "cell_type": "code",
      "source": [
        "# Agrego la columna calculada con la cantidad de ambientes y la seteo en el df original\n",
        "CALC_AMB = DF_TEXT2[['QTY_AMBIENTES_CALC']]\n",
        "\n",
        "df=df.join(CALC_AMB,rsuffix='_',how='left')\n",
        "\n",
        "df['QTY_AMBIENTES']=np.where(df['QTY_AMBIENTES'].isnull() == True, df['QTY_AMBIENTES_CALC'], df['QTY_AMBIENTES'])\n"
      ],
      "execution_count": 0,
      "outputs": []
    },
    {
      "metadata": {
        "id": "RCqoNoOpNgSJ",
        "colab_type": "code",
        "colab": {}
      },
      "cell_type": "code",
      "source": [
        "df.describe()\n"
      ],
      "execution_count": 0,
      "outputs": []
    },
    {
      "metadata": {
        "id": "cfYCYP1sNgSO",
        "colab_type": "code",
        "colab": {}
      },
      "cell_type": "code",
      "source": [
        "df.columns"
      ],
      "execution_count": 0,
      "outputs": []
    },
    {
      "metadata": {
        "id": "GAScoXocNgSR",
        "colab_type": "code",
        "colab": {}
      },
      "cell_type": "code",
      "source": [
        "x1=(DF_TEXT['DESCRIPCION'])\n",
        "x2=(DF_TEXT['TITULO'])\n",
        "\n",
        "DF_TEXT3=pd.DataFrame(pd.concat([x1, x2],names='a', axis=0))\n",
        "\n",
        "DF_TEXT3=DF_TEXT3.dropna()\n"
      ],
      "execution_count": 0,
      "outputs": []
    },
    {
      "metadata": {
        "id": "8Dv9ysqmNgSV",
        "colab_type": "code",
        "colab": {}
      },
      "cell_type": "code",
      "source": [
        "stop_words = get_stop_words('spanish')"
      ],
      "execution_count": 0,
      "outputs": []
    },
    {
      "metadata": {
        "id": "BUmfTTWPNgSX",
        "colab_type": "code",
        "colab": {}
      },
      "cell_type": "code",
      "source": [
        "# traigo todas las palabras que aparezcan al menos en un 3% de df\n",
        "count= CountVectorizer(encoding='latin1', ngram_range=[1,3], min_df=0.003,)\n",
        "count.fit(DF_TEXT3[0])\n",
        "a=count.fit_transform(DF_TEXT3[0])\n"
      ],
      "execution_count": 0,
      "outputs": []
    },
    {
      "metadata": {
        "id": "gTsg8ZeHNgSZ",
        "colab_type": "code",
        "colab": {}
      },
      "cell_type": "code",
      "source": [
        "# ARMO DICT y lo convierto en un DF\n",
        "\n",
        "b=count.vocabulary_\n",
        "c=pd.DataFrame(list(b.items()), columns=['palabra', 'cant'])\n",
        "# c.sort_values(by=['cant'],ascending=False, inplace=True)\n",
        "c['palabra']= c['palabra'].str.upper()\n",
        "\n"
      ],
      "execution_count": 0,
      "outputs": []
    },
    {
      "metadata": {
        "id": "QWXy1wrTNgSb",
        "colab_type": "code",
        "colab": {}
      },
      "cell_type": "code",
      "source": [
        ""
      ],
      "execution_count": 0,
      "outputs": []
    },
    {
      "metadata": {
        "id": "TrVdJ2asNgSd",
        "colab_type": "code",
        "colab": {}
      },
      "cell_type": "code",
      "source": [
        ""
      ],
      "execution_count": 0,
      "outputs": []
    },
    {
      "metadata": {
        "id": "JEscT6fmNgSg",
        "colab_type": "code",
        "colab": {}
      },
      "cell_type": "code",
      "source": [
        "# exporto para analizar\n",
        "# c.to_csv('dict2.csv')\n"
      ],
      "execution_count": 0,
      "outputs": []
    },
    {
      "metadata": {
        "id": "MkzGWGMUNgSh",
        "colab_type": "code",
        "colab": {}
      },
      "cell_type": "code",
      "source": [
        "\n",
        "#Traigo nuevamente el csv con las palabras que a mi me interesan\n",
        "AMENITIES=pd.read_csv('dict2_agrup.csv')\n",
        "AMENITIES=AMENITIES[AMENITIES['flag']==1]"
      ],
      "execution_count": 0,
      "outputs": []
    },
    {
      "metadata": {
        "id": "w6PiiwB1NgSl",
        "colab_type": "code",
        "colab": {}
      },
      "cell_type": "code",
      "source": [
        "DF_PRUEBA=df"
      ],
      "execution_count": 0,
      "outputs": []
    },
    {
      "metadata": {
        "id": "igl0_BgWNgSq",
        "colab_type": "code",
        "colab": {}
      },
      "cell_type": "code",
      "source": [
        "z0=pd.DataFrame(np.zeros((len(DF_PRUEBA),len(AMENITIES))),columns=list(AMENITIES['palabra'].values))\n",
        "DF_PRUEBA=DF_PRUEBA.join(z0,how='left')\n"
      ],
      "execution_count": 0,
      "outputs": []
    },
    {
      "metadata": {
        "id": "om6PWy_-NgSv",
        "colab_type": "code",
        "colab": {}
      },
      "cell_type": "code",
      "source": [
        "for i in range(0,len(AMENITIES)):\n",
        "    NOMBRE_COL=(AMENITIES['palabra'][i:i+1].item())\n",
        "    q1= DF_PRUEBA['DESCRIPCION'].str.find(NOMBRE_COL)\n",
        "    q2= DF_PRUEBA['TITULO'].str.find(NOMBRE_COL)\n",
        "    q3=pd.concat([q1,q2],axis=1)\n",
        "    q3=q3.max(axis=1)\n",
        "    DF_PRUEBA[NOMBRE_COL]= q3\n",
        "    DF_PRUEBA[NOMBRE_COL] = np.where(DF_PRUEBA[NOMBRE_COL] < 0, 0, DF_PRUEBA[NOMBRE_COL])\n",
        "    DF_PRUEBA[NOMBRE_COL] = np.where(DF_PRUEBA[NOMBRE_COL] > 0, 1, DF_PRUEBA[NOMBRE_COL])\n",
        "\n",
        "\n"
      ],
      "execution_count": 0,
      "outputs": []
    },
    {
      "metadata": {
        "id": "N7YjK2ArNgSy",
        "colab_type": "code",
        "colab": {}
      },
      "cell_type": "code",
      "source": [
        "# reemplazo los amenities por las agrupaciones de amenities\n",
        "\n",
        "AGRUP=pd.Series(AMENITIES['agrupado'].unique())\n",
        "for i in range(0,len(pd.Series(AMENITIES['agrupado'].unique()))):\n",
        "    NOMBRE_AGRUP=AGRUP[i:i+1].item()\n",
        "    NOMBRE_PALABRA_AGRUP=AMENITIES[AMENITIES['agrupado']==NOMBRE_AGRUP]['palabra'].values\n",
        "    NUEVA_COL='AGRUP_'+NOMBRE_AGRUP\n",
        "    DF_PRUEBA[NUEVA_COL]=np.sum(DF_PRUEBA[NOMBRE_PALABRA_AGRUP],axis=1)\n",
        "    DF_PRUEBA[NUEVA_COL] = np.where(DF_PRUEBA[NUEVA_COL] == 0, 0, DF_PRUEBA[NUEVA_COL])\n",
        "    DF_PRUEBA[NUEVA_COL] = np.where(DF_PRUEBA[NUEVA_COL] > 0, 1, DF_PRUEBA[NUEVA_COL])"
      ],
      "execution_count": 0,
      "outputs": []
    },
    {
      "metadata": {
        "id": "90K8ZLClNgS0",
        "colab_type": "code",
        "colab": {}
      },
      "cell_type": "code",
      "source": [
        "DF_PRUEBA=DF_PRUEBA.drop(columns=AMENITIES['palabra'].values)"
      ],
      "execution_count": 0,
      "outputs": []
    },
    {
      "metadata": {
        "id": "x0aaBHYSNgS2",
        "colab_type": "code",
        "colab": {}
      },
      "cell_type": "code",
      "source": [
        "#Agrego columnas de los amenities al df original\n",
        "\n",
        "AGRUP_COL=pd.Series('AGRUP_'+AMENITIES['agrupado'].unique()).values\n",
        "\n",
        "df=df.join(DF_PRUEBA[AGRUP_COL], how='left')"
      ],
      "execution_count": 0,
      "outputs": []
    },
    {
      "metadata": {
        "id": "XUBtRbTONgS5",
        "colab_type": "code",
        "colab": {}
      },
      "cell_type": "code",
      "source": [
        "# Elimino las columnas que no voy a utilizar\n",
        "df.columns\n",
        "\n",
        "\n"
      ],
      "execution_count": 0,
      "outputs": []
    },
    {
      "metadata": {
        "id": "dVN8bRK6NgS6",
        "colab_type": "code",
        "colab": {}
      },
      "cell_type": "code",
      "source": [
        "df.drop(columns=['IDENTITY','OPERACION','LAT-LON','GEONAME_ID','LAT', 'LON','URL_PROPERATI', 'DESCRIPCION', 'TITULO', 'IMAGEN','QTY_AMBIENTES_CALC'],inplace=True)\n"
      ],
      "execution_count": 0,
      "outputs": []
    },
    {
      "metadata": {
        "id": "HryIkvq1NgS8",
        "colab_type": "code",
        "colab": {}
      },
      "cell_type": "code",
      "source": [
        ""
      ],
      "execution_count": 0,
      "outputs": []
    },
    {
      "metadata": {
        "id": "IT3Cls9ONgS9",
        "colab_type": "code",
        "colab": {}
      },
      "cell_type": "code",
      "source": [
        "# OBTENGO DUMMIES DE LO QUE ME INTERESA FILTRAR\n",
        "df['BARRIO_CALC']=df['PROVINCIA']+', '+ df['BARRIO']\n",
        "\n",
        "\n",
        "PROP_TIPO=pd.get_dummies(df['PROP_TIPO'],prefix='PROP_TIPO')\n",
        "BARRIO=pd.get_dummies(df['BARRIO_CALC'],prefix='BARRIO')\n",
        "\n"
      ],
      "execution_count": 0,
      "outputs": []
    },
    {
      "metadata": {
        "id": "eCuuhxSINgS_",
        "colab_type": "code",
        "colab": {}
      },
      "cell_type": "code",
      "source": [
        "# Sumo dummies al dataset\n",
        "\n",
        "df=df.join(PROP_TIPO)\n",
        "df=df.join(BARRIO)\n",
        "\n",
        "df.drop(columns=['PROP_TIPO', 'BARRIO','PROVINCIA','BARRIO_CALC'],inplace=True)"
      ],
      "execution_count": 0,
      "outputs": []
    },
    {
      "metadata": {
        "id": "FV6caaBsNgTC",
        "colab_type": "code",
        "colab": {}
      },
      "cell_type": "code",
      "source": [
        "list(df.columns)"
      ],
      "execution_count": 0,
      "outputs": []
    },
    {
      "metadata": {
        "id": "ihdKBKQBNgTF",
        "colab_type": "code",
        "colab": {}
      },
      "cell_type": "code",
      "source": [
        "dfcont = df[['PRC',\n",
        " 'M2_TOTAL',\n",
        " 'QTY_PLANTA',\n",
        " 'QTY_AMBIENTES',\n",
        " 'PRC_EXPENSAS']]"
      ],
      "execution_count": 0,
      "outputs": []
    },
    {
      "metadata": {
        "id": "kPBJididNgTI",
        "colab_type": "code",
        "colab": {}
      },
      "cell_type": "code",
      "source": [
        "dfdummies = df[[ 'AGRUP_LAVADERO',\n",
        " 'AGRUP_PLANTA BAJA',\n",
        " 'AGRUP_APTO CREDITO',\n",
        " 'AGRUP_A ESTRENAR',\n",
        " 'AGRUP_BALCON',\n",
        " 'AGRUP_TOILETTE',\n",
        " 'AGRUP_COCHERA',\n",
        " 'AGRUP_PISOS DE MADERA',\n",
        " 'AGRUP_MUEBLES BAJO MESADA',\n",
        " 'AGRUP_BAJAS EXPENSAS',\n",
        " 'AGRUP_EXCELENTE UBICACION',\n",
        " 'AGRUP_PH',\n",
        " 'AGRUP_RECICLADO',\n",
        " 'AGRUP_BAULERA',\n",
        " 'AGRUP_AIRE ACONDICIONADO',\n",
        " 'AGRUP_ENTRADA INDEPENDIENTE',\n",
        " 'AGRUP_SIN EXPENSAS',\n",
        " 'AGRUP_PISOS DE PINOTEA',\n",
        " 'AGRUP_MONOAMBIENTE',\n",
        " 'AGRUP_SOLARIUM',\n",
        " 'AGRUP_LAUNDRY',\n",
        " 'AGRUP_TERRAZA',\n",
        " 'AGRUP_PILETA',\n",
        " 'AGRUP_SAUNA',\n",
        " 'AGRUP_GIMNASIO',\n",
        " 'AGRUP_RESIDENCIAL',\n",
        " 'AGRUP_BARRIO CERRADO',\n",
        " 'AGRUP_DUPLEX',\n",
        " 'AGRUP_PISOS DE PARQUET',\n",
        " 'AGRUP_PARRILLA',\n",
        " 'AGRUP_VESTIDOR',\n",
        " 'AGRUP_COMEDOR DIARIO',\n",
        " 'AGRUP_SOLO EFECTIVO',\n",
        " 'AGRUP_JACUZZI',\n",
        " 'AGRUP_PISOS DE PORCELANATTO',\n",
        " 'AGRUP_ACERO INOXIDABLE',\n",
        " 'AGRUP_MESADA DE GRANITO',\n",
        " 'AGRUP_GALERIA CUBIERTA',\n",
        " 'AGRUP_LOSA RADIANTE',\n",
        " 'AGRUP_CONTRA FRENTE',\n",
        " 'AGRUP_BUENA VISTA',\n",
        " 'AGRUP_HOGAR LENA',\n",
        " 'AGRUP_FINANCIACION',\n",
        " 'AGRUP_PALIER',\n",
        " 'AGRUP_SUM',\n",
        " 'AGRUP_DOBLE VIDRIO',\n",
        " 'AGRUP_BALCON FRANCES',\n",
        " 'AGRUP_PISOS CERAMICOS',\n",
        " 'AGRUP_ESQUINA',\n",
        " 'AGRUP_PISO POR ESCALERA',\n",
        " 'AGRUP_LOFT',\n",
        " 'AGRUP_APTO PROFESIONAL',\n",
        " 'AGRUP_PISO DE PARQUET',\n",
        " 'AGRUP_MESADA DE MARMOL',\n",
        " 'AGRUP_GRUPO ELECTROGENO',\n",
        " 'AGRUP_PLAYROOM',\n",
        " 'AGRUP_HIDROMASAJE',\n",
        " 'AGRUP_PORTON AUTOMATICO',\n",
        " 'AGRUP_RIEGO POR ASPERSION',\n",
        " 'AGRUP_ULTIMO PISO',\n",
        " 'AGRUP_PILETA CLIMATIZADA',\n",
        " 'AGRUP_ALTILLO',\n",
        " 'AGRUP_CALEFACCION',\n",
        " 'AGRUP_TARQUINI',\n",
        " 'AGRUP_JARDIN DE INVIERNO',\n",
        " 'AGRUP_CALDERA',\n",
        " 'AGRUP_SEGURIDAD 24HS',\n",
        " 'AGRUP_CANCHA DE FUTBOL',\n",
        " 'AGRUP_CANCHA DE TENIS',\n",
        " 'AGRUP_TRIPLEX',\n",
        " 'PROP_TIPO_PH',\n",
        " 'PROP_TIPO_apartment',\n",
        " 'PROP_TIPO_house',\n",
        " 'PROP_TIPO_store',\n",
        " 'BARRIO_Capital Federal, Abasto',\n",
        " 'BARRIO_Capital Federal, Agronomía',\n",
        " 'BARRIO_Capital Federal, Almagro',\n",
        " 'BARRIO_Capital Federal, Balvanera',\n",
        " 'BARRIO_Capital Federal, Barracas',\n",
        " 'BARRIO_Capital Federal, Barrio Norte',\n",
        " 'BARRIO_Capital Federal, Belgrano',\n",
        " 'BARRIO_Capital Federal, Boca',\n",
        " 'BARRIO_Capital Federal, Boedo',\n",
        " 'BARRIO_Capital Federal, Caballito',\n",
        " 'BARRIO_Capital Federal, Capital Federal',\n",
        " 'BARRIO_Capital Federal, Catalinas',\n",
        " 'BARRIO_Capital Federal, Centro / Microcentro',\n",
        " 'BARRIO_Capital Federal, Chacarita',\n",
        " 'BARRIO_Capital Federal, Coghlan',\n",
        " 'BARRIO_Capital Federal, Colegiales',\n",
        " 'BARRIO_Capital Federal, Congreso',\n",
        " 'BARRIO_Capital Federal, Constitución',\n",
        " 'BARRIO_Capital Federal, Flores',\n",
        " 'BARRIO_Capital Federal, Floresta',\n",
        " 'BARRIO_Capital Federal, Las Cañitas',\n",
        " 'BARRIO_Capital Federal, Liniers',\n",
        " 'BARRIO_Capital Federal, Mataderos',\n",
        " 'BARRIO_Capital Federal, Monserrat',\n",
        " 'BARRIO_Capital Federal, Monte Castro',\n",
        " 'BARRIO_Capital Federal, Nuñez',\n",
        " 'BARRIO_Capital Federal, Once',\n",
        " 'BARRIO_Capital Federal, Palermo',\n",
        " 'BARRIO_Capital Federal, Palermo Chico',\n",
        " 'BARRIO_Capital Federal, Palermo Hollywood',\n",
        " 'BARRIO_Capital Federal, Palermo Soho',\n",
        " 'BARRIO_Capital Federal, Palermo Viejo',\n",
        " 'BARRIO_Capital Federal, Parque Avellaneda',\n",
        " 'BARRIO_Capital Federal, Parque Centenario',\n",
        " 'BARRIO_Capital Federal, Parque Chacabuco',\n",
        " 'BARRIO_Capital Federal, Parque Chas',\n",
        " 'BARRIO_Capital Federal, Parque Patricios',\n",
        " 'BARRIO_Capital Federal, Paternal',\n",
        " 'BARRIO_Capital Federal, Pompeya',\n",
        " 'BARRIO_Capital Federal, Puerto Madero',\n",
        " 'BARRIO_Capital Federal, Recoleta',\n",
        " 'BARRIO_Capital Federal, Retiro',\n",
        " 'BARRIO_Capital Federal, Saavedra',\n",
        " 'BARRIO_Capital Federal, San Cristobal',\n",
        " 'BARRIO_Capital Federal, San Nicolás',\n",
        " 'BARRIO_Capital Federal, San Telmo',\n",
        " 'BARRIO_Capital Federal, Tribunales',\n",
        " 'BARRIO_Capital Federal, Velez Sarsfield',\n",
        " 'BARRIO_Capital Federal, Versalles',\n",
        " 'BARRIO_Capital Federal, Villa Crespo',\n",
        " 'BARRIO_Capital Federal, Villa Devoto',\n",
        " 'BARRIO_Capital Federal, Villa General Mitre',\n",
        " 'BARRIO_Capital Federal, Villa Lugano',\n",
        " 'BARRIO_Capital Federal, Villa Luro',\n",
        " 'BARRIO_Capital Federal, Villa Ortuzar',\n",
        " 'BARRIO_Capital Federal, Villa Pueyrredón',\n",
        " 'BARRIO_Capital Federal, Villa Real',\n",
        " 'BARRIO_Capital Federal, Villa Riachuelo',\n",
        " 'BARRIO_Capital Federal, Villa Santa Rita',\n",
        " 'BARRIO_Capital Federal, Villa Soldati',\n",
        " 'BARRIO_Capital Federal, Villa Urquiza',\n",
        " 'BARRIO_Capital Federal, Villa del Parque']]"
      ],
      "execution_count": 0,
      "outputs": []
    },
    {
      "metadata": {
        "id": "UBWM1QmiNgTO",
        "colab_type": "code",
        "colab": {}
      },
      "cell_type": "code",
      "source": [
        "# Armar el modelo para predecir\n",
        "\n",
        "VAR_CONT = PolynomialFeatures(2,include_bias=True, interaction_only=False).fit_transform(dfcont)\n",
        "DUMMIES = dfdummies\n",
        "\n",
        "dfresult = [VAR_CONT, DUMMIES]\n",
        "X = pd.concat(dfresult)\n",
        "y = dfresult.PRC"
      ],
      "execution_count": 0,
      "outputs": []
    },
    {
      "metadata": {
        "id": "B9E7BShfNgTP",
        "colab_type": "code",
        "colab": {}
      },
      "cell_type": "code",
      "source": [
        "# Separar el df en train & test\n",
        "X_train, X_test, y_train, y_test = train_test_split(X, y, test_size=0.3, random_state=5)\n",
        "print(X_train.shape, y_train.shape)\n",
        "print(X_test.shape, y_test.shape)"
      ],
      "execution_count": 0,
      "outputs": []
    },
    {
      "metadata": {
        "id": "wUSCpWz0NgTS",
        "colab_type": "code",
        "colab": {}
      },
      "cell_type": "code",
      "source": [
        "# hiperparámetros y CV\n",
        "\n",
        "al_ridge = np.linspace(0.1, 0.3, 10)\n",
        "al_lasso = np.linspace(0.1, 0.3, 10)\n",
        "kf = KFold(n_splits=7, shuffle=True, random_state=5)\n",
        "\n",
        "# Instanciar\n",
        "\n",
        "lm = LinearRegression()\n",
        "lmRidgeCV = RidgeCV(alphas=al_ridge, cv=kf, normalize=True)\n",
        "lmLassoCV = LassoCV(alphas=al_lasso, cv=kf, normalize=True)"
      ],
      "execution_count": 0,
      "outputs": []
    },
    {
      "metadata": {
        "id": "K0ZgSMr0NgTW",
        "colab_type": "code",
        "colab": {}
      },
      "cell_type": "code",
      "source": [
        "# Fit\n",
        "\n",
        "lm.fit(X_train, y_train)\n",
        "lmRidgeCV.fit(X_train, y_train)\n",
        "lmLassoCV.fit(X_train, y_train)"
      ],
      "execution_count": 0,
      "outputs": []
    },
    {
      "metadata": {
        "id": "Wb3u9F7wNgTb",
        "colab_type": "code",
        "colab": {}
      },
      "cell_type": "code",
      "source": [
        "# Ver alphas \n",
        "print('Alpha Ridge:',lmRidgeCV.alpha_,'\\n'\n",
        "      'Alpha LASSO:',lmLassoCV.alpha_,'\\n')"
      ],
      "execution_count": 0,
      "outputs": []
    },
    {
      "metadata": {
        "id": "QPTaAHVsNgTe",
        "colab_type": "code",
        "colab": {}
      },
      "cell_type": "code",
      "source": [
        "# Error con R2\n",
        "\n",
        "print(\"Score Train Lineal:\", lm.score(X_train, y_train),\"\\n\"\n",
        "      \"Score Train Ridge:\",  lmRidgeCV.score(X_train, y_train),\"\\n\"\n",
        "      \"Score Train Lasso:\",  lmLassoCV.score(X_train, y_train))\n",
        "\n",
        "# Error con MSE\n",
        "\n",
        "lmpred_Tr = lm.predict(X_train)\n",
        "lmRidgepred_Tr = lmRidgeCV.predict(X_train)\n",
        "lmLassoepred_Tr = lmLassoCV.predict(X_train)\n",
        "\n",
        "print(\"Train MSE lineal=\", mean_squared_error(y_train,lmpred_Tr), \"\\n\"\n",
        "      \"Train MSE Ridge=\",  mean_squared_error(y_train,lmRidgepred_Tr), \"\\n\"\n",
        "      \"Train MSE Lasso=\",  mean_squared_error(y_train,lmLassoepred_Tr))\n"
      ],
      "execution_count": 0,
      "outputs": []
    },
    {
      "metadata": {
        "id": "wOkfzsgzNgTg",
        "colab_type": "code",
        "colab": {}
      },
      "cell_type": "code",
      "source": [
        "# Ordenada + Betas RL\n",
        "(lm.intercept_,lm.coef_)"
      ],
      "execution_count": 0,
      "outputs": []
    },
    {
      "metadata": {
        "id": "ogha1yKqNgTj",
        "colab_type": "code",
        "colab": {}
      },
      "cell_type": "code",
      "source": [
        "# Ordenada + Betas Ridge\n",
        "(lmRidgeCV.intercept_,lmRidgeCV.coef_)"
      ],
      "execution_count": 0,
      "outputs": []
    },
    {
      "metadata": {
        "id": "vyGSs23GNgTk",
        "colab_type": "code",
        "colab": {}
      },
      "cell_type": "code",
      "source": [
        "# Ordenada + Betas Lasso\n",
        "(lmLassoCV.intercept_,lmLassoCV.coef_)"
      ],
      "execution_count": 0,
      "outputs": []
    },
    {
      "metadata": {
        "id": "2B-cwOfsNgTo",
        "colab_type": "code",
        "colab": {}
      },
      "cell_type": "code",
      "source": [
        "# Test predicción\n",
        "\n",
        "lmpred_Te = lm.predict(X_test)\n",
        "lmRidgepred_Te = lmRidgeCV.predict(X_test)\n",
        "lmLassoepred_Te = lmLassoCV.predict(X_test)\n",
        "\n",
        "# Error del test\n",
        "\n",
        "print(\"Test Score lineal=\", mean_squared_error(y_test,lmpred_Te), \"\\n\"\n",
        "      \"Test Score Ridge=\",  mean_squared_error(y_test,lmRidgepred_Te), \"\\n\"\n",
        "      \"Test Score Lasso=\",  mean_squared_error(y_test,lmLassoepred_Te))"
      ],
      "execution_count": 0,
      "outputs": []
    },
    {
      "metadata": {
        "id": "EAW4fiGmNgTr",
        "colab_type": "text"
      },
      "cell_type": "markdown",
      "source": [
        "# Limpiar el dataset\n",
        "Practiquemos nuestras capacidades para realizar limpieza de datos con el dataset de ventas de propiedades de Properatti. Si no recuerdan cómo hacer alguna de estas tareas, busquen en Internet o en clases anteriores de manipulación de datos.\n",
        "\n",
        "Buscamos que completen las siguientes tareas:\n",
        "* Quitar columnas redundantes\n",
        "* Convertir las variables categóricas numéricas a integer\n",
        "* Lidiar con los valores perdidos y/o erróneos en algunas variables clave: \n",
        "\n",
        "    + en este punto podría ser interesante realizar algo ligeramente más complejo que un simple rellenado en función de medias. Podría eventualmente imputar en función de medias condicionadas.\n",
        "        * por ejemplo, los campos `lat` y `long` tienen, también, muchos casos perdidos. Quizás una estrategia posible sería tratar de imputar las coordenadas con la media de los casos en el mismo `place_name` -barrio-.\n",
        "    + también podrían evaluar la posibilidad de extraer alguna información para completar los datos perdidos del campo \"description\" que contiene texto del aviso. \n",
        "        * por ejemplo, el campo `rooms` tiene una altísima cantidad de missing. Podrían intentar usando alguna expresión regex extraer información "
      ]
    },
    {
      "metadata": {
        "id": "NfXcWhoINgTs",
        "colab_type": "code",
        "colab": {}
      },
      "cell_type": "code",
      "source": [
        ""
      ],
      "execution_count": 0,
      "outputs": []
    },
    {
      "metadata": {
        "id": "ZshXZt-nNgTy",
        "colab_type": "code",
        "colab": {}
      },
      "cell_type": "code",
      "source": [
        "#Unnamed es igual a identity, no hay valores False\n",
        "\n",
        "df['BARRIO'].value_counts()\n"
      ],
      "execution_count": 0,
      "outputs": []
    },
    {
      "metadata": {
        "id": "k5kVs0u5NgT0",
        "colab_type": "code",
        "colab": {}
      },
      "cell_type": "code",
      "source": [
        "prcm2=df.\n",
        "\n"
      ],
      "execution_count": 0,
      "outputs": []
    },
    {
      "metadata": {
        "id": "K40FDCOhNgT2",
        "colab_type": "text"
      },
      "cell_type": "markdown",
      "source": [
        "# Filtrar los Datos\n",
        "\n",
        "En general, los mdoelos de precios suelen tener un carácter local. Es por eso que deberán elegir alguna zona o provincia para trabajar y estimar el modelo en base a dicha selección."
      ]
    },
    {
      "metadata": {
        "id": "4e3908e8-a791-40a5-90d9-1d0802247ed6",
        "colab_type": "code",
        "colab": {}
      },
      "cell_type": "code",
      "source": [
        "# Filtrar la zona elegida para estimar el modelo\n",
        "\n"
      ],
      "execution_count": 0,
      "outputs": []
    },
    {
      "metadata": {
        "id": "5WvpVll8NgT6",
        "colab_type": "text"
      },
      "cell_type": "markdown",
      "source": [
        "# Análisis exploratorio\n",
        "\n",
        "Como estamos intentando predecir precios por metro cuadrado es importante realizar una primera vista y exploración de los datos."
      ]
    },
    {
      "metadata": {
        "id": "a202ef16-b0d9-48e0-bed5-7d7b5be65f9f",
        "colab_type": "code",
        "colab": {}
      },
      "cell_type": "code",
      "source": [
        "# Calculo de correlacion entre features\n"
      ],
      "execution_count": 0,
      "outputs": []
    },
    {
      "metadata": {
        "id": "xK28lOUZNgUA",
        "colab_type": "code",
        "colab": {}
      },
      "cell_type": "code",
      "source": [
        "# Analisis exploratorio, graficos...\n"
      ],
      "execution_count": 0,
      "outputs": []
    },
    {
      "metadata": {
        "id": "2DsOrFn1NgUC",
        "colab_type": "text"
      },
      "cell_type": "markdown",
      "source": [
        "¿En qué barrios los precios por $m^2$ son más altos? "
      ]
    },
    {
      "metadata": {
        "id": "8U-BV7jbNgUD",
        "colab_type": "code",
        "colab": {}
      },
      "cell_type": "code",
      "source": [
        ""
      ],
      "execution_count": 0,
      "outputs": []
    },
    {
      "metadata": {
        "id": "mgehwxB5NgUH",
        "colab_type": "text"
      },
      "cell_type": "markdown",
      "source": [
        "¿En qué barrios hay una mayor cantidad de viviendas para su venta?"
      ]
    },
    {
      "metadata": {
        "id": "ePW0u7OvNgUI",
        "colab_type": "code",
        "colab": {}
      },
      "cell_type": "code",
      "source": [
        ""
      ],
      "execution_count": 0,
      "outputs": []
    },
    {
      "metadata": {
        "id": "3C-x3QuFNgUL",
        "colab_type": "text"
      },
      "cell_type": "markdown",
      "source": [
        "¿ En qué barrios hay una mayor dispersión de precios?"
      ]
    },
    {
      "metadata": {
        "id": "8QPqrF2GNgUM",
        "colab_type": "code",
        "colab": {}
      },
      "cell_type": "code",
      "source": [
        ""
      ],
      "execution_count": 0,
      "outputs": []
    },
    {
      "metadata": {
        "id": "Oufa1dWCNgUP",
        "colab_type": "text"
      },
      "cell_type": "markdown",
      "source": [
        "¿Qué tipo de propiedad presenta los mayores precios? ¿Cuál las mayores dispersiones?"
      ]
    },
    {
      "metadata": {
        "id": "nrzJSsk3NgUQ",
        "colab_type": "code",
        "colab": {}
      },
      "cell_type": "code",
      "source": [
        ""
      ],
      "execution_count": 0,
      "outputs": []
    },
    {
      "metadata": {
        "id": "ssfBOkcgNgUR",
        "colab_type": "text"
      },
      "cell_type": "markdown",
      "source": [
        "Continua realizando un análisis exploratorio del dataset..."
      ]
    },
    {
      "metadata": {
        "id": "irLz1ZAJNgUS",
        "colab_type": "code",
        "colab": {}
      },
      "cell_type": "code",
      "source": [
        ""
      ],
      "execution_count": 0,
      "outputs": []
    },
    {
      "metadata": {
        "id": "_PmpRwhWNgUV",
        "colab_type": "text"
      },
      "cell_type": "markdown",
      "source": [
        "## BONUS: Empezando con regresiones lineales...\n",
        "\n",
        "Si se atreven, podrían empezar a probar con algunos modelos de regresión no demasiado sofisticados. Seleccionen (o construyan) su variable dependiente ($Y$) y comiencen probando con pocas variables y modelos sencillos.\n",
        "\n",
        "Usen el estimador `LinearRegression` de submódulo `sklearn.linear_model`.\n",
        "\n",
        "Recuerden los pasos para comenzar a trabajar con estimadores en Scikit-Learn.\n",
        "    \n",
        "1. Elegir una clase de modelo importando la clase de estimador apropiado de Scikit-Learn.\n",
        "2. Seleccionar los hiperparámetros del modelo instanciando la clase con los valores deseados.\n",
        "3. Preparar los datos en una matriz de features y un array target, como vimos previamente.\n",
        "4. Ajustar el modelo a los datos invocando el método fit() de la instancia del modelo.\n",
        "5. Aplicar el modelo a nuevos datos:\n",
        "    * Para aprendizaje supervisado, frecuentemente predecimos labels para datos nuevos usando el método predict()\n",
        "    * Para aprendizaje no supervisado, frecuentemente transformamos o inferimos propiedades de los datos usando los métodos transform() o predict()\n",
        "    \n",
        "¿Qué pueden decir del ajuste y la capacidad predictiva de sus modelos?"
      ]
    },
    {
      "metadata": {
        "id": "yeXWDLICNgUW",
        "colab_type": "code",
        "colab": {}
      },
      "cell_type": "code",
      "source": [
        "from sklearn.linear_model import LinearRegression"
      ],
      "execution_count": 0,
      "outputs": []
    },
    {
      "metadata": {
        "id": "giTaRJvjNgUY",
        "colab_type": "code",
        "colab": {}
      },
      "cell_type": "code",
      "source": [
        ""
      ],
      "execution_count": 0,
      "outputs": []
    }
  ]
}