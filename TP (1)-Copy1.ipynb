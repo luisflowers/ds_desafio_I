{
 "cells": [
  {
   "cell_type": "markdown",
   "metadata": {
    "colab_type": "text",
    "id": "01a0feac-ab3d-4734-ab1e-ffaccc065b90",
    "slideshow": {
     "slide_type": "slide"
    }
   },
   "source": [
    "# LAB:   Desafío 1.\n",
    "\n",
    "## Objetivos\n",
    "\n",
    "* Efectuar una limpieza del dataset provisto. Particularmente, deberá diseñar estrategias para lidiar con los datos perdidos en ciertas variables.\n",
    "* Realizar un análisis descriptivo de las principales variables.\n",
    "* Crear nuevas columnas a partir de las características dadas que puedan tener valor predictivo.\n",
    "\n",
    "El dataset contiene información referida al primer semestre de 2017 de las propiedades comercializables por la empresa:\n",
    "\n",
    "* Fecha de creación\n",
    "* Tipo de la propiedad (house, apartment, ph )\n",
    "* Operación del aviso (sell, rent)\n",
    "* Nombre del lugar\n",
    "* Nombre del lugar + nombre de sus ‘padres’\n",
    "* ID de geonames del lugar (si está disponible)\n",
    "* Latitud,Longitud\n",
    "* Precio original del aviso\n",
    "* Moneda original del aviso (ARS, USD)\n",
    "* Precio del aviso en moneda local (ARS)\n",
    "* Precio aproximado en USD\n",
    "* Superficie en m²\n",
    "* Superficie cubierta en m²\n",
    "* Precio en USD/m²\n",
    "* Precio por m²\n",
    "* N° de piso, si corresponde\n",
    "* Ambientes\n",
    "* URL en Properati\n",
    "* Descripción\n",
    "* Título\n",
    "* URL de un thumbnail de la primer foto\n",
    "\n",
    "## ¿Cómo empezar? Sugerencias\n",
    "Agreguen toda otra información construida a partir de los datos originales (o incluso\n",
    "información externa) que consideren relevante y útil para resolver los objetivos planteados.\n",
    "Aprovechen las herramientas de pandas: gropuby , summation, pivot_tables y otras\n",
    "aplicaciones y métodos de los DataFrames hacen mucho más simples los cálculos y otras\n",
    "agregaciones de los datos.\n",
    "En la presentación de los resultados tengan en cuenta que es altamente probable que la\n",
    "audiencia no tenga un nivel técnico así que mantengan el lenguaje en un nivel accesible.\n",
    "En términos generales, recuerden las siguientes sugerencias:\n",
    "* escribir un pseudocódigo antes de empezar a codear. Suele ser muy útil para darle un esquema y una lógica generales al análisis\n",
    "* leer la documentación de cualquier tecnología o herramienta de análisis que uses. A veces no hay tutoriales para todo y los documentos y las ayudas son fundamentales para entender el funcionamiento de las herramientas utilizadas\n",
    "* documentar todos los pasos, transformaciones, comandos y análisis que realices.\n",
    "\n",
    "## Recursos útiles\n",
    "* Documentación de la librería GeoPandas\n",
    "* Github\n",
    "\n",
    "##Tareas\n",
    "\n",
    "##1 - ver calidad\n",
    "* NaN\n",
    "* vacios\n",
    "* inconsistencias entre keywords columnas vs keywords url\n",
    "* monedad $/u$s\n",
    "* EDA / Media central y outliers\n",
    "* correlacion\n",
    "* MNAR/MNCAR etc\n",
    "* mejor opcion de fill"
   ]
  },
  {
   "cell_type": "code",
   "execution_count": 182,
   "metadata": {
    "colab": {
     "autoexec": {
      "startup": false,
      "wait_interval": 0
     }
    },
    "colab_type": "code",
    "id": "13018c95-3582-460f-ba8e-4910f7089e11",
    "slideshow": {
     "slide_type": "subslide"
    }
   },
   "outputs": [],
   "source": [
    "% matplotlib inline\n",
    "import matplotlib.pyplot as plt\n",
    "import datetime\n",
    "import numpy as np\n",
    "import pandas as pd\n",
    "import seaborn as sns\n",
    "from sklearn.feature_extraction.text import CountVectorizer\n",
    "#from unidecode import unidecode #QUITO TILDES\n"
   ]
  },
  {
   "cell_type": "markdown",
   "metadata": {},
   "source": [
    "## funcion auxiliar de cotizacion/conversion $ a u$s (nota:sin fechas...dificil)"
   ]
  },
  {
   "cell_type": "code",
   "execution_count": 183,
   "metadata": {},
   "outputs": [],
   "source": [
    "def getCotizacionUSD(fecha):\n",
    "    #carga cotizacion dolar\n",
    "    dfUSD = pd.read_csv('cotizacion_diaria_dolar.csv')  # Fuente : BCRA\n",
    "    # Convierto la columna de fecha en un datetime.\n",
    "    dfUSD.Fecha = pd.to_datetime(dfUSD.Fecha)\n",
    "    dfUSD['Cotizacion'] = dfUSD['Cotizacion'].str.replace(',', '.')\n",
    "    dfUSD['Cotizacion'] = dfUSD['Cotizacion'].astype('float64') \n",
    "    dfUSD.set_index('Fecha',inplace=True)\n",
    "    #dfUSD.loc['2002-04-03 00:00:00']\n",
    "    return dfUSD.loc[pd.to_datetime(fecha)][0]\n",
    "\n",
    "#cotizacion = getCotizacionUSD('2002-04-03 00:00:00')\n"
   ]
  },
  {
   "cell_type": "code",
   "execution_count": 184,
   "metadata": {},
   "outputs": [],
   "source": [
    "#print (cotizacion)"
   ]
  },
  {
   "cell_type": "code",
   "execution_count": 185,
   "metadata": {},
   "outputs": [],
   "source": [
    "#cotizacion.dtype"
   ]
  },
  {
   "cell_type": "code",
   "execution_count": null,
   "metadata": {},
   "outputs": [],
   "source": []
  },
  {
   "cell_type": "code",
   "execution_count": 186,
   "metadata": {
    "colab": {
     "autoexec": {
      "startup": false,
      "wait_interval": 0
     },
     "base_uri": "https://localhost:8080/",
     "height": 880
    },
    "colab_type": "code",
    "executionInfo": {
     "elapsed": 3416,
     "status": "error",
     "timestamp": 1532889214320,
     "user": {
      "displayName": "Leonardo Cohen",
      "photoUrl": "//lh3.googleusercontent.com/-ZVG6Qpl3dpA/AAAAAAAAAAI/AAAAAAAAB1w/YN4cUrfGx5o/s50-c-k-no/photo.jpg",
      "userId": "113109704615914430953"
     },
     "user_tz": 180
    },
    "id": "80c8956f-2e08-49b5-90c6-f97c6a9676ad",
    "outputId": "7b18e3c0-8742-4a61-e229-844140d5f3d6",
    "slideshow": {
     "slide_type": "slide"
    }
   },
   "outputs": [
    {
     "name": "stdout",
     "output_type": "stream",
     "text": [
      "Index(['Unnamed: 0', 'operation', 'property_type', 'place_name',\n",
      "       'place_with_parent_names', 'country_name', 'state_name', 'geonames_id',\n",
      "       'lat-lon', 'lat', 'lon', 'price', 'currency',\n",
      "       'price_aprox_local_currency', 'price_aprox_usd', 'surface_total_in_m2',\n",
      "       'surface_covered_in_m2', 'price_usd_per_m2', 'price_per_m2', 'floor',\n",
      "       'rooms', 'expenses', 'properati_url', 'description', 'title',\n",
      "       'image_thumbnail'],\n",
      "      dtype='object')\n",
      "<class 'pandas.core.frame.DataFrame'>\n",
      "RangeIndex: 121220 entries, 0 to 121219\n",
      "Data columns (total 26 columns):\n",
      "Unnamed: 0                    121220 non-null int64\n",
      "operation                     121220 non-null object\n",
      "property_type                 121220 non-null object\n",
      "place_name                    121197 non-null object\n",
      "place_with_parent_names       121220 non-null object\n",
      "country_name                  121220 non-null object\n",
      "state_name                    121220 non-null object\n",
      "geonames_id                   102503 non-null float64\n",
      "lat-lon                       69670 non-null object\n",
      "lat                           69670 non-null float64\n",
      "lon                           69670 non-null float64\n",
      "price                         100810 non-null float64\n",
      "currency                      100809 non-null object\n",
      "price_aprox_local_currency    100810 non-null float64\n",
      "price_aprox_usd               100810 non-null float64\n",
      "surface_total_in_m2           81892 non-null float64\n",
      "surface_covered_in_m2         101313 non-null float64\n",
      "price_usd_per_m2              68617 non-null float64\n",
      "price_per_m2                  87658 non-null float64\n",
      "floor                         7899 non-null float64\n",
      "rooms                         47390 non-null float64\n",
      "expenses                      14262 non-null float64\n",
      "properati_url                 121220 non-null object\n",
      "description                   121218 non-null object\n",
      "title                         121220 non-null object\n",
      "image_thumbnail               118108 non-null object\n",
      "dtypes: float64(13), int64(1), object(12)\n",
      "memory usage: 24.0+ MB\n"
     ]
    }
   ],
   "source": [
    "# Cargar la data\n",
    "df = pd.read_csv('properatti.csv')  # DATOS DE PROPIEDADES EN VENTA PROPERATI\n",
    "print(df.columns)\n",
    "df.info()\n"
   ]
  },
  {
   "cell_type": "code",
   "execution_count": 187,
   "metadata": {},
   "outputs": [
    {
     "data": {
      "text/html": [
       "<div>\n",
       "<style scoped>\n",
       "    .dataframe tbody tr th:only-of-type {\n",
       "        vertical-align: middle;\n",
       "    }\n",
       "\n",
       "    .dataframe tbody tr th {\n",
       "        vertical-align: top;\n",
       "    }\n",
       "\n",
       "    .dataframe thead th {\n",
       "        text-align: right;\n",
       "    }\n",
       "</style>\n",
       "<table border=\"1\" class=\"dataframe\">\n",
       "  <thead>\n",
       "    <tr style=\"text-align: right;\">\n",
       "      <th></th>\n",
       "      <th>Unnamed: 0</th>\n",
       "      <th>operation</th>\n",
       "      <th>property_type</th>\n",
       "      <th>place_name</th>\n",
       "      <th>place_with_parent_names</th>\n",
       "      <th>country_name</th>\n",
       "      <th>state_name</th>\n",
       "      <th>geonames_id</th>\n",
       "      <th>lat-lon</th>\n",
       "      <th>lat</th>\n",
       "      <th>...</th>\n",
       "      <th>surface_covered_in_m2</th>\n",
       "      <th>price_usd_per_m2</th>\n",
       "      <th>price_per_m2</th>\n",
       "      <th>floor</th>\n",
       "      <th>rooms</th>\n",
       "      <th>expenses</th>\n",
       "      <th>properati_url</th>\n",
       "      <th>description</th>\n",
       "      <th>title</th>\n",
       "      <th>image_thumbnail</th>\n",
       "    </tr>\n",
       "  </thead>\n",
       "  <tbody>\n",
       "    <tr>\n",
       "      <th>0</th>\n",
       "      <td>0</td>\n",
       "      <td>sell</td>\n",
       "      <td>PH</td>\n",
       "      <td>Mataderos</td>\n",
       "      <td>|Argentina|Capital Federal|Mataderos|</td>\n",
       "      <td>Argentina</td>\n",
       "      <td>Capital Federal</td>\n",
       "      <td>3430787.0</td>\n",
       "      <td>-34.6618237,-58.5088387</td>\n",
       "      <td>-34.661824</td>\n",
       "      <td>...</td>\n",
       "      <td>40.0</td>\n",
       "      <td>1127.272727</td>\n",
       "      <td>1550.0</td>\n",
       "      <td>NaN</td>\n",
       "      <td>NaN</td>\n",
       "      <td>NaN</td>\n",
       "      <td>http://www.properati.com.ar/15bo8_venta_ph_mat...</td>\n",
       "      <td>2 AMBIENTES TIPO CASA PLANTA BAJA POR PASILLO,...</td>\n",
       "      <td>2 AMB TIPO CASA SIN EXPENSAS EN PB</td>\n",
       "      <td>https://thumbs4.properati.com/8/BluUYiHJLhgIIK...</td>\n",
       "    </tr>\n",
       "    <tr>\n",
       "      <th>1</th>\n",
       "      <td>1</td>\n",
       "      <td>sell</td>\n",
       "      <td>apartment</td>\n",
       "      <td>La Plata</td>\n",
       "      <td>|Argentina|Bs.As. G.B.A. Zona Sur|La Plata|</td>\n",
       "      <td>Argentina</td>\n",
       "      <td>Bs.As. G.B.A. Zona Sur</td>\n",
       "      <td>3432039.0</td>\n",
       "      <td>-34.9038831,-57.9643295</td>\n",
       "      <td>-34.903883</td>\n",
       "      <td>...</td>\n",
       "      <td>NaN</td>\n",
       "      <td>NaN</td>\n",
       "      <td>NaN</td>\n",
       "      <td>NaN</td>\n",
       "      <td>NaN</td>\n",
       "      <td>NaN</td>\n",
       "      <td>http://www.properati.com.ar/15bob_venta_depart...</td>\n",
       "      <td>Venta de departamento en décimo piso al frente...</td>\n",
       "      <td>VENTA Depto 2 dorm. a estrenar 7 e/ 36 y 37   ...</td>\n",
       "      <td>https://thumbs4.properati.com/7/ikpVBu2ztHA7jv...</td>\n",
       "    </tr>\n",
       "  </tbody>\n",
       "</table>\n",
       "<p>2 rows × 26 columns</p>\n",
       "</div>"
      ],
      "text/plain": [
       "   Unnamed: 0 operation property_type place_name  \\\n",
       "0           0      sell            PH  Mataderos   \n",
       "1           1      sell     apartment   La Plata   \n",
       "\n",
       "                       place_with_parent_names country_name  \\\n",
       "0        |Argentina|Capital Federal|Mataderos|    Argentina   \n",
       "1  |Argentina|Bs.As. G.B.A. Zona Sur|La Plata|    Argentina   \n",
       "\n",
       "               state_name  geonames_id                  lat-lon        lat  \\\n",
       "0         Capital Federal    3430787.0  -34.6618237,-58.5088387 -34.661824   \n",
       "1  Bs.As. G.B.A. Zona Sur    3432039.0  -34.9038831,-57.9643295 -34.903883   \n",
       "\n",
       "                         ...                          surface_covered_in_m2  \\\n",
       "0                        ...                                           40.0   \n",
       "1                        ...                                            NaN   \n",
       "\n",
       "   price_usd_per_m2 price_per_m2  floor  rooms  expenses  \\\n",
       "0       1127.272727       1550.0    NaN    NaN       NaN   \n",
       "1               NaN          NaN    NaN    NaN       NaN   \n",
       "\n",
       "                                       properati_url  \\\n",
       "0  http://www.properati.com.ar/15bo8_venta_ph_mat...   \n",
       "1  http://www.properati.com.ar/15bob_venta_depart...   \n",
       "\n",
       "                                         description  \\\n",
       "0  2 AMBIENTES TIPO CASA PLANTA BAJA POR PASILLO,...   \n",
       "1  Venta de departamento en décimo piso al frente...   \n",
       "\n",
       "                                               title  \\\n",
       "0                 2 AMB TIPO CASA SIN EXPENSAS EN PB   \n",
       "1  VENTA Depto 2 dorm. a estrenar 7 e/ 36 y 37   ...   \n",
       "\n",
       "                                     image_thumbnail  \n",
       "0  https://thumbs4.properati.com/8/BluUYiHJLhgIIK...  \n",
       "1  https://thumbs4.properati.com/7/ikpVBu2ztHA7jv...  \n",
       "\n",
       "[2 rows x 26 columns]"
      ]
     },
     "execution_count": 187,
     "metadata": {},
     "output_type": "execute_result"
    }
   ],
   "source": [
    "df.head(2)"
   ]
  },
  {
   "cell_type": "code",
   "execution_count": null,
   "metadata": {},
   "outputs": [],
   "source": []
  },
  {
   "cell_type": "code",
   "execution_count": 188,
   "metadata": {},
   "outputs": [],
   "source": [
    "###CANT OPERACIONES\n",
    "cantOperaciones = df.operation.count()"
   ]
  },
  {
   "cell_type": "code",
   "execution_count": 189,
   "metadata": {
    "colab": {
     "autoexec": {
      "startup": false,
      "wait_interval": 0
     }
    },
    "colab_type": "code",
    "id": "1AcE7bkiNgRN",
    "outputId": "3cbfcc1b-5cca-44f0-ce3b-dec9498c0281"
   },
   "outputs": [
    {
     "data": {
      "text/plain": [
       "Unnamed: 0                      int64\n",
       "operation                      object\n",
       "property_type                  object\n",
       "place_name                     object\n",
       "place_with_parent_names        object\n",
       "country_name                   object\n",
       "state_name                     object\n",
       "geonames_id                   float64\n",
       "lat-lon                        object\n",
       "lat                           float64\n",
       "lon                           float64\n",
       "price                         float64\n",
       "currency                       object\n",
       "price_aprox_local_currency    float64\n",
       "price_aprox_usd               float64\n",
       "surface_total_in_m2           float64\n",
       "surface_covered_in_m2         float64\n",
       "price_usd_per_m2              float64\n",
       "price_per_m2                  float64\n",
       "floor                         float64\n",
       "rooms                         float64\n",
       "expenses                      float64\n",
       "properati_url                  object\n",
       "description                    object\n",
       "title                          object\n",
       "image_thumbnail                object\n",
       "dtype: object"
      ]
     },
     "execution_count": 189,
     "metadata": {},
     "output_type": "execute_result"
    }
   ],
   "source": [
    "df.dtypes\n",
    "#df['currency'].head()"
   ]
  },
  {
   "cell_type": "code",
   "execution_count": 190,
   "metadata": {},
   "outputs": [],
   "source": [
    "#Cuento los null\n",
    "\n"
   ]
  },
  {
   "cell_type": "code",
   "execution_count": 191,
   "metadata": {},
   "outputs": [],
   "source": [
    "dfInconsistentes = (df.isnull().sum())\n"
   ]
  },
  {
   "cell_type": "code",
   "execution_count": 301,
   "metadata": {},
   "outputs": [
    {
     "name": "stderr",
     "output_type": "stream",
     "text": [
      "/opt/conda/lib/python3.6/site-packages/ipykernel_launcher.py:11: SettingWithCopyWarning: \n",
      "A value is trying to be set on a copy of a slice from a DataFrame\n",
      "\n",
      "See the caveats in the documentation: http://pandas.pydata.org/pandas-docs/stable/indexing.html#indexing-view-versus-copy\n",
      "  # This is added back by InteractiveShellApp.init_path()\n"
     ]
    },
    {
     "data": {
      "text/html": [
       "<div>\n",
       "<style scoped>\n",
       "    .dataframe tbody tr th:only-of-type {\n",
       "        vertical-align: middle;\n",
       "    }\n",
       "\n",
       "    .dataframe tbody tr th {\n",
       "        vertical-align: top;\n",
       "    }\n",
       "\n",
       "    .dataframe thead th {\n",
       "        text-align: right;\n",
       "    }\n",
       "</style>\n",
       "<table border=\"1\" class=\"dataframe\">\n",
       "  <thead>\n",
       "    <tr style=\"text-align: right;\">\n",
       "      <th></th>\n",
       "      <th>Prob_Error</th>\n",
       "      <th>Cant</th>\n",
       "      <th>CantOper</th>\n",
       "      <th>CantDistinct</th>\n",
       "    </tr>\n",
       "  </thead>\n",
       "  <tbody>\n",
       "    <tr>\n",
       "      <th>count</th>\n",
       "      <td>8.0</td>\n",
       "      <td>8.0</td>\n",
       "      <td>8.0</td>\n",
       "      <td>8.000000</td>\n",
       "    </tr>\n",
       "    <tr>\n",
       "      <th>mean</th>\n",
       "      <td>0.0</td>\n",
       "      <td>0.0</td>\n",
       "      <td>121220.0</td>\n",
       "      <td>39542.875000</td>\n",
       "    </tr>\n",
       "    <tr>\n",
       "      <th>std</th>\n",
       "      <td>0.0</td>\n",
       "      <td>0.0</td>\n",
       "      <td>0.0</td>\n",
       "      <td>56273.360631</td>\n",
       "    </tr>\n",
       "    <tr>\n",
       "      <th>min</th>\n",
       "      <td>0.0</td>\n",
       "      <td>0.0</td>\n",
       "      <td>121220.0</td>\n",
       "      <td>1.000000</td>\n",
       "    </tr>\n",
       "    <tr>\n",
       "      <th>25%</th>\n",
       "      <td>0.0</td>\n",
       "      <td>0.0</td>\n",
       "      <td>121220.0</td>\n",
       "      <td>3.250000</td>\n",
       "    </tr>\n",
       "    <tr>\n",
       "      <th>50%</th>\n",
       "      <td>0.0</td>\n",
       "      <td>0.0</td>\n",
       "      <td>121220.0</td>\n",
       "      <td>596.000000</td>\n",
       "    </tr>\n",
       "    <tr>\n",
       "      <th>75%</th>\n",
       "      <td>0.0</td>\n",
       "      <td>0.0</td>\n",
       "      <td>121220.0</td>\n",
       "      <td>84833.750000</td>\n",
       "    </tr>\n",
       "    <tr>\n",
       "      <th>max</th>\n",
       "      <td>0.0</td>\n",
       "      <td>0.0</td>\n",
       "      <td>121220.0</td>\n",
       "      <td>121220.000000</td>\n",
       "    </tr>\n",
       "  </tbody>\n",
       "</table>\n",
       "</div>"
      ],
      "text/plain": [
       "       Prob_Error  Cant  CantOper   CantDistinct\n",
       "count         8.0   8.0       8.0       8.000000\n",
       "mean          0.0   0.0  121220.0   39542.875000\n",
       "std           0.0   0.0       0.0   56273.360631\n",
       "min           0.0   0.0  121220.0       1.000000\n",
       "25%           0.0   0.0  121220.0       3.250000\n",
       "50%           0.0   0.0  121220.0     596.000000\n",
       "75%           0.0   0.0  121220.0   84833.750000\n",
       "max           0.0   0.0  121220.0  121220.000000"
      ]
     },
     "execution_count": 301,
     "metadata": {},
     "output_type": "execute_result"
    }
   ],
   "source": [
    "#####ARMO UN DF para medir la calidad de los datos\n",
    "###Controlo la cantidad de elementos distintos\n",
    "###COntrolo la prob de error que es NAN/Total\n",
    "###Me quedo con los que no tienen error son pocos . \n",
    "pd.Series( (dfInconsistentes.values/cantOperaciones))\n",
    "df_ = pd.DataFrame(data=None,index=None)\n",
    "dfCalidad = df_.fillna(0)\n",
    "dfCalidad['Prob_Error'] =dfInconsistentes/ cantOperaciones\n",
    "dfCalidad['Cant']=(df.isnull().sum())\n",
    "dfCalidad['CantOper']=(cantOperaciones)\n",
    "dfCalidad['CantDistinct']=pd.Series(data=None,index=None)\n",
    "\n",
    "\n",
    "for i in dfCalidad[dfCalidad.Prob_Error==0].index:\n",
    "    dfCalidad.CantDistinct[i]=df[i].unique().size\n",
    "\n",
    "dfHQuality= dfCalidad[dfCalidad.Prob_Error==0]\n",
    "    \n",
    "dfHQuality.describe()"
   ]
  },
  {
   "cell_type": "code",
   "execution_count": 302,
   "metadata": {},
   "outputs": [
    {
     "data": {
      "text/html": [
       "<div>\n",
       "<style scoped>\n",
       "    .dataframe tbody tr th:only-of-type {\n",
       "        vertical-align: middle;\n",
       "    }\n",
       "\n",
       "    .dataframe tbody tr th {\n",
       "        vertical-align: top;\n",
       "    }\n",
       "\n",
       "    .dataframe thead th {\n",
       "        text-align: right;\n",
       "    }\n",
       "</style>\n",
       "<table border=\"1\" class=\"dataframe\">\n",
       "  <thead>\n",
       "    <tr style=\"text-align: right;\">\n",
       "      <th></th>\n",
       "      <th>Prob_Error</th>\n",
       "      <th>Cant</th>\n",
       "      <th>CantOper</th>\n",
       "      <th>CantDistinct</th>\n",
       "    </tr>\n",
       "  </thead>\n",
       "  <tbody>\n",
       "    <tr>\n",
       "      <th>operation</th>\n",
       "      <td>0.0</td>\n",
       "      <td>0</td>\n",
       "      <td>121220</td>\n",
       "      <td>1.0</td>\n",
       "    </tr>\n",
       "    <tr>\n",
       "      <th>property_type</th>\n",
       "      <td>0.0</td>\n",
       "      <td>0</td>\n",
       "      <td>121220</td>\n",
       "      <td>4.0</td>\n",
       "    </tr>\n",
       "    <tr>\n",
       "      <th>country_name</th>\n",
       "      <td>0.0</td>\n",
       "      <td>0</td>\n",
       "      <td>121220</td>\n",
       "      <td>1.0</td>\n",
       "    </tr>\n",
       "    <tr>\n",
       "      <th>state_name</th>\n",
       "      <td>0.0</td>\n",
       "      <td>0</td>\n",
       "      <td>121220</td>\n",
       "      <td>28.0</td>\n",
       "    </tr>\n",
       "  </tbody>\n",
       "</table>\n",
       "</div>"
      ],
      "text/plain": [
       "               Prob_Error  Cant  CantOper  CantDistinct\n",
       "operation             0.0     0    121220           1.0\n",
       "property_type         0.0     0    121220           4.0\n",
       "country_name          0.0     0    121220           1.0\n",
       "state_name            0.0     0    121220          28.0"
      ]
     },
     "execution_count": 302,
     "metadata": {},
     "output_type": "execute_result"
    }
   ],
   "source": [
    "#######Estos son los claves\n",
    "dfHQuality[dfHQuality.CantDistinct < dfHQuality.CantDistinct.quantile(0.5)]"
   ]
  },
  {
   "cell_type": "code",
   "execution_count": 306,
   "metadata": {},
   "outputs": [
    {
     "data": {
      "text/plain": [
       "<matplotlib.axes._subplots.AxesSubplot at 0x7f7ee19d9898>"
      ]
     },
     "execution_count": 306,
     "metadata": {},
     "output_type": "execute_result"
    },
    {
     "data": {
      "image/png": "[encoded data removed]",
      "text/plain": [
       "<Figure size 432x288 with 1 Axes>"
      ]
     },
     "metadata": {},
     "output_type": "display_data"
    }
   ],
   "source": [
    "#####Densidad\n",
    "plt.figure\n",
    "dfCalidad.Prob_Error.plot.kde()"
   ]
  },
  {
   "cell_type": "code",
   "execution_count": 310,
   "metadata": {},
   "outputs": [
    {
     "data": {
      "text/plain": [
       "array([[<matplotlib.axes._subplots.AxesSubplot object at 0x7f7ee363db70>,\n",
       "        <matplotlib.axes._subplots.AxesSubplot object at 0x7f7ee1f03208>,\n",
       "        <matplotlib.axes._subplots.AxesSubplot object at 0x7f7ee33b0438>,\n",
       "        <matplotlib.axes._subplots.AxesSubplot object at 0x7f7ee2df6ba8>],\n",
       "       [<matplotlib.axes._subplots.AxesSubplot object at 0x7f7ee2da3438>,\n",
       "        <matplotlib.axes._subplots.AxesSubplot object at 0x7f7ee2da3400>,\n",
       "        <matplotlib.axes._subplots.AxesSubplot object at 0x7f7ee2ce2208>,\n",
       "        <matplotlib.axes._subplots.AxesSubplot object at 0x7f7ee238b9b0>],\n",
       "       [<matplotlib.axes._subplots.AxesSubplot object at 0x7f7ee221d208>,\n",
       "        <matplotlib.axes._subplots.AxesSubplot object at 0x7f7ee2226908>,\n",
       "        <matplotlib.axes._subplots.AxesSubplot object at 0x7f7ee1e6a3c8>,\n",
       "        <matplotlib.axes._subplots.AxesSubplot object at 0x7f7ee1d322e8>],\n",
       "       [<matplotlib.axes._subplots.AxesSubplot object at 0x7f7ee5c308d0>,\n",
       "        <matplotlib.axes._subplots.AxesSubplot object at 0x7f7ee36e5ef0>,\n",
       "        <matplotlib.axes._subplots.AxesSubplot object at 0x7f7ee34c26a0>,\n",
       "        <matplotlib.axes._subplots.AxesSubplot object at 0x7f7ee31eccc0>],\n",
       "       [<matplotlib.axes._subplots.AxesSubplot object at 0x7f7ee31efb70>,\n",
       "        <matplotlib.axes._subplots.AxesSubplot object at 0x7f7ee30cfc50>,\n",
       "        <matplotlib.axes._subplots.AxesSubplot object at 0x7f7ee30accf8>,\n",
       "        <matplotlib.axes._subplots.AxesSubplot object at 0x7f7ee30839b0>]],\n",
       "      dtype=object)"
      ]
     },
     "execution_count": 310,
     "metadata": {},
     "output_type": "execute_result"
    },
    {
     "data": {
      "image/png": "[encoded data removed]",
      "text/plain": [
       "<Figure size 1440x720 with 20 Axes>"
      ]
     },
     "metadata": {},
     "output_type": "display_data"
    }
   ],
   "source": [
    "df.hist(figsize=(20,10))"
   ]
  },
  {
   "cell_type": "code",
   "execution_count": 312,
   "metadata": {},
   "outputs": [
    {
     "data": {
      "text/plain": [
       "array([[<matplotlib.axes._subplots.AxesSubplot object at 0x7f7ee6359358>,\n",
       "        <matplotlib.axes._subplots.AxesSubplot object at 0x7f7ee6365780>,\n",
       "        <matplotlib.axes._subplots.AxesSubplot object at 0x7f7ee63726a0>,\n",
       "        <matplotlib.axes._subplots.AxesSubplot object at 0x7f7ee637dc88>,\n",
       "        <matplotlib.axes._subplots.AxesSubplot object at 0x7f7ee63877b8>,\n",
       "        <matplotlib.axes._subplots.AxesSubplot object at 0x7f7ee63877f0>,\n",
       "        <matplotlib.axes._subplots.AxesSubplot object at 0x7f7ee631c828>,\n",
       "        <matplotlib.axes._subplots.AxesSubplot object at 0x7f7ee6324e48>,\n",
       "        <matplotlib.axes._subplots.AxesSubplot object at 0x7f7ee63305f8>,\n",
       "        <matplotlib.axes._subplots.AxesSubplot object at 0x7f7ee633a7f0>,\n",
       "        <matplotlib.axes._subplots.AxesSubplot object at 0x7f7ee63450b8>,\n",
       "        <matplotlib.axes._subplots.AxesSubplot object at 0x7f7ee62cf898>,\n",
       "        <matplotlib.axes._subplots.AxesSubplot object at 0x7f7ee62d8b38>,\n",
       "        <matplotlib.axes._subplots.AxesSubplot object at 0x7f7ee62e2be0>,\n",
       "        <matplotlib.axes._subplots.AxesSubplot object at 0x7f7ee62ead68>,\n",
       "        <matplotlib.axes._subplots.AxesSubplot object at 0x7f7ee62f6358>,\n",
       "        <matplotlib.axes._subplots.AxesSubplot object at 0x7f7ee63003c8>],\n",
       "       [<matplotlib.axes._subplots.AxesSubplot object at 0x7f7ee6309208>,\n",
       "        <matplotlib.axes._subplots.AxesSubplot object at 0x7f7ee6291f28>,\n",
       "        <matplotlib.axes._subplots.AxesSubplot object at 0x7f7ee6299f28>,\n",
       "        <matplotlib.axes._subplots.AxesSubplot object at 0x7f7ee62a2dd8>,\n",
       "        <matplotlib.axes._subplots.AxesSubplot object at 0x7f7ee62aaa90>,\n",
       "        <matplotlib.axes._subplots.AxesSubplot object at 0x7f7ee62b4748>,\n",
       "        <matplotlib.axes._subplots.AxesSubplot object at 0x7f7ee62be748>,\n",
       "        <matplotlib.axes._subplots.AxesSubplot object at 0x7f7ee62c86a0>,\n",
       "        <matplotlib.axes._subplots.AxesSubplot object at 0x7f7ee62514e0>,\n",
       "        <matplotlib.axes._subplots.AxesSubplot object at 0x7f7ee625b630>,\n",
       "        <matplotlib.axes._subplots.AxesSubplot object at 0x7f7ee6264ac8>,\n",
       "        <matplotlib.axes._subplots.AxesSubplot object at 0x7f7ee626dbe0>,\n",
       "        <matplotlib.axes._subplots.AxesSubplot object at 0x7f7ee6278c50>,\n",
       "        <matplotlib.axes._subplots.AxesSubplot object at 0x7f7ee6280d30>,\n",
       "        <matplotlib.axes._subplots.AxesSubplot object at 0x7f7ee628aeb8>,\n",
       "        <matplotlib.axes._subplots.AxesSubplot object at 0x7f7ee62184e0>,\n",
       "        <matplotlib.axes._subplots.AxesSubplot object at 0x7f7ee6222d30>],\n",
       "       [<matplotlib.axes._subplots.AxesSubplot object at 0x7f7ee62323c8>,\n",
       "        <matplotlib.axes._subplots.AxesSubplot object at 0x7f7ee6240b70>,\n",
       "        <matplotlib.axes._subplots.AxesSubplot object at 0x7f7ee624bba8>,\n",
       "        <matplotlib.axes._subplots.AxesSubplot object at 0x7f7ee61db160>,\n",
       "        <matplotlib.axes._subplots.AxesSubplot object at 0x7f7ee61e55f8>,\n",
       "        <matplotlib.axes._subplots.AxesSubplot object at 0x7f7ee61ee6a0>,\n",
       "        <matplotlib.axes._subplots.AxesSubplot object at 0x7f7ee61fb780>,\n",
       "        <matplotlib.axes._subplots.AxesSubplot object at 0x7f7ee6209198>,\n",
       "        <matplotlib.axes._subplots.AxesSubplot object at 0x7f7ee61549b0>,\n",
       "        <matplotlib.axes._subplots.AxesSubplot object at 0x7f7ee6161c88>,\n",
       "        <matplotlib.axes._subplots.AxesSubplot object at 0x7f7ee616f4e0>,\n",
       "        <matplotlib.axes._subplots.AxesSubplot object at 0x7f7ee617b898>,\n",
       "        <matplotlib.axes._subplots.AxesSubplot object at 0x7f7ee6188fd0>,\n",
       "        <matplotlib.axes._subplots.AxesSubplot object at 0x7f7ee6117748>,\n",
       "        <matplotlib.axes._subplots.AxesSubplot object at 0x7f7ee6123ac8>,\n",
       "        <matplotlib.axes._subplots.AxesSubplot object at 0x7f7ee6131630>,\n",
       "        <matplotlib.axes._subplots.AxesSubplot object at 0x7f7ee613ec88>],\n",
       "       [<matplotlib.axes._subplots.AxesSubplot object at 0x7f7ee614b048>,\n",
       "        <matplotlib.axes._subplots.AxesSubplot object at 0x7f7ee60d9390>,\n",
       "        <matplotlib.axes._subplots.AxesSubplot object at 0x7f7ee60e5710>,\n",
       "        <matplotlib.axes._subplots.AxesSubplot object at 0x7f7ee60f30f0>,\n",
       "        <matplotlib.axes._subplots.AxesSubplot object at 0x7f7ee60fbc50>,\n",
       "        <matplotlib.axes._subplots.AxesSubplot object at 0x7f7ee6105898>,\n",
       "        <matplotlib.axes._subplots.AxesSubplot object at 0x7f7ee6091b70>,\n",
       "        <matplotlib.axes._subplots.AxesSubplot object at 0x7f7ee609f390>,\n",
       "        <matplotlib.axes._subplots.AxesSubplot object at 0x7f7ee60ac320>,\n",
       "        <matplotlib.axes._subplots.AxesSubplot object at 0x7f7ee60bf7f0>,\n",
       "        <matplotlib.axes._subplots.AxesSubplot object at 0x7f7ee604f668>,\n",
       "        <matplotlib.axes._subplots.AxesSubplot object at 0x7f7ee605aa20>,\n",
       "        <matplotlib.axes._subplots.AxesSubplot object at 0x7f7ee6069d68>,\n",
       "        <matplotlib.axes._subplots.AxesSubplot object at 0x7f7ee6076e10>,\n",
       "        <matplotlib.axes._subplots.AxesSubplot object at 0x7f7ee60862e8>,\n",
       "        <matplotlib.axes._subplots.AxesSubplot object at 0x7f7ee6014550>,\n",
       "        <matplotlib.axes._subplots.AxesSubplot object at 0x7f7ee60209b0>],\n",
       "       [<matplotlib.axes._subplots.AxesSubplot object at 0x7f7ee63c7fd0>,\n",
       "        <matplotlib.axes._subplots.AxesSubplot object at 0x7f7ee6357128>,\n",
       "        <matplotlib.axes._subplots.AxesSubplot object at 0x7f7ee240be10>,\n",
       "        <matplotlib.axes._subplots.AxesSubplot object at 0x7f7ee602cba8>,\n",
       "        <matplotlib.axes._subplots.AxesSubplot object at 0x7f7ee603be48>,\n",
       "        <matplotlib.axes._subplots.AxesSubplot object at 0x7f7ee60460f0>,\n",
       "        <matplotlib.axes._subplots.AxesSubplot object at 0x7f7ee5fd1390>,\n",
       "        <matplotlib.axes._subplots.AxesSubplot object at 0x7f7ee5fde7b8>,\n",
       "        <matplotlib.axes._subplots.AxesSubplot object at 0x7f7ee5feba20>,\n",
       "        <matplotlib.axes._subplots.AxesSubplot object at 0x7f7ee5ff8828>,\n",
       "        <matplotlib.axes._subplots.AxesSubplot object at 0x7f7ee6004d30>,\n",
       "        <matplotlib.axes._subplots.AxesSubplot object at 0x7f7ee5f922b0>,\n",
       "        <matplotlib.axes._subplots.AxesSubplot object at 0x7f7ee5f9f6d8>,\n",
       "        <matplotlib.axes._subplots.AxesSubplot object at 0x7f7ee5fabb70>,\n",
       "        <matplotlib.axes._subplots.AxesSubplot object at 0x7f7ee5fb7b70>,\n",
       "        <matplotlib.axes._subplots.AxesSubplot object at 0x7f7ee5fc7240>,\n",
       "        <matplotlib.axes._subplots.AxesSubplot object at 0x7f7ee5f50ef0>],\n",
       "       [<matplotlib.axes._subplots.AxesSubplot object at 0x7f7ee5f5d198>,\n",
       "        <matplotlib.axes._subplots.AxesSubplot object at 0x7f7ee5f6a518>,\n",
       "        <matplotlib.axes._subplots.AxesSubplot object at 0x7f7ee5f74b00>,\n",
       "        <matplotlib.axes._subplots.AxesSubplot object at 0x7f7ee5f83ef0>,\n",
       "        <matplotlib.axes._subplots.AxesSubplot object at 0x7f7ee5f10f28>,\n",
       "        <matplotlib.axes._subplots.AxesSubplot object at 0x7f7ee5f1def0>,\n",
       "        <matplotlib.axes._subplots.AxesSubplot object at 0x7f7ee5f2c400>,\n",
       "        <matplotlib.axes._subplots.AxesSubplot object at 0x7f7ee5f3a470>,\n",
       "        <matplotlib.axes._subplots.AxesSubplot object at 0x7f7ee5f455f8>,\n",
       "        <matplotlib.axes._subplots.AxesSubplot object at 0x7f7ee5ed3748>,\n",
       "        <matplotlib.axes._subplots.AxesSubplot object at 0x7f7ee5edecc0>,\n",
       "        <matplotlib.axes._subplots.AxesSubplot object at 0x7f7ee5ee8d30>,\n",
       "        <matplotlib.axes._subplots.AxesSubplot object at 0x7f7ee5ef6c88>,\n",
       "        <matplotlib.axes._subplots.AxesSubplot object at 0x7f7ee5f02eb8>,\n",
       "        <matplotlib.axes._subplots.AxesSubplot object at 0x7f7ee5f0ebe0>,\n",
       "        <matplotlib.axes._subplots.AxesSubplot object at 0x7f7ee5e9bef0>,\n",
       "        <matplotlib.axes._subplots.AxesSubplot object at 0x7f7ee5eac160>],\n",
       "       [<matplotlib.axes._subplots.AxesSubplot object at 0x7f7ee5eb8358>,\n",
       "        <matplotlib.axes._subplots.AxesSubplot object at 0x7f7ee5ec3828>,\n",
       "        <matplotlib.axes._subplots.AxesSubplot object at 0x7f7ee5e4f7b8>,\n",
       "        <matplotlib.axes._subplots.AxesSubplot object at 0x7f7ee5e5ba58>,\n",
       "        <matplotlib.axes._subplots.AxesSubplot object at 0x7f7ee5e6aba8>,\n",
       "        <matplotlib.axes._subplots.AxesSubplot object at 0x7f7ee5e7dd30>,\n",
       "        <matplotlib.axes._subplots.AxesSubplot object at 0x7f7ee5e8c0b8>,\n",
       "        <matplotlib.axes._subplots.AxesSubplot object at 0x7f7ee5e1bdd8>,\n",
       "        <matplotlib.axes._subplots.AxesSubplot object at 0x7f7ee5e27cf8>,\n",
       "        <matplotlib.axes._subplots.AxesSubplot object at 0x7f7ee5e34da0>,\n",
       "        <matplotlib.axes._subplots.AxesSubplot object at 0x7f7ee5e41160>,\n",
       "        <matplotlib.axes._subplots.AxesSubplot object at 0x7f7ee5e4e128>,\n",
       "        <matplotlib.axes._subplots.AxesSubplot object at 0x7f7ee5ddd320>,\n",
       "        <matplotlib.axes._subplots.AxesSubplot object at 0x7f7ee5dea438>,\n",
       "        <matplotlib.axes._subplots.AxesSubplot object at 0x7f7ee5df3c88>,\n",
       "        <matplotlib.axes._subplots.AxesSubplot object at 0x7f7ee5dfef60>,\n",
       "        <matplotlib.axes._subplots.AxesSubplot object at 0x7f7ee5e0dfd0>],\n",
       "       [<matplotlib.axes._subplots.AxesSubplot object at 0x7f7ee5d9c278>,\n",
       "        <matplotlib.axes._subplots.AxesSubplot object at 0x7f7ee5da8048>,\n",
       "        <matplotlib.axes._subplots.AxesSubplot object at 0x7f7ee5db3198>,\n",
       "        <matplotlib.axes._subplots.AxesSubplot object at 0x7f7ee5dc1160>,\n",
       "        <matplotlib.axes._subplots.AxesSubplot object at 0x7f7ee5dcd198>,\n",
       "        <matplotlib.axes._subplots.AxesSubplot object at 0x7f7ee5d57fd0>,\n",
       "        <matplotlib.axes._subplots.AxesSubplot object at 0x7f7ee5d65cf8>,\n",
       "        <matplotlib.axes._subplots.AxesSubplot object at 0x7f7ee5d71ba8>,\n",
       "        <matplotlib.axes._subplots.AxesSubplot object at 0x7f7ee5d7cf60>,\n",
       "        <matplotlib.axes._subplots.AxesSubplot object at 0x7f7ee5d8d470>,\n",
       "        <matplotlib.axes._subplots.AxesSubplot object at 0x7f7ee5d18630>,\n",
       "        <matplotlib.axes._subplots.AxesSubplot object at 0x7f7ee5d24978>,\n",
       "        <matplotlib.axes._subplots.AxesSubplot object at 0x7f7ee5d347f0>,\n",
       "        <matplotlib.axes._subplots.AxesSubplot object at 0x7f7ee5d3f908>,\n",
       "        <matplotlib.axes._subplots.AxesSubplot object at 0x7f7ee5d4d898>,\n",
       "        <matplotlib.axes._subplots.AxesSubplot object at 0x7f7ee5cda908>,\n",
       "        <matplotlib.axes._subplots.AxesSubplot object at 0x7f7ee5ce5d68>],\n",
       "       [<matplotlib.axes._subplots.AxesSubplot object at 0x7f7ee5cf2c88>,\n",
       "        <matplotlib.axes._subplots.AxesSubplot object at 0x7f7ee5d00eb8>,\n",
       "        <matplotlib.axes._subplots.AxesSubplot object at 0x7f7ee5c8f3c8>,\n",
       "        <matplotlib.axes._subplots.AxesSubplot object at 0x7f7ee5c9c4e0>,\n",
       "        <matplotlib.axes._subplots.AxesSubplot object at 0x7f7ee5caa550>,\n",
       "        <matplotlib.axes._subplots.AxesSubplot object at 0x7f7ee5cb45c0>,\n",
       "        <matplotlib.axes._subplots.AxesSubplot object at 0x7f7ee5cc0828>,\n",
       "        <matplotlib.axes._subplots.AxesSubplot object at 0x7f7ee5c4ffd0>,\n",
       "        <matplotlib.axes._subplots.AxesSubplot object at 0x7f7ee5c5ce10>,\n",
       "        <matplotlib.axes._subplots.AxesSubplot object at 0x7f7ee5c6a0b8>,\n",
       "        <matplotlib.axes._subplots.AxesSubplot object at 0x7f7ee5c78198>,\n",
       "        <matplotlib.axes._subplots.AxesSubplot object at 0x7f7ee5c830f0>,\n",
       "        <matplotlib.axes._subplots.AxesSubplot object at 0x7f7ee5c10518>,\n",
       "        <matplotlib.axes._subplots.AxesSubplot object at 0x7f7ee5c220f0>,\n",
       "        <matplotlib.axes._subplots.AxesSubplot object at 0x7f7ee5c2def0>,\n",
       "        <matplotlib.axes._subplots.AxesSubplot object at 0x7f7ee5c3ad30>,\n",
       "        <matplotlib.axes._subplots.AxesSubplot object at 0x7f7ee5c47d68>],\n",
       "       [<matplotlib.axes._subplots.AxesSubplot object at 0x7f7ee5bd7cc0>,\n",
       "        <matplotlib.axes._subplots.AxesSubplot object at 0x7f7ee5be2d30>,\n",
       "        <matplotlib.axes._subplots.AxesSubplot object at 0x7f7ee5beef98>,\n",
       "        <matplotlib.axes._subplots.AxesSubplot object at 0x7f7ee5bfc128>,\n",
       "        <matplotlib.axes._subplots.AxesSubplot object at 0x7f7ee5c0a0f0>,\n",
       "        <matplotlib.axes._subplots.AxesSubplot object at 0x7f7ee5b98eb8>,\n",
       "        <matplotlib.axes._subplots.AxesSubplot object at 0x7f7ee5ba60b8>,\n",
       "        <matplotlib.axes._subplots.AxesSubplot object at 0x7f7ee5bb20f0>,\n",
       "        <matplotlib.axes._subplots.AxesSubplot object at 0x7f7ee5bbe128>,\n",
       "        <matplotlib.axes._subplots.AxesSubplot object at 0x7f7ee5bccf60>,\n",
       "        <matplotlib.axes._subplots.AxesSubplot object at 0x7f7ee5b5a780>,\n",
       "        <matplotlib.axes._subplots.AxesSubplot object at 0x7f7ee5b65cf8>,\n",
       "        <matplotlib.axes._subplots.AxesSubplot object at 0x7f7ee5b75080>,\n",
       "        <matplotlib.axes._subplots.AxesSubplot object at 0x7f7ee5b7fe80>,\n",
       "        <matplotlib.axes._subplots.AxesSubplot object at 0x7f7ee5b8bc50>,\n",
       "        <matplotlib.axes._subplots.AxesSubplot object at 0x7f7ee5b17cc0>,\n",
       "        <matplotlib.axes._subplots.AxesSubplot object at 0x7f7ee5b23cc0>],\n",
       "       [<matplotlib.axes._subplots.AxesSubplot object at 0x7f7ee5b31b38>,\n",
       "        <matplotlib.axes._subplots.AxesSubplot object at 0x7f7ee5b44c18>,\n",
       "        <matplotlib.axes._subplots.AxesSubplot object at 0x7f7ee5acfdd8>,\n",
       "        <matplotlib.axes._subplots.AxesSubplot object at 0x7f7ee5addfd0>,\n",
       "        <matplotlib.axes._subplots.AxesSubplot object at 0x7f7ee5ae9cf8>,\n",
       "        <matplotlib.axes._subplots.AxesSubplot object at 0x7f7ee5af6cc0>,\n",
       "        <matplotlib.axes._subplots.AxesSubplot object at 0x7f7ee5b01d30>,\n",
       "        <matplotlib.axes._subplots.AxesSubplot object at 0x7f7ee5a95160>,\n",
       "        <matplotlib.axes._subplots.AxesSubplot object at 0x7f7ee5a9e860>,\n",
       "        <matplotlib.axes._subplots.AxesSubplot object at 0x7f7ee5ab2630>,\n",
       "        <matplotlib.axes._subplots.AxesSubplot object at 0x7f7ee5abf9e8>,\n",
       "        <matplotlib.axes._subplots.AxesSubplot object at 0x7f7ee5accd68>,\n",
       "        <matplotlib.axes._subplots.AxesSubplot object at 0x7f7ee5a5dd68>,\n",
       "        <matplotlib.axes._subplots.AxesSubplot object at 0x7f7ee5a69c88>,\n",
       "        <matplotlib.axes._subplots.AxesSubplot object at 0x7f7ee5a76b38>,\n",
       "        <matplotlib.axes._subplots.AxesSubplot object at 0x7f7ee5a83c50>,\n",
       "        <matplotlib.axes._subplots.AxesSubplot object at 0x7f7ee5a10b00>],\n",
       "       [<matplotlib.axes._subplots.AxesSubplot object at 0x7f7ee5a1cb00>,\n",
       "        <matplotlib.axes._subplots.AxesSubplot object at 0x7f7ee5a28cf8>,\n",
       "        <matplotlib.axes._subplots.AxesSubplot object at 0x7f7ee5a36c18>,\n",
       "        <matplotlib.axes._subplots.AxesSubplot object at 0x7f7ee5a44ef0>,\n",
       "        <matplotlib.axes._subplots.AxesSubplot object at 0x7f7ee59d8390>,\n",
       "        <matplotlib.axes._subplots.AxesSubplot object at 0x7f7ee59e5390>,\n",
       "        <matplotlib.axes._subplots.AxesSubplot object at 0x7f7ee59f1438>,\n",
       "        <matplotlib.axes._subplots.AxesSubplot object at 0x7f7ee59fd3c8>,\n",
       "        <matplotlib.axes._subplots.AxesSubplot object at 0x7f7ee5a0b438>,\n",
       "        <matplotlib.axes._subplots.AxesSubplot object at 0x7f7ee5997278>,\n",
       "        <matplotlib.axes._subplots.AxesSubplot object at 0x7f7ee59a7278>,\n",
       "        <matplotlib.axes._subplots.AxesSubplot object at 0x7f7ee59b32b0>,\n",
       "        <matplotlib.axes._subplots.AxesSubplot object at 0x7f7ee59bc898>,\n",
       "        <matplotlib.axes._subplots.AxesSubplot object at 0x7f7ee59c4fd0>,\n",
       "        <matplotlib.axes._subplots.AxesSubplot object at 0x7f7ee5954400>,\n",
       "        <matplotlib.axes._subplots.AxesSubplot object at 0x7f7ee5961f98>,\n",
       "        <matplotlib.axes._subplots.AxesSubplot object at 0x7f7ee59711d0>],\n",
       "       [<matplotlib.axes._subplots.AxesSubplot object at 0x7f7ee5981160>,\n",
       "        <matplotlib.axes._subplots.AxesSubplot object at 0x7f7ee598eeb8>,\n",
       "        <matplotlib.axes._subplots.AxesSubplot object at 0x7f7ee591efd0>,\n",
       "        <matplotlib.axes._subplots.AxesSubplot object at 0x7f7ee592bf98>,\n",
       "        <matplotlib.axes._subplots.AxesSubplot object at 0x7f7ee5939d30>,\n",
       "        <matplotlib.axes._subplots.AxesSubplot object at 0x7f7ee594a208>,\n",
       "        <matplotlib.axes._subplots.AxesSubplot object at 0x7f7ee38ddc88>,\n",
       "        <matplotlib.axes._subplots.AxesSubplot object at 0x7f7ee38ed0b8>,\n",
       "        <matplotlib.axes._subplots.AxesSubplot object at 0x7f7ee38f95f8>,\n",
       "        <matplotlib.axes._subplots.AxesSubplot object at 0x7f7ee3908400>,\n",
       "        <matplotlib.axes._subplots.AxesSubplot object at 0x7f7ee39135f8>,\n",
       "        <matplotlib.axes._subplots.AxesSubplot object at 0x7f7ee389e2b0>,\n",
       "        <matplotlib.axes._subplots.AxesSubplot object at 0x7f7ee38a8ef0>,\n",
       "        <matplotlib.axes._subplots.AxesSubplot object at 0x7f7ee38b7160>,\n",
       "        <matplotlib.axes._subplots.AxesSubplot object at 0x7f7ee38c1080>,\n",
       "        <matplotlib.axes._subplots.AxesSubplot object at 0x7f7ee38cd198>,\n",
       "        <matplotlib.axes._subplots.AxesSubplot object at 0x7f7ee38596a0>],\n",
       "       [<matplotlib.axes._subplots.AxesSubplot object at 0x7f7ee3865b38>,\n",
       "        <matplotlib.axes._subplots.AxesSubplot object at 0x7f7ee3871c18>,\n",
       "        <matplotlib.axes._subplots.AxesSubplot object at 0x7f7ee38801d0>,\n",
       "        <matplotlib.axes._subplots.AxesSubplot object at 0x7f7ee388b1d0>,\n",
       "        <matplotlib.axes._subplots.AxesSubplot object at 0x7f7ee3818780>,\n",
       "        <matplotlib.axes._subplots.AxesSubplot object at 0x7f7ee3823b70>,\n",
       "        <matplotlib.axes._subplots.AxesSubplot object at 0x7f7ee382de48>,\n",
       "        <matplotlib.axes._subplots.AxesSubplot object at 0x7f7ee383a198>,\n",
       "        <matplotlib.axes._subplots.AxesSubplot object at 0x7f7ee3845320>,\n",
       "        <matplotlib.axes._subplots.AxesSubplot object at 0x7f7ee38516a0>,\n",
       "        <matplotlib.axes._subplots.AxesSubplot object at 0x7f7ee37df6d8>,\n",
       "        <matplotlib.axes._subplots.AxesSubplot object at 0x7f7ee37ed4a8>,\n",
       "        <matplotlib.axes._subplots.AxesSubplot object at 0x7f7ee37fb240>,\n",
       "        <matplotlib.axes._subplots.AxesSubplot object at 0x7f7ee380a128>,\n",
       "        <matplotlib.axes._subplots.AxesSubplot object at 0x7f7ee3814f28>,\n",
       "        <matplotlib.axes._subplots.AxesSubplot object at 0x7f7ee379fc50>,\n",
       "        <matplotlib.axes._subplots.AxesSubplot object at 0x7f7ee37af9b0>],\n",
       "       [<matplotlib.axes._subplots.AxesSubplot object at 0x7f7ee37bb978>,\n",
       "        <matplotlib.axes._subplots.AxesSubplot object at 0x7f7ee37cbe10>,\n",
       "        <matplotlib.axes._subplots.AxesSubplot object at 0x7f7ee37591d0>,\n",
       "        <matplotlib.axes._subplots.AxesSubplot object at 0x7f7ee3764208>,\n",
       "        <matplotlib.axes._subplots.AxesSubplot object at 0x7f7ee37704a8>,\n",
       "        <matplotlib.axes._subplots.AxesSubplot object at 0x7f7ee3779550>,\n",
       "        <matplotlib.axes._subplots.AxesSubplot object at 0x7f7ee37924e0>,\n",
       "        <matplotlib.axes._subplots.AxesSubplot object at 0x7f7ee37224e0>,\n",
       "        <matplotlib.axes._subplots.AxesSubplot object at 0x7f7ee37320f0>,\n",
       "        <matplotlib.axes._subplots.AxesSubplot object at 0x7f7ee373e0f0>,\n",
       "        <matplotlib.axes._subplots.AxesSubplot object at 0x7f7ee3748f60>,\n",
       "        <matplotlib.axes._subplots.AxesSubplot object at 0x7f7ee36d6e48>,\n",
       "        <matplotlib.axes._subplots.AxesSubplot object at 0x7f7ee36e6d68>,\n",
       "        <matplotlib.axes._subplots.AxesSubplot object at 0x7f7ee36f01d0>,\n",
       "        <matplotlib.axes._subplots.AxesSubplot object at 0x7f7ee36fc5c0>,\n",
       "        <matplotlib.axes._subplots.AxesSubplot object at 0x7f7ee370a5f8>,\n",
       "        <matplotlib.axes._subplots.AxesSubplot object at 0x7f7ee3695048>],\n",
       "       [<matplotlib.axes._subplots.AxesSubplot object at 0x7f7ee36a1f28>,\n",
       "        <matplotlib.axes._subplots.AxesSubplot object at 0x7f7ee36aed68>,\n",
       "        <matplotlib.axes._subplots.AxesSubplot object at 0x7f7ee36b9f60>,\n",
       "        <matplotlib.axes._subplots.AxesSubplot object at 0x7f7ee36c5b38>,\n",
       "        <matplotlib.axes._subplots.AxesSubplot object at 0x7f7ee36d07f0>,\n",
       "        <matplotlib.axes._subplots.AxesSubplot object at 0x7f7ee365ca58>,\n",
       "        <matplotlib.axes._subplots.AxesSubplot object at 0x7f7ee366b978>,\n",
       "        <matplotlib.axes._subplots.AxesSubplot object at 0x7f7ee367d7b8>,\n",
       "        <matplotlib.axes._subplots.AxesSubplot object at 0x7f7ee368a400>,\n",
       "        <matplotlib.axes._subplots.AxesSubplot object at 0x7f7ee36153c8>,\n",
       "        <matplotlib.axes._subplots.AxesSubplot object at 0x7f7ee36272e8>,\n",
       "        <matplotlib.axes._subplots.AxesSubplot object at 0x7f7ee3639438>,\n",
       "        <matplotlib.axes._subplots.AxesSubplot object at 0x7f7ee36473c8>,\n",
       "        <matplotlib.axes._subplots.AxesSubplot object at 0x7f7ee35d5160>,\n",
       "        <matplotlib.axes._subplots.AxesSubplot object at 0x7f7ee35dfef0>,\n",
       "        <matplotlib.axes._subplots.AxesSubplot object at 0x7f7ee35edf60>,\n",
       "        <matplotlib.axes._subplots.AxesSubplot object at 0x7f7ee35fa898>],\n",
       "       [<matplotlib.axes._subplots.AxesSubplot object at 0x7f7ee3607940>,\n",
       "        <matplotlib.axes._subplots.AxesSubplot object at 0x7f7ee3610588>,\n",
       "        <matplotlib.axes._subplots.AxesSubplot object at 0x7f7ee35a0400>,\n",
       "        <matplotlib.axes._subplots.AxesSubplot object at 0x7f7ee35ac470>,\n",
       "        <matplotlib.axes._subplots.AxesSubplot object at 0x7f7ee35b9588>,\n",
       "        <matplotlib.axes._subplots.AxesSubplot object at 0x7f7ee35c5470>,\n",
       "        <matplotlib.axes._subplots.AxesSubplot object at 0x7f7ee35d2208>,\n",
       "        <matplotlib.axes._subplots.AxesSubplot object at 0x7f7ee3560f28>,\n",
       "        <matplotlib.axes._subplots.AxesSubplot object at 0x7f7ee356ec50>,\n",
       "        <matplotlib.axes._subplots.AxesSubplot object at 0x7f7ee357e240>,\n",
       "        <matplotlib.axes._subplots.AxesSubplot object at 0x7f7ee3588e80>,\n",
       "        <matplotlib.axes._subplots.AxesSubplot object at 0x7f7ee3594d68>,\n",
       "        <matplotlib.axes._subplots.AxesSubplot object at 0x7f7ee3522ba8>,\n",
       "        <matplotlib.axes._subplots.AxesSubplot object at 0x7f7ee352e978>,\n",
       "        <matplotlib.axes._subplots.AxesSubplot object at 0x7f7ee353bf28>,\n",
       "        <matplotlib.axes._subplots.AxesSubplot object at 0x7f7ee3545438>,\n",
       "        <matplotlib.axes._subplots.AxesSubplot object at 0x7f7ee354e908>]],\n",
       "      dtype=object)"
      ]
     },
     "execution_count": 312,
     "metadata": {},
     "output_type": "execute_result"
    },
    {
     "data": {
      "image/png": "[encoded data removed]",
      "text/plain": [
       "<Figure size 432x432 with 289 Axes>"
      ]
     },
     "metadata": {},
     "output_type": "display_data"
    }
   ],
   "source": [
    "from pandas.plotting import scatter_matrix\n",
    "scatter_matrix(df, alpha=0.2, figsize=(6, 6), diagonal='kde')"
   ]
  },
  {
   "cell_type": "code",
   "execution_count": 311,
   "metadata": {},
   "outputs": [
    {
     "data": {
      "image/png": "[encoded data removed]",
      "text/plain": [
       "<Figure size 432x288 with 1 Axes>"
      ]
     },
     "metadata": {},
     "output_type": "display_data"
    }
   ],
   "source": [
    "plt.figure\n",
    "dfCalidad.loc[dfCalidad.Prob_Error!=0].Prob_Error.sort_values(ascending=False).plot(kind='bar');\n",
    "\n",
    "\n"
   ]
  },
  {
   "cell_type": "code",
   "execution_count": null,
   "metadata": {},
   "outputs": [],
   "source": []
  },
  {
   "cell_type": "code",
   "execution_count": 194,
   "metadata": {},
   "outputs": [],
   "source": [
    "#dfCalidad.Prob_Error.plot(kind='density')\n"
   ]
  },
  {
   "cell_type": "code",
   "execution_count": 195,
   "metadata": {},
   "outputs": [],
   "source": [
    "#dfCalidad['Prob_Error'].plot(kind='hist', alpha=0.1)"
   ]
  },
  {
   "cell_type": "code",
   "execution_count": 196,
   "metadata": {},
   "outputs": [],
   "source": [
    "#plt.figure(figsize=(800,800));\n",
    "\n",
    "#bp = dfCalidad.boxplot(column=['Prob_Error'],return_type='axes',by=dfCalidad.index)\n"
   ]
  },
  {
   "cell_type": "code",
   "execution_count": 197,
   "metadata": {},
   "outputs": [
    {
     "data": {
      "text/plain": [
       "<matplotlib.axes._subplots.AxesSubplot at 0x7f7ee19e9ef0>"
      ]
     },
     "execution_count": 197,
     "metadata": {},
     "output_type": "execute_result"
    },
    {
     "data": {
      "image/png": "[encoded data removed]",
      "text/plain": [
       "<Figure size 432x288 with 1 Axes>"
      ]
     },
     "metadata": {},
     "output_type": "display_data"
    }
   ],
   "source": [
    "dfCalidad.plot(kind='scatter', x=0, y=1)"
   ]
  },
  {
   "cell_type": "code",
   "execution_count": 198,
   "metadata": {},
   "outputs": [],
   "source": [
    "clavesProbablesProperati=dfCalidad.loc[dfCalidad.Prob_Error==1].index"
   ]
  },
  {
   "cell_type": "code",
   "execution_count": 199,
   "metadata": {},
   "outputs": [
    {
     "data": {
      "text/plain": [
       "Index([], dtype='object')"
      ]
     },
     "execution_count": 199,
     "metadata": {},
     "output_type": "execute_result"
    }
   ],
   "source": [
    "clavesProbablesProperati[1:8]"
   ]
  },
  {
   "cell_type": "markdown",
   "metadata": {},
   "source": [
    "####DONDE ESTA FECHA?????\n",
    "df[clavesProbablesProperati[0:1][0]].unique()"
   ]
  },
  {
   "cell_type": "code",
   "execution_count": 200,
   "metadata": {},
   "outputs": [],
   "source": [
    "#pd.to_datetime(df[clavesProbablesProperati[1:8]], unit='ms')"
   ]
  },
  {
   "cell_type": "code",
   "execution_count": 201,
   "metadata": {},
   "outputs": [],
   "source": [
    "for x in clavesProbablesProperati[1:6]:\n",
    "    size=df[x].unique().size\n",
    "    print (x,size)"
   ]
  },
  {
   "cell_type": "code",
   "execution_count": 202,
   "metadata": {},
   "outputs": [],
   "source": [
    "###operaciones y pais son 1 - no hay necesidad de ver correlacion.\n"
   ]
  },
  {
   "cell_type": "code",
   "execution_count": 203,
   "metadata": {},
   "outputs": [],
   "source": [
    "##clasificadores\n",
    "dfPropertyType=pd.DataFrame(data=df.property_type.unique())\n",
    "dfPlaceParentName = pd.DataFrame(data=df.place_with_parent_names.unique())\n",
    "#dfPlaceName=pd.DataFrame(data=df.place_name.unique())\n",
    "dfStateName=pd.DataFrame(data=df.state_name.unique())\n",
    "\n"
   ]
  },
  {
   "cell_type": "code",
   "execution_count": 204,
   "metadata": {},
   "outputs": [],
   "source": [
    "def getIdByDiccionario(diccionario,valor):\n",
    "    return diccionario[diccionario.values==valor].index[0]\n",
    "\n",
    "#getIdByDiccionario(dfPlaceName,'Malabrigo')\n",
    "#dictProperaty[dictProperaty.values=='PH'].index[0]"
   ]
  },
  {
   "cell_type": "code",
   "execution_count": 217,
   "metadata": {},
   "outputs": [],
   "source": [
    "def agregaColumnaAProperatiDF(dfaux,dfdicc,nombre_col):\n",
    "    npArr = np.zeros( dfaux.size,dtype='int')\n",
    "    idx=0\n",
    "    for x in dfaux:\n",
    "        idxPT=(getIdByDiccionario(dfdicc,x))\n",
    "        npArr[idx]=idxPT\n",
    "        idx=idx+1\n",
    "    df[nombre_col]=pd.DataFrame(npArr, dtype='int')\n",
    "\n",
    "#agregaColumnaAProperatiDF(df.place_name, dfPlaceName, 'id_place_name')"
   ]
  },
  {
   "cell_type": "code",
   "execution_count": 213,
   "metadata": {},
   "outputs": [],
   "source": [
    "####Agrego COLUMNA - State Name\n",
    "npArr = np.zeros( df.state_name.size,dtype='int')\n",
    "idx=0\n",
    "for x in df.state_name:\n",
    "    idxPT=(getIdByDiccionario(dfStateName,x))\n",
    "    npArr[idx]=idxPT\n",
    "    idx=idx+1\n",
    "\n",
    "df['numeric_state_name']=pd.DataFrame(npArr, dtype='int')"
   ]
  },
  {
   "cell_type": "code",
   "execution_count": 218,
   "metadata": {},
   "outputs": [],
   "source": [
    "####Agrego COLUMNA - Property Type\n",
    "npArrPropertyTypeIdx = np.zeros( df.property_type.size,dtype='int')\n",
    "idx=0\n",
    "for x in df.property_type:\n",
    "    idxPT=(getIdByDiccionario(dfPropertyType,x))\n",
    "    npArrPropertyTypeIdx[idx]=idxPT\n",
    "    idx=idx+1\n",
    "#npArrPropertyTypeIdx\n",
    "#for x in df.property_type:\n",
    "#    print (getIdByDiccionario(dfPropertyType,x))\n",
    "\n",
    "dfPTI = pd.DataFrame(npArrPropertyTypeIdx, dtype='int')\n",
    "\n",
    "df['numeric_property_type']=dfPTI\n",
    "\n",
    "\n"
   ]
  },
  {
   "cell_type": "code",
   "execution_count": 219,
   "metadata": {},
   "outputs": [
    {
     "ename": "IndexError",
     "evalue": "index 0 is out of bounds for axis 0 with size 0",
     "output_type": "error",
     "traceback": [
      "\u001b[0;31m---------------------------------------------------------------------------\u001b[0m",
      "\u001b[0;31mIndexError\u001b[0m                                Traceback (most recent call last)",
      "\u001b[0;32m<ipython-input-219-b76a338a45e5>\u001b[0m in \u001b[0;36m<module>\u001b[0;34m()\u001b[0m\n\u001b[1;32m      2\u001b[0m \u001b[0midx\u001b[0m\u001b[0;34m=\u001b[0m\u001b[0;36m0\u001b[0m\u001b[0;34m\u001b[0m\u001b[0m\n\u001b[1;32m      3\u001b[0m \u001b[0;32mfor\u001b[0m \u001b[0mx\u001b[0m \u001b[0;32min\u001b[0m \u001b[0mdf\u001b[0m\u001b[0;34m.\u001b[0m\u001b[0mproperty_type\u001b[0m\u001b[0;34m:\u001b[0m\u001b[0;34m\u001b[0m\u001b[0m\n\u001b[0;32m----> 4\u001b[0;31m     \u001b[0midxPT\u001b[0m\u001b[0;34m=\u001b[0m\u001b[0;34m(\u001b[0m\u001b[0mgetIdByDiccionario\u001b[0m\u001b[0;34m(\u001b[0m\u001b[0mdfPlaceName\u001b[0m\u001b[0;34m,\u001b[0m\u001b[0mx\u001b[0m\u001b[0;34m)\u001b[0m\u001b[0;34m)\u001b[0m\u001b[0;34m\u001b[0m\u001b[0m\n\u001b[0m\u001b[1;32m      5\u001b[0m     \u001b[0mnpArr\u001b[0m\u001b[0;34m[\u001b[0m\u001b[0midx\u001b[0m\u001b[0;34m]\u001b[0m\u001b[0;34m=\u001b[0m\u001b[0midxPT\u001b[0m\u001b[0;34m\u001b[0m\u001b[0m\n\u001b[1;32m      6\u001b[0m     \u001b[0midx\u001b[0m\u001b[0;34m=\u001b[0m\u001b[0midx\u001b[0m\u001b[0;34m+\u001b[0m\u001b[0;36m1\u001b[0m\u001b[0;34m\u001b[0m\u001b[0m\n",
      "\u001b[0;32m<ipython-input-204-aa60b770c3c6>\u001b[0m in \u001b[0;36mgetIdByDiccionario\u001b[0;34m(diccionario, valor)\u001b[0m\n\u001b[1;32m      1\u001b[0m \u001b[0;32mdef\u001b[0m \u001b[0mgetIdByDiccionario\u001b[0m\u001b[0;34m(\u001b[0m\u001b[0mdiccionario\u001b[0m\u001b[0;34m,\u001b[0m\u001b[0mvalor\u001b[0m\u001b[0;34m)\u001b[0m\u001b[0;34m:\u001b[0m\u001b[0;34m\u001b[0m\u001b[0m\n\u001b[0;32m----> 2\u001b[0;31m     \u001b[0;32mreturn\u001b[0m \u001b[0mdiccionario\u001b[0m\u001b[0;34m[\u001b[0m\u001b[0mdiccionario\u001b[0m\u001b[0;34m.\u001b[0m\u001b[0mvalues\u001b[0m\u001b[0;34m==\u001b[0m\u001b[0mvalor\u001b[0m\u001b[0;34m]\u001b[0m\u001b[0;34m.\u001b[0m\u001b[0mindex\u001b[0m\u001b[0;34m[\u001b[0m\u001b[0;36m0\u001b[0m\u001b[0;34m]\u001b[0m\u001b[0;34m\u001b[0m\u001b[0m\n\u001b[0m\u001b[1;32m      3\u001b[0m \u001b[0;34m\u001b[0m\u001b[0m\n\u001b[1;32m      4\u001b[0m \u001b[0;31m#getIdByDiccionario(dfPlaceName,'Malabrigo')\u001b[0m\u001b[0;34m\u001b[0m\u001b[0;34m\u001b[0m\u001b[0m\n\u001b[1;32m      5\u001b[0m \u001b[0;31m#dictProperaty[dictProperaty.values=='PH'].index[0]\u001b[0m\u001b[0;34m\u001b[0m\u001b[0;34m\u001b[0m\u001b[0m\n",
      "\u001b[0;32m/opt/conda/lib/python3.6/site-packages/pandas/core/indexes/base.py\u001b[0m in \u001b[0;36m__getitem__\u001b[0;34m(self, key)\u001b[0m\n\u001b[1;32m   2067\u001b[0m \u001b[0;34m\u001b[0m\u001b[0m\n\u001b[1;32m   2068\u001b[0m         \u001b[0;32mif\u001b[0m \u001b[0mis_scalar\u001b[0m\u001b[0;34m(\u001b[0m\u001b[0mkey\u001b[0m\u001b[0;34m)\u001b[0m\u001b[0;34m:\u001b[0m\u001b[0;34m\u001b[0m\u001b[0m\n\u001b[0;32m-> 2069\u001b[0;31m             \u001b[0;32mreturn\u001b[0m \u001b[0mgetitem\u001b[0m\u001b[0;34m(\u001b[0m\u001b[0mkey\u001b[0m\u001b[0;34m)\u001b[0m\u001b[0;34m\u001b[0m\u001b[0m\n\u001b[0m\u001b[1;32m   2070\u001b[0m \u001b[0;34m\u001b[0m\u001b[0m\n\u001b[1;32m   2071\u001b[0m         \u001b[0;32mif\u001b[0m \u001b[0misinstance\u001b[0m\u001b[0;34m(\u001b[0m\u001b[0mkey\u001b[0m\u001b[0;34m,\u001b[0m \u001b[0mslice\u001b[0m\u001b[0;34m)\u001b[0m\u001b[0;34m:\u001b[0m\u001b[0;34m\u001b[0m\u001b[0m\n",
      "\u001b[0;31mIndexError\u001b[0m: index 0 is out of bounds for axis 0 with size 0"
     ]
    }
   ],
   "source": [
    "npArr = np.zeros( df.place_name.size,dtype='int')\n",
    "idx=0\n",
    "for x in df.property_type:\n",
    "    idxPT=(getIdByDiccionario(dfPlaceName,x))\n",
    "    npArr[idx]=idxPT\n",
    "    idx=idx+1\n",
    "#npArrPropertyTypeIdx\n",
    "#for x in df.property_type:\n",
    "#    print (getIdByDiccionario(dfPropertyType,x))\n",
    "\n",
    "dfPTI = pd.DataFrame(npArr, dtype='int')\n",
    "\n",
    "df['numeric_place_name']=dfPTI\n",
    "\n"
   ]
  },
  {
   "cell_type": "code",
   "execution_count": 210,
   "metadata": {},
   "outputs": [],
   "source": [
    "####Agrego COLUMNA - Place Parent Name\n",
    "npArrPPNIdx = np.zeros( df.place_with_parent_names.size,dtype='int')\n",
    "idx=0\n",
    "for x in df.place_with_parent_names:\n",
    "    idxPT=(getIdByDiccionario(dfPlaceParentName,x))\n",
    "    npArrPPNIdx[idx]=idxPT\n",
    "    idx=idx+1\n",
    "\n",
    "#for x in df.property_type:\n",
    "#    print (getIdByDiccionario(dfPropertyType,x))\n",
    "df['numeric_place_with_parent_name']=pd.DataFrame(npArrPPNIdx, dtype='int')"
   ]
  },
  {
   "cell_type": "code",
   "execution_count": 212,
   "metadata": {},
   "outputs": [
    {
     "data": {
      "text/html": [
       "<div>\n",
       "<style scoped>\n",
       "    .dataframe tbody tr th:only-of-type {\n",
       "        vertical-align: middle;\n",
       "    }\n",
       "\n",
       "    .dataframe tbody tr th {\n",
       "        vertical-align: top;\n",
       "    }\n",
       "\n",
       "    .dataframe thead th {\n",
       "        text-align: right;\n",
       "    }\n",
       "</style>\n",
       "<table border=\"1\" class=\"dataframe\">\n",
       "  <thead>\n",
       "    <tr style=\"text-align: right;\">\n",
       "      <th></th>\n",
       "      <th>Unnamed: 0</th>\n",
       "      <th>operation</th>\n",
       "      <th>property_type</th>\n",
       "      <th>place_name</th>\n",
       "      <th>place_with_parent_names</th>\n",
       "      <th>country_name</th>\n",
       "      <th>state_name</th>\n",
       "      <th>geonames_id</th>\n",
       "      <th>lat-lon</th>\n",
       "      <th>lat</th>\n",
       "      <th>...</th>\n",
       "      <th>price_per_m2</th>\n",
       "      <th>floor</th>\n",
       "      <th>rooms</th>\n",
       "      <th>expenses</th>\n",
       "      <th>properati_url</th>\n",
       "      <th>description</th>\n",
       "      <th>title</th>\n",
       "      <th>image_thumbnail</th>\n",
       "      <th>numeric_property_type</th>\n",
       "      <th>numeric_place_with_parent_name</th>\n",
       "    </tr>\n",
       "  </thead>\n",
       "  <tbody>\n",
       "    <tr>\n",
       "      <th>0</th>\n",
       "      <td>0</td>\n",
       "      <td>sell</td>\n",
       "      <td>PH</td>\n",
       "      <td>Mataderos</td>\n",
       "      <td>|Argentina|Capital Federal|Mataderos|</td>\n",
       "      <td>Argentina</td>\n",
       "      <td>Capital Federal</td>\n",
       "      <td>3430787.0</td>\n",
       "      <td>-34.6618237,-58.5088387</td>\n",
       "      <td>-34.661824</td>\n",
       "      <td>...</td>\n",
       "      <td>1550.000000</td>\n",
       "      <td>NaN</td>\n",
       "      <td>NaN</td>\n",
       "      <td>NaN</td>\n",
       "      <td>http://www.properati.com.ar/15bo8_venta_ph_mat...</td>\n",
       "      <td>2 AMBIENTES TIPO CASA PLANTA BAJA POR PASILLO,...</td>\n",
       "      <td>2 AMB TIPO CASA SIN EXPENSAS EN PB</td>\n",
       "      <td>https://thumbs4.properati.com/8/BluUYiHJLhgIIK...</td>\n",
       "      <td>0</td>\n",
       "      <td>0</td>\n",
       "    </tr>\n",
       "    <tr>\n",
       "      <th>1</th>\n",
       "      <td>1</td>\n",
       "      <td>sell</td>\n",
       "      <td>apartment</td>\n",
       "      <td>La Plata</td>\n",
       "      <td>|Argentina|Bs.As. G.B.A. Zona Sur|La Plata|</td>\n",
       "      <td>Argentina</td>\n",
       "      <td>Bs.As. G.B.A. Zona Sur</td>\n",
       "      <td>3432039.0</td>\n",
       "      <td>-34.9038831,-57.9643295</td>\n",
       "      <td>-34.903883</td>\n",
       "      <td>...</td>\n",
       "      <td>NaN</td>\n",
       "      <td>NaN</td>\n",
       "      <td>NaN</td>\n",
       "      <td>NaN</td>\n",
       "      <td>http://www.properati.com.ar/15bob_venta_depart...</td>\n",
       "      <td>Venta de departamento en décimo piso al frente...</td>\n",
       "      <td>VENTA Depto 2 dorm. a estrenar 7 e/ 36 y 37   ...</td>\n",
       "      <td>https://thumbs4.properati.com/7/ikpVBu2ztHA7jv...</td>\n",
       "      <td>1</td>\n",
       "      <td>1</td>\n",
       "    </tr>\n",
       "    <tr>\n",
       "      <th>2</th>\n",
       "      <td>2</td>\n",
       "      <td>sell</td>\n",
       "      <td>apartment</td>\n",
       "      <td>Mataderos</td>\n",
       "      <td>|Argentina|Capital Federal|Mataderos|</td>\n",
       "      <td>Argentina</td>\n",
       "      <td>Capital Federal</td>\n",
       "      <td>3430787.0</td>\n",
       "      <td>-34.6522615,-58.5229825</td>\n",
       "      <td>-34.652262</td>\n",
       "      <td>...</td>\n",
       "      <td>1309.090909</td>\n",
       "      <td>NaN</td>\n",
       "      <td>NaN</td>\n",
       "      <td>NaN</td>\n",
       "      <td>http://www.properati.com.ar/15bod_venta_depart...</td>\n",
       "      <td>2 AMBIENTES 3ER PISO LATERAL LIVING COMEDOR AM...</td>\n",
       "      <td>2 AMB 3ER PISO CON ASCENSOR APTO CREDITO</td>\n",
       "      <td>https://thumbs4.properati.com/5/SXKr34F_IwG3W_...</td>\n",
       "      <td>1</td>\n",
       "      <td>0</td>\n",
       "    </tr>\n",
       "    <tr>\n",
       "      <th>3</th>\n",
       "      <td>3</td>\n",
       "      <td>sell</td>\n",
       "      <td>PH</td>\n",
       "      <td>Liniers</td>\n",
       "      <td>|Argentina|Capital Federal|Liniers|</td>\n",
       "      <td>Argentina</td>\n",
       "      <td>Capital Federal</td>\n",
       "      <td>3431333.0</td>\n",
       "      <td>-34.6477969,-58.5164244</td>\n",
       "      <td>-34.647797</td>\n",
       "      <td>...</td>\n",
       "      <td>NaN</td>\n",
       "      <td>NaN</td>\n",
       "      <td>NaN</td>\n",
       "      <td>NaN</td>\n",
       "      <td>http://www.properati.com.ar/15boh_venta_ph_lin...</td>\n",
       "      <td>PH 3 ambientes con patio. Hay 3 deptos en lote...</td>\n",
       "      <td>PH 3 amb. cfte. reciclado</td>\n",
       "      <td>https://thumbs4.properati.com/3/DgIfX-85Mog5SP...</td>\n",
       "      <td>0</td>\n",
       "      <td>2</td>\n",
       "    </tr>\n",
       "    <tr>\n",
       "      <th>4</th>\n",
       "      <td>4</td>\n",
       "      <td>sell</td>\n",
       "      <td>apartment</td>\n",
       "      <td>Centro</td>\n",
       "      <td>|Argentina|Buenos Aires Costa Atlántica|Mar de...</td>\n",
       "      <td>Argentina</td>\n",
       "      <td>Buenos Aires Costa Atlántica</td>\n",
       "      <td>3435548.0</td>\n",
       "      <td>-38.0026256,-57.5494468</td>\n",
       "      <td>-38.002626</td>\n",
       "      <td>...</td>\n",
       "      <td>1828.571429</td>\n",
       "      <td>NaN</td>\n",
       "      <td>NaN</td>\n",
       "      <td>NaN</td>\n",
       "      <td>http://www.properati.com.ar/15bok_venta_depart...</td>\n",
       "      <td>DEPARTAMENTO CON FANTÁSTICA ILUMINACIÓN NATURA...</td>\n",
       "      <td>DEPTO 2 AMB AL CONTRAFRENTE ZONA CENTRO/PLAZA ...</td>\n",
       "      <td>https://thumbs4.properati.com/5/xrRqlNcSI_vs-f...</td>\n",
       "      <td>1</td>\n",
       "      <td>3</td>\n",
       "    </tr>\n",
       "  </tbody>\n",
       "</table>\n",
       "<p>5 rows × 28 columns</p>\n",
       "</div>"
      ],
      "text/plain": [
       "   Unnamed: 0 operation property_type place_name  \\\n",
       "0           0      sell            PH  Mataderos   \n",
       "1           1      sell     apartment   La Plata   \n",
       "2           2      sell     apartment  Mataderos   \n",
       "3           3      sell            PH    Liniers   \n",
       "4           4      sell     apartment     Centro   \n",
       "\n",
       "                             place_with_parent_names country_name  \\\n",
       "0              |Argentina|Capital Federal|Mataderos|    Argentina   \n",
       "1        |Argentina|Bs.As. G.B.A. Zona Sur|La Plata|    Argentina   \n",
       "2              |Argentina|Capital Federal|Mataderos|    Argentina   \n",
       "3                |Argentina|Capital Federal|Liniers|    Argentina   \n",
       "4  |Argentina|Buenos Aires Costa Atlántica|Mar de...    Argentina   \n",
       "\n",
       "                     state_name  geonames_id                  lat-lon  \\\n",
       "0               Capital Federal    3430787.0  -34.6618237,-58.5088387   \n",
       "1        Bs.As. G.B.A. Zona Sur    3432039.0  -34.9038831,-57.9643295   \n",
       "2               Capital Federal    3430787.0  -34.6522615,-58.5229825   \n",
       "3               Capital Federal    3431333.0  -34.6477969,-58.5164244   \n",
       "4  Buenos Aires Costa Atlántica    3435548.0  -38.0026256,-57.5494468   \n",
       "\n",
       "         lat               ...                price_per_m2  floor rooms  \\\n",
       "0 -34.661824               ...                 1550.000000    NaN   NaN   \n",
       "1 -34.903883               ...                         NaN    NaN   NaN   \n",
       "2 -34.652262               ...                 1309.090909    NaN   NaN   \n",
       "3 -34.647797               ...                         NaN    NaN   NaN   \n",
       "4 -38.002626               ...                 1828.571429    NaN   NaN   \n",
       "\n",
       "   expenses                                      properati_url  \\\n",
       "0       NaN  http://www.properati.com.ar/15bo8_venta_ph_mat...   \n",
       "1       NaN  http://www.properati.com.ar/15bob_venta_depart...   \n",
       "2       NaN  http://www.properati.com.ar/15bod_venta_depart...   \n",
       "3       NaN  http://www.properati.com.ar/15boh_venta_ph_lin...   \n",
       "4       NaN  http://www.properati.com.ar/15bok_venta_depart...   \n",
       "\n",
       "                                         description  \\\n",
       "0  2 AMBIENTES TIPO CASA PLANTA BAJA POR PASILLO,...   \n",
       "1  Venta de departamento en décimo piso al frente...   \n",
       "2  2 AMBIENTES 3ER PISO LATERAL LIVING COMEDOR AM...   \n",
       "3  PH 3 ambientes con patio. Hay 3 deptos en lote...   \n",
       "4  DEPARTAMENTO CON FANTÁSTICA ILUMINACIÓN NATURA...   \n",
       "\n",
       "                                               title  \\\n",
       "0                 2 AMB TIPO CASA SIN EXPENSAS EN PB   \n",
       "1  VENTA Depto 2 dorm. a estrenar 7 e/ 36 y 37   ...   \n",
       "2           2 AMB 3ER PISO CON ASCENSOR APTO CREDITO   \n",
       "3                       PH 3 amb. cfte. reciclado      \n",
       "4  DEPTO 2 AMB AL CONTRAFRENTE ZONA CENTRO/PLAZA ...   \n",
       "\n",
       "                                     image_thumbnail  numeric_property_type  \\\n",
       "0  https://thumbs4.properati.com/8/BluUYiHJLhgIIK...                      0   \n",
       "1  https://thumbs4.properati.com/7/ikpVBu2ztHA7jv...                      1   \n",
       "2  https://thumbs4.properati.com/5/SXKr34F_IwG3W_...                      1   \n",
       "3  https://thumbs4.properati.com/3/DgIfX-85Mog5SP...                      0   \n",
       "4  https://thumbs4.properati.com/5/xrRqlNcSI_vs-f...                      1   \n",
       "\n",
       "   numeric_place_with_parent_name  \n",
       "0                               0  \n",
       "1                               1  \n",
       "2                               0  \n",
       "3                               2  \n",
       "4                               3  \n",
       "\n",
       "[5 rows x 28 columns]"
      ]
     },
     "execution_count": 212,
     "metadata": {},
     "output_type": "execute_result"
    }
   ],
   "source": [
    "df.head(5)"
   ]
  },
  {
   "cell_type": "code",
   "execution_count": 46,
   "metadata": {},
   "outputs": [
    {
     "data": {
      "text/plain": [
       "<bound method IndexOpsMixin.value_counts of en                   25401\n",
       "-                    21604\n",
       "Casa                 12193\n",
       "2                    10776\n",
       "de                   10671\n",
       "con                  10378\n",
       "Departamento          9809\n",
       "EN                    9068\n",
       "3                     9004\n",
       "Venta                 8980\n",
       "VENTA                 6039\n",
       "y                     5195\n",
       "ambientes             5143\n",
       "CASA                  5100\n",
       "a                     5099\n",
       "DE                    5075\n",
       "4                     4273\n",
       "A                     4181\n",
       "por                   4153\n",
       "U$S                   3979\n",
       "San                   3850\n",
       "1                     3794\n",
       "AMBIENTES             3633\n",
       "CON                   3587\n",
       "DEPARTAMENTO          3441\n",
       "al                    3367\n",
       "venta                 3317\n",
       "PH                    2895\n",
       "Excelente             2703\n",
       "Y                     2447\n",
       "                     ...  \n",
       "blóck                    1\n",
       "Pcias                    1\n",
       "septimo                  1\n",
       "cuádruple                1\n",
       "categoria.3              1\n",
       "***OPORTUNIDAD!!!        1\n",
       "55.000-                  1\n",
       "Cañada!!!!               1\n",
       "TENELO                   1\n",
       "Cesarina                 1\n",
       "Barro                    1\n",
       "mir514-                  1\n",
       "VX5-                     1\n",
       "COMENZAR                 1\n",
       "Quebradita               1\n",
       "Agustina                 1\n",
       "(termas                  1\n",
       "e/ElRosedal              1\n",
       "6D                       1\n",
       "INDIVIDUALES             1\n",
       "Montecastro              1\n",
       "finaliza                 1\n",
       "387)                     1\n",
       "Aguirre.                 1\n",
       "PILAR-APTO               1\n",
       "Parking,                 1\n",
       "PARQUE-FLORESTA          1\n",
       "170607                   1\n",
       "RTAS-ref                 1\n",
       "8.80x56                  1\n",
       "Length: 39105, dtype: int64>"
      ]
     },
     "execution_count": 46,
     "metadata": {},
     "output_type": "execute_result"
    }
   ],
   "source": [
    "df1_ = pd.DataFrame(data=None,index=None)\n",
    "dfDescs = df1_.fillna(0)\n",
    "dfDescs['titulos'] =df[clavesProbablesProperati[7:8][0]].unique()\n",
    "dfDescs\n",
    "dfDescs= dfDescs.titulos.str.split(expand=True).stack().value_counts()\n",
    "dfDescs.value_counts "
   ]
  },
  {
   "cell_type": "code",
   "execution_count": 84,
   "metadata": {},
   "outputs": [
    {
     "data": {
      "text/plain": [
       "1        0.603989\n",
       "2        0.125432\n",
       "3        0.058458\n",
       "4        0.035290\n",
       "5        0.024063\n",
       "6        0.016545\n",
       "7        0.011891\n",
       "8        0.009538\n",
       "9        0.008413\n",
       "10       0.007365\n",
       "11       0.006572\n",
       "13       0.005012\n",
       "12       0.004731\n",
       "14       0.003734\n",
       "15       0.003682\n",
       "16       0.003657\n",
       "20       0.003069\n",
       "17       0.003043\n",
       "19       0.002915\n",
       "18       0.002890\n",
       "21       0.001892\n",
       "22       0.001816\n",
       "23       0.001637\n",
       "25       0.001458\n",
       "24       0.001432\n",
       "26       0.001432\n",
       "28       0.001432\n",
       "27       0.001381\n",
       "29       0.001227\n",
       "35       0.001202\n",
       "           ...   \n",
       "5075     0.000026\n",
       "8980     0.000026\n",
       "2227     0.000026\n",
       "210      0.000026\n",
       "370      0.000026\n",
       "402      0.000026\n",
       "434      0.000026\n",
       "466      0.000026\n",
       "562      0.000026\n",
       "848      0.000026\n",
       "592      0.000026\n",
       "2895     0.000026\n",
       "399      0.000026\n",
       "5100     0.000026\n",
       "21604    0.000026\n",
       "351      0.000026\n",
       "10378    0.000026\n",
       "239      0.000026\n",
       "303      0.000026\n",
       "367      0.000026\n",
       "655      0.000026\n",
       "528      0.000026\n",
       "1071     0.000026\n",
       "1519     0.000026\n",
       "240      0.000026\n",
       "272      0.000026\n",
       "304      0.000026\n",
       "336      0.000026\n",
       "368      0.000026\n",
       "607      0.000026\n",
       "Length: 465, dtype: float64"
      ]
     },
     "execution_count": 84,
     "metadata": {},
     "output_type": "execute_result"
    }
   ],
   "source": [
    "dfDescs.value_counts(normalize=True)\n",
    "\n",
    "\n"
   ]
  },
  {
   "cell_type": "code",
   "execution_count": null,
   "metadata": {},
   "outputs": [],
   "source": [
    "##Exploramos que operaciones tenemosc\n",
    "clavesProbablesProperati\n",
    "\n",
    "#df['operation'].unique()"
   ]
  },
  {
   "cell_type": "code",
   "execution_count": null,
   "metadata": {},
   "outputs": [],
   "source": [
    "dfCalidad.Prob_Error.describe()\n",
    "\n",
    "#dfCalidad.loc[dfCalidad.Prob_Error==0.95].index\n",
    "\n",
    "#dfInconsistentes['Porc'] = dfInconsistentes.apply(lambda x: x/cantOperaciones for x in df.isnull().sum())\n",
    "#dfInconsistentes\n",
    "#dfInconsistentes\n"
   ]
  },
  {
   "cell_type": "code",
   "execution_count": null,
   "metadata": {},
   "outputs": [],
   "source": []
  },
  {
   "cell_type": "code",
   "execution_count": null,
   "metadata": {},
   "outputs": [],
   "source": []
  },
  {
   "cell_type": "code",
   "execution_count": null,
   "metadata": {},
   "outputs": [],
   "source": [
    "pdSummarize"
   ]
  },
  {
   "cell_type": "code",
   "execution_count": null,
   "metadata": {},
   "outputs": [],
   "source": [
    "pdSummarize=pdSummarize.T.rename(index=str, columns={0:'Tipo',1:'NaN'})\n",
    "pdSummarize"
   ]
  },
  {
   "cell_type": "code",
   "execution_count": null,
   "metadata": {},
   "outputs": [],
   "source": [
    "pdSummarize.NaN = pdSummarize.NaN/cantOperaciones\n",
    "####  CALIDAD DE LOS DATOS \n",
    "pdSummarize[['NaN' > 0.6])"
   ]
  },
  {
   "cell_type": "code",
   "execution_count": null,
   "metadata": {},
   "outputs": [],
   "source": [
    "pdSummarize.loc(1)"
   ]
  },
  {
   "cell_type": "code",
   "execution_count": null,
   "metadata": {},
   "outputs": [],
   "source": [
    "df.price_per_m2.isna().count()"
   ]
  },
  {
   "cell_type": "code",
   "execution_count": null,
   "metadata": {
    "colab": {
     "autoexec": {
      "startup": false,
      "wait_interval": 0
     }
    },
    "colab_type": "code",
    "id": "W5-pTm8HNgRR"
   },
   "outputs": [],
   "source": [
    "df=df.rename(index=str, columns={\n",
    "\"Unnamed: 0\": \"IDENTITY\",\n",
    "\"operation\": \"OPERACION\",\n",
    "\"property_type\": \"PROP_TIPO\",\n",
    "\"place_name\": \"BARRIO\",\n",
    "\"place_with_parent_names\": \"BARRIO_COMPLETO\",\n",
    "\"country_name\": \"PAIS\",\n",
    "\"state_name\": \"PROVINCIA\",\n",
    "\"geonames_id\": \"GEONAME_ID\",\n",
    "\"lat-lon\": \"LAT-LON\",\n",
    "\"lat\": \"LAT\",\n",
    "\"lon\": \"LON\",\n",
    "\"price\": \"PRC\",\n",
    "\"currency\": \"MONEDA\",\n",
    "\"price_aprox_local_currency\": \"PRC_APROX_LC\",\n",
    "\"price_aprox_usd\": \"PRC_APROX_USD\",\n",
    "\"surface_total_in_m2\": \"M2_TOTAL\",\n",
    "\"surface_covered_in_m2\": \"M2_CUBIERTOS\",\n",
    "\"price_usd_per_m2\": \"PRC_M2_USD\",\n",
    "\"price_per_m2\": \"PRC_M2_LC\",\n",
    "\"floor\": \"QTY_PLANTA\",\n",
    "\"rooms\": \"QTY_AMBIENTES\",\n",
    "\"expenses\": \"PRC_EXPENSAS\",\n",
    "\"properati_url\": \"URL_PROPERATI\",\n",
    "\"description\": \"DESCRIPCION\",\n",
    "\"title\": \"TITULO\",\n",
    "\"image_thumbnail\": \"IMAGEN\"})"
   ]
  },
  {
   "cell_type": "code",
   "execution_count": null,
   "metadata": {
    "colab": {
     "autoexec": {
      "startup": false,
      "wait_interval": 0
     }
    },
    "colab_type": "code",
    "id": "c-zK-9O4NgRT"
   },
   "outputs": [],
   "source": [
    "df.describe()"
   ]
  },
  {
   "cell_type": "markdown",
   "metadata": {
    "colab_type": "text",
    "id": "mks_d9ZVWzjL"
   },
   "source": [
    "# Nueva sección"
   ]
  },
  {
   "cell_type": "code",
   "execution_count": null,
   "metadata": {
    "colab": {
     "autoexec": {
      "startup": false,
      "wait_interval": 0
     }
    },
    "colab_type": "code",
    "id": "nZXPMiDCNgRV"
   },
   "outputs": [],
   "source": [
    "#df[('MONEDA')]!='USD'"
   ]
  },
  {
   "cell_type": "code",
   "execution_count": null,
   "metadata": {
    "colab": {
     "autoexec": {
      "startup": false,
      "wait_interval": 0
     }
    },
    "colab_type": "code",
    "id": "UHSF_z_2NgRY"
   },
   "outputs": [],
   "source": [
    "dfp = df\n",
    "dfp"
   ]
  },
  {
   "cell_type": "code",
   "execution_count": null,
   "metadata": {
    "colab": {
     "autoexec": {
      "startup": false,
      "wait_interval": 0
     }
    },
    "colab_type": "code",
    "id": "LITMAEhHNgRa"
   },
   "outputs": [],
   "source": []
  },
  {
   "cell_type": "code",
   "execution_count": null,
   "metadata": {
    "colab": {
     "autoexec": {
      "startup": false,
      "wait_interval": 0
     }
    },
    "colab_type": "code",
    "id": "cvqpOfFUNgRd"
   },
   "outputs": [],
   "source": [
    "# Filtro los de CABA, PRECIO Y M2\n",
    "df = df[(df['PROVINCIA'] == 'Capital Federal') & (df['PRC'] > 0) & (df['M2_TOTAL'] > 0)].drop(columns=['BARRIO_COMPLETO', 'PAIS', 'MONEDA', 'PRC_APROX_LC',\n",
    "       'PRC_APROX_USD', 'PRC_M2_USD', 'PRC_M2_LC', 'M2_CUBIERTOS'])\n",
    "df.head()"
   ]
  },
  {
   "cell_type": "code",
   "execution_count": null,
   "metadata": {
    "colab": {
     "autoexec": {
      "startup": false,
      "wait_interval": 0
     }
    },
    "colab_type": "code",
    "id": "Cp8dHkDhNgRf"
   },
   "outputs": [],
   "source": [
    "df6 = df[[ 'BARRIO', 'PRC', 'M2_TOTAL', 'QTY_PLANTA',\n",
    "       'QTY_AMBIENTES', 'PRC_EXPENSAS']]\n",
    "df7 = df[[ 'PRC', 'M2_TOTAL', 'QTY_PLANTA',\n",
    "       'QTY_AMBIENTES', 'PRC_EXPENSAS']]\n",
    "df6.describe()"
   ]
  },
  {
   "cell_type": "code",
   "execution_count": null,
   "metadata": {
    "colab": {
     "autoexec": {
      "startup": false,
      "wait_interval": 0
     }
    },
    "colab_type": "code",
    "id": "yj_PwBF5NgRk"
   },
   "outputs": [],
   "source": [
    "# Precio vs M2\n",
    "sns.jointplot(dfp['PRC'],dfp['M2_TOTAL'])\n",
    "plt.show()"
   ]
  },
  {
   "cell_type": "code",
   "execution_count": null,
   "metadata": {
    "colab": {
     "autoexec": {
      "startup": false,
      "wait_interval": 0
     }
    },
    "colab_type": "code",
    "id": "knvPUTccNgRn"
   },
   "outputs": [],
   "source": []
  },
  {
   "cell_type": "code",
   "execution_count": null,
   "metadata": {
    "colab": {
     "autoexec": {
      "startup": false,
      "wait_interval": 0
     }
    },
    "colab_type": "code",
    "id": "gR9Rv4O1NgRp"
   },
   "outputs": [],
   "source": []
  },
  {
   "cell_type": "code",
   "execution_count": null,
   "metadata": {
    "colab": {
     "autoexec": {
      "startup": false,
      "wait_interval": 0
     }
    },
    "colab_type": "code",
    "id": "-Z-0QAJkNgRu"
   },
   "outputs": [],
   "source": [
    "#df=df.join(pd.get_dummies(df['OPERACION'],prefix='OPERACION'))\n",
    "# df.head()\n",
    "\n",
    "DF_TEXT=df[['IDENTITY','QTY_PLANTA','QTY_AMBIENTES','DESCRIPCION','TITULO']]\n",
    "\n",
    "DF_TEXT.loc[:,\"DESCRIPCION\"]=DF_TEXT.loc[:,\"DESCRIPCION\"].str.upper()\n",
    "\n",
    "DF_TEXT.loc[:,\"TITULO\"]=DF_TEXT.loc[:,\"TITULO\"].str.upper()\n",
    "\n",
    "\n",
    "\n"
   ]
  },
  {
   "cell_type": "code",
   "execution_count": null,
   "metadata": {
    "colab": {
     "autoexec": {
      "startup": false,
      "wait_interval": 0
     }
    },
    "colab_type": "code",
    "id": "BXyHcHGyNgRx"
   },
   "outputs": [],
   "source": [
    "# reemplazo caracteres especiales\n",
    "cols = DF_TEXT.select_dtypes(include=[np.object]).columns\n",
    "DF_TEXT[cols]=DF_TEXT[cols].apply(lambda x: x.str.normalize('NFKD').str.encode('ascii', errors='ignore').str.decode('utf-8'))\n",
    "\n"
   ]
  },
  {
   "cell_type": "code",
   "execution_count": null,
   "metadata": {
    "colab": {
     "autoexec": {
      "startup": false,
      "wait_interval": 0
     }
    },
    "colab_type": "code",
    "id": "2TCmq06JNgRz"
   },
   "outputs": [],
   "source": [
    "#Traigo todos los datos que contengan la palabra AMB o AMBIENTE y excluyo los que ya tienen la cantidad de ambientes\n",
    "\n",
    "DF_TEXT2=DF_TEXT[((DF_TEXT[\"DESCRIPCION\"].str.find(\"AMBIENTES\")>0)|(DF_TEXT[\"DESCRIPCION\"].str.find(\"AMB\")>0)) & (DF_TEXT[\"QTY_AMBIENTES\"].isnull()==1)]\n",
    "\n",
    "DF_TEXT2[\"DESCRIPCION_AMB\"]=DF_TEXT2[\"DESCRIPCION\"].str.find(\"AMB\")\n",
    "DF_TEXT2[\"TITULO_AMB\"]=DF_TEXT2[\"TITULO\"].str.find(\"AMB\")\n",
    "\n"
   ]
  },
  {
   "cell_type": "code",
   "execution_count": null,
   "metadata": {
    "colab": {
     "autoexec": {
      "startup": false,
      "wait_interval": 0
     }
    },
    "colab_type": "code",
    "id": "sgGASTPqNgR4"
   },
   "outputs": [],
   "source": [
    "DF_TEXT2['QTY_AMB_DESC'] = DF_TEXT2.apply(lambda x: x['DESCRIPCION'][x['DESCRIPCION_AMB']-2:x['DESCRIPCION_AMB']-1], 1)\n",
    "DF_TEXT2['QTY_AMB_TITLE'] = DF_TEXT2.apply(lambda x: x['DESCRIPCION'][x['TITULO_AMB']-2:x['TITULO_AMB']-1], 1)\n",
    "\n",
    "DF_TEXT2.drop(columns=['DESCRIPCION_AMB', 'TITULO_AMB'],inplace=True)\n",
    "\n"
   ]
  },
  {
   "cell_type": "code",
   "execution_count": null,
   "metadata": {
    "colab": {
     "autoexec": {
      "startup": false,
      "wait_interval": 0
     }
    },
    "colab_type": "code",
    "id": "cFNBpDzsNgR7"
   },
   "outputs": [],
   "source": [
    "DF_TEXT2.head()"
   ]
  },
  {
   "cell_type": "code",
   "execution_count": null,
   "metadata": {
    "colab": {
     "autoexec": {
      "startup": false,
      "wait_interval": 0
     }
    },
    "colab_type": "code",
    "id": "u98JhGQwNgR-"
   },
   "outputs": [],
   "source": [
    "DF_TEXT2['DESC_TYPE']=DF_TEXT2['QTY_AMB_DESC'].str.isnumeric()\n",
    "DF_TEXT2['TITLE_TYPE']=DF_TEXT2['QTY_AMB_TITLE'].str.isnumeric()\n",
    "\n",
    "DF_TEXT2=DF_TEXT2[(DF_TEXT2['DESC_TYPE']==True)|(DF_TEXT2['TITLE_TYPE']==True)]\n",
    "\n",
    "DF_TEXT2['QTY_AMB_DESC']=np.where(DF_TEXT2['DESC_TYPE']==False, np.nan, DF_TEXT2['QTY_AMB_DESC'])\n",
    "DF_TEXT2['QTY_AMB_TYPE']=np.where(DF_TEXT2['TITLE_TYPE']==False, np.nan, DF_TEXT2['QTY_AMB_TITLE'])\n",
    "\n",
    "DF_TEXT2['QTY_AMBIENTES_CALC']= DF_TEXT2[['QTY_AMB_DESC','QTY_AMB_DESC']].max(axis=1)\n",
    "\n",
    "DF_TEXT2.drop(columns=[\"QTY_AMB_DESC\",\"QTY_AMB_TITLE\",\"DESC_TYPE\",\"TITLE_TYPE\",\"QTY_AMB_TYPE\"],inplace=True)"
   ]
  },
  {
   "cell_type": "code",
   "execution_count": null,
   "metadata": {
    "colab": {
     "autoexec": {
      "startup": false,
      "wait_interval": 0
     }
    },
    "colab_type": "code",
    "id": "G6Hja5w8NgSE"
   },
   "outputs": [],
   "source": [
    "# Agrego la columna calculada con la cantidad de ambientes y la seteo en el df original\n",
    "CALC_AMB = DF_TEXT2[['QTY_AMBIENTES_CALC']]\n",
    "\n",
    "df=df.join(CALC_AMB,rsuffix='_',how='left')\n",
    "\n",
    "df['QTY_AMBIENTES']=np.where(df['QTY_AMBIENTES'].isnull() == True, df['QTY_AMBIENTES_CALC'], df['QTY_AMBIENTES'])\n"
   ]
  },
  {
   "cell_type": "code",
   "execution_count": null,
   "metadata": {
    "colab": {
     "autoexec": {
      "startup": false,
      "wait_interval": 0
     }
    },
    "colab_type": "code",
    "id": "RCqoNoOpNgSJ"
   },
   "outputs": [],
   "source": [
    "df.describe()\n"
   ]
  },
  {
   "cell_type": "code",
   "execution_count": null,
   "metadata": {
    "colab": {
     "autoexec": {
      "startup": false,
      "wait_interval": 0
     }
    },
    "colab_type": "code",
    "id": "cfYCYP1sNgSO"
   },
   "outputs": [],
   "source": [
    "df.columns"
   ]
  },
  {
   "cell_type": "code",
   "execution_count": null,
   "metadata": {
    "colab": {
     "autoexec": {
      "startup": false,
      "wait_interval": 0
     }
    },
    "colab_type": "code",
    "id": "GAScoXocNgSR"
   },
   "outputs": [],
   "source": [
    "x1=(DF_TEXT['DESCRIPCION'])\n",
    "x2=(DF_TEXT['TITULO'])\n",
    "\n",
    "DF_TEXT3=pd.DataFrame(pd.concat([x1, x2],names='a', axis=0))\n",
    "\n",
    "DF_TEXT3=DF_TEXT3.dropna()\n"
   ]
  },
  {
   "cell_type": "code",
   "execution_count": null,
   "metadata": {
    "colab": {
     "autoexec": {
      "startup": false,
      "wait_interval": 0
     }
    },
    "colab_type": "code",
    "id": "8Dv9ysqmNgSV"
   },
   "outputs": [],
   "source": [
    "stop_words = get_stop_words('spanish')"
   ]
  },
  {
   "cell_type": "code",
   "execution_count": null,
   "metadata": {
    "colab": {
     "autoexec": {
      "startup": false,
      "wait_interval": 0
     }
    },
    "colab_type": "code",
    "id": "BUmfTTWPNgSX"
   },
   "outputs": [],
   "source": [
    "# traigo todas las palabras que aparezcan al menos en un 3% de df\n",
    "count= CountVectorizer(encoding='latin1', ngram_range=[1,3], min_df=0.003,)\n",
    "count.fit(DF_TEXT3[0])\n",
    "a=count.fit_transform(DF_TEXT3[0])\n"
   ]
  },
  {
   "cell_type": "code",
   "execution_count": null,
   "metadata": {
    "colab": {
     "autoexec": {
      "startup": false,
      "wait_interval": 0
     }
    },
    "colab_type": "code",
    "id": "gTsg8ZeHNgSZ"
   },
   "outputs": [],
   "source": [
    "# ARMO DICT y lo convierto en un DF\n",
    "\n",
    "b=count.vocabulary_\n",
    "c=pd.DataFrame(list(b.items()), columns=['palabra', 'cant'])\n",
    "# c.sort_values(by=['cant'],ascending=False, inplace=True)\n",
    "c['palabra']= c['palabra'].str.upper()\n",
    "\n"
   ]
  },
  {
   "cell_type": "code",
   "execution_count": null,
   "metadata": {
    "colab": {
     "autoexec": {
      "startup": false,
      "wait_interval": 0
     }
    },
    "colab_type": "code",
    "id": "QWXy1wrTNgSb"
   },
   "outputs": [],
   "source": []
  },
  {
   "cell_type": "code",
   "execution_count": null,
   "metadata": {
    "colab": {
     "autoexec": {
      "startup": false,
      "wait_interval": 0
     }
    },
    "colab_type": "code",
    "id": "TrVdJ2asNgSd"
   },
   "outputs": [],
   "source": []
  },
  {
   "cell_type": "code",
   "execution_count": null,
   "metadata": {
    "colab": {
     "autoexec": {
      "startup": false,
      "wait_interval": 0
     }
    },
    "colab_type": "code",
    "id": "JEscT6fmNgSg"
   },
   "outputs": [],
   "source": [
    "# exporto para analizar\n",
    "# c.to_csv('dict2.csv')\n"
   ]
  },
  {
   "cell_type": "code",
   "execution_count": null,
   "metadata": {
    "colab": {
     "autoexec": {
      "startup": false,
      "wait_interval": 0
     }
    },
    "colab_type": "code",
    "id": "MkzGWGMUNgSh"
   },
   "outputs": [],
   "source": [
    "\n",
    "#Traigo nuevamente el csv con las palabras que a mi me interesan\n",
    "AMENITIES=pd.read_csv('dict2_agrup.csv')\n",
    "AMENITIES=AMENITIES[AMENITIES['flag']==1]"
   ]
  },
  {
   "cell_type": "code",
   "execution_count": null,
   "metadata": {
    "colab": {
     "autoexec": {
      "startup": false,
      "wait_interval": 0
     }
    },
    "colab_type": "code",
    "id": "w6PiiwB1NgSl"
   },
   "outputs": [],
   "source": [
    "DF_PRUEBA=df"
   ]
  },
  {
   "cell_type": "code",
   "execution_count": null,
   "metadata": {
    "colab": {
     "autoexec": {
      "startup": false,
      "wait_interval": 0
     }
    },
    "colab_type": "code",
    "id": "igl0_BgWNgSq"
   },
   "outputs": [],
   "source": [
    "z0=pd.DataFrame(np.zeros((len(DF_PRUEBA),len(AMENITIES))),columns=list(AMENITIES['palabra'].values))\n",
    "DF_PRUEBA=DF_PRUEBA.join(z0,how='left')\n"
   ]
  },
  {
   "cell_type": "code",
   "execution_count": null,
   "metadata": {
    "colab": {
     "autoexec": {
      "startup": false,
      "wait_interval": 0
     }
    },
    "colab_type": "code",
    "id": "om6PWy_-NgSv"
   },
   "outputs": [],
   "source": [
    "for i in range(0,len(AMENITIES)):\n",
    "    NOMBRE_COL=(AMENITIES['palabra'][i:i+1].item())\n",
    "    q1= DF_PRUEBA['DESCRIPCION'].str.find(NOMBRE_COL)\n",
    "    q2= DF_PRUEBA['TITULO'].str.find(NOMBRE_COL)\n",
    "    q3=pd.concat([q1,q2],axis=1)\n",
    "    q3=q3.max(axis=1)\n",
    "    DF_PRUEBA[NOMBRE_COL]= q3\n",
    "    DF_PRUEBA[NOMBRE_COL] = np.where(DF_PRUEBA[NOMBRE_COL] < 0, 0, DF_PRUEBA[NOMBRE_COL])\n",
    "    DF_PRUEBA[NOMBRE_COL] = np.where(DF_PRUEBA[NOMBRE_COL] > 0, 1, DF_PRUEBA[NOMBRE_COL])\n",
    "\n",
    "\n"
   ]
  },
  {
   "cell_type": "code",
   "execution_count": null,
   "metadata": {
    "colab": {
     "autoexec": {
      "startup": false,
      "wait_interval": 0
     }
    },
    "colab_type": "code",
    "id": "N7YjK2ArNgSy"
   },
   "outputs": [],
   "source": [
    "# reemplazo los amenities por las agrupaciones de amenities\n",
    "\n",
    "AGRUP=pd.Series(AMENITIES['agrupado'].unique())\n",
    "for i in range(0,len(pd.Series(AMENITIES['agrupado'].unique()))):\n",
    "    NOMBRE_AGRUP=AGRUP[i:i+1].item()\n",
    "    NOMBRE_PALABRA_AGRUP=AMENITIES[AMENITIES['agrupado']==NOMBRE_AGRUP]['palabra'].values\n",
    "    NUEVA_COL='AGRUP_'+NOMBRE_AGRUP\n",
    "    DF_PRUEBA[NUEVA_COL]=np.sum(DF_PRUEBA[NOMBRE_PALABRA_AGRUP],axis=1)\n",
    "    DF_PRUEBA[NUEVA_COL] = np.where(DF_PRUEBA[NUEVA_COL] == 0, 0, DF_PRUEBA[NUEVA_COL])\n",
    "    DF_PRUEBA[NUEVA_COL] = np.where(DF_PRUEBA[NUEVA_COL] > 0, 1, DF_PRUEBA[NUEVA_COL])"
   ]
  },
  {
   "cell_type": "code",
   "execution_count": null,
   "metadata": {
    "colab": {
     "autoexec": {
      "startup": false,
      "wait_interval": 0
     }
    },
    "colab_type": "code",
    "id": "90K8ZLClNgS0"
   },
   "outputs": [],
   "source": [
    "DF_PRUEBA=DF_PRUEBA.drop(columns=AMENITIES['palabra'].values)"
   ]
  },
  {
   "cell_type": "code",
   "execution_count": null,
   "metadata": {
    "colab": {
     "autoexec": {
      "startup": false,
      "wait_interval": 0
     }
    },
    "colab_type": "code",
    "id": "x0aaBHYSNgS2"
   },
   "outputs": [],
   "source": [
    "#Agrego columnas de los amenities al df original\n",
    "\n",
    "AGRUP_COL=pd.Series('AGRUP_'+AMENITIES['agrupado'].unique()).values\n",
    "\n",
    "df=df.join(DF_PRUEBA[AGRUP_COL], how='left')"
   ]
  },
  {
   "cell_type": "code",
   "execution_count": null,
   "metadata": {
    "colab": {
     "autoexec": {
      "startup": false,
      "wait_interval": 0
     }
    },
    "colab_type": "code",
    "id": "XUBtRbTONgS5"
   },
   "outputs": [],
   "source": [
    "# Elimino las columnas que no voy a utilizar\n",
    "df.columns\n",
    "\n",
    "\n"
   ]
  },
  {
   "cell_type": "code",
   "execution_count": null,
   "metadata": {
    "colab": {
     "autoexec": {
      "startup": false,
      "wait_interval": 0
     }
    },
    "colab_type": "code",
    "id": "dVN8bRK6NgS6"
   },
   "outputs": [],
   "source": [
    "df.drop(columns=['IDENTITY','OPERACION','LAT-LON','GEONAME_ID','LAT', 'LON','URL_PROPERATI', 'DESCRIPCION', 'TITULO', 'IMAGEN','QTY_AMBIENTES_CALC'],inplace=True)\n"
   ]
  },
  {
   "cell_type": "code",
   "execution_count": null,
   "metadata": {
    "colab": {
     "autoexec": {
      "startup": false,
      "wait_interval": 0
     }
    },
    "colab_type": "code",
    "id": "HryIkvq1NgS8"
   },
   "outputs": [],
   "source": []
  },
  {
   "cell_type": "code",
   "execution_count": null,
   "metadata": {
    "colab": {
     "autoexec": {
      "startup": false,
      "wait_interval": 0
     }
    },
    "colab_type": "code",
    "id": "IT3Cls9ONgS9"
   },
   "outputs": [],
   "source": [
    "# OBTENGO DUMMIES DE LO QUE ME INTERESA FILTRAR\n",
    "df['BARRIO_CALC']=df['PROVINCIA']+', '+ df['BARRIO']\n",
    "\n",
    "\n",
    "PROP_TIPO=pd.get_dummies(df['PROP_TIPO'],prefix='PROP_TIPO')\n",
    "BARRIO=pd.get_dummies(df['BARRIO_CALC'],prefix='BARRIO')\n",
    "\n"
   ]
  },
  {
   "cell_type": "code",
   "execution_count": null,
   "metadata": {
    "colab": {
     "autoexec": {
      "startup": false,
      "wait_interval": 0
     }
    },
    "colab_type": "code",
    "id": "eCuuhxSINgS_"
   },
   "outputs": [],
   "source": [
    "# Sumo dummies al dataset\n",
    "\n",
    "df=df.join(PROP_TIPO)\n",
    "df=df.join(BARRIO)\n",
    "\n",
    "df.drop(columns=['PROP_TIPO', 'BARRIO','PROVINCIA','BARRIO_CALC'],inplace=True)"
   ]
  },
  {
   "cell_type": "code",
   "execution_count": null,
   "metadata": {
    "colab": {
     "autoexec": {
      "startup": false,
      "wait_interval": 0
     }
    },
    "colab_type": "code",
    "id": "FV6caaBsNgTC"
   },
   "outputs": [],
   "source": [
    "list(df.columns)"
   ]
  },
  {
   "cell_type": "code",
   "execution_count": null,
   "metadata": {
    "colab": {
     "autoexec": {
      "startup": false,
      "wait_interval": 0
     }
    },
    "colab_type": "code",
    "id": "ihdKBKQBNgTF"
   },
   "outputs": [],
   "source": [
    "dfcont = df[['PRC',\n",
    " 'M2_TOTAL',\n",
    " 'QTY_PLANTA',\n",
    " 'QTY_AMBIENTES',\n",
    " 'PRC_EXPENSAS']]"
   ]
  },
  {
   "cell_type": "code",
   "execution_count": null,
   "metadata": {
    "colab": {
     "autoexec": {
      "startup": false,
      "wait_interval": 0
     }
    },
    "colab_type": "code",
    "id": "kPBJididNgTI"
   },
   "outputs": [],
   "source": [
    "dfdummies = df[[ 'AGRUP_LAVADERO',\n",
    " 'AGRUP_PLANTA BAJA',\n",
    " 'AGRUP_APTO CREDITO',\n",
    " 'AGRUP_A ESTRENAR',\n",
    " 'AGRUP_BALCON',\n",
    " 'AGRUP_TOILETTE',\n",
    " 'AGRUP_COCHERA',\n",
    " 'AGRUP_PISOS DE MADERA',\n",
    " 'AGRUP_MUEBLES BAJO MESADA',\n",
    " 'AGRUP_BAJAS EXPENSAS',\n",
    " 'AGRUP_EXCELENTE UBICACION',\n",
    " 'AGRUP_PH',\n",
    " 'AGRUP_RECICLADO',\n",
    " 'AGRUP_BAULERA',\n",
    " 'AGRUP_AIRE ACONDICIONADO',\n",
    " 'AGRUP_ENTRADA INDEPENDIENTE',\n",
    " 'AGRUP_SIN EXPENSAS',\n",
    " 'AGRUP_PISOS DE PINOTEA',\n",
    " 'AGRUP_MONOAMBIENTE',\n",
    " 'AGRUP_SOLARIUM',\n",
    " 'AGRUP_LAUNDRY',\n",
    " 'AGRUP_TERRAZA',\n",
    " 'AGRUP_PILETA',\n",
    " 'AGRUP_SAUNA',\n",
    " 'AGRUP_GIMNASIO',\n",
    " 'AGRUP_RESIDENCIAL',\n",
    " 'AGRUP_BARRIO CERRADO',\n",
    " 'AGRUP_DUPLEX',\n",
    " 'AGRUP_PISOS DE PARQUET',\n",
    " 'AGRUP_PARRILLA',\n",
    " 'AGRUP_VESTIDOR',\n",
    " 'AGRUP_COMEDOR DIARIO',\n",
    " 'AGRUP_SOLO EFECTIVO',\n",
    " 'AGRUP_JACUZZI',\n",
    " 'AGRUP_PISOS DE PORCELANATTO',\n",
    " 'AGRUP_ACERO INOXIDABLE',\n",
    " 'AGRUP_MESADA DE GRANITO',\n",
    " 'AGRUP_GALERIA CUBIERTA',\n",
    " 'AGRUP_LOSA RADIANTE',\n",
    " 'AGRUP_CONTRA FRENTE',\n",
    " 'AGRUP_BUENA VISTA',\n",
    " 'AGRUP_HOGAR LENA',\n",
    " 'AGRUP_FINANCIACION',\n",
    " 'AGRUP_PALIER',\n",
    " 'AGRUP_SUM',\n",
    " 'AGRUP_DOBLE VIDRIO',\n",
    " 'AGRUP_BALCON FRANCES',\n",
    " 'AGRUP_PISOS CERAMICOS',\n",
    " 'AGRUP_ESQUINA',\n",
    " 'AGRUP_PISO POR ESCALERA',\n",
    " 'AGRUP_LOFT',\n",
    " 'AGRUP_APTO PROFESIONAL',\n",
    " 'AGRUP_PISO DE PARQUET',\n",
    " 'AGRUP_MESADA DE MARMOL',\n",
    " 'AGRUP_GRUPO ELECTROGENO',\n",
    " 'AGRUP_PLAYROOM',\n",
    " 'AGRUP_HIDROMASAJE',\n",
    " 'AGRUP_PORTON AUTOMATICO',\n",
    " 'AGRUP_RIEGO POR ASPERSION',\n",
    " 'AGRUP_ULTIMO PISO',\n",
    " 'AGRUP_PILETA CLIMATIZADA',\n",
    " 'AGRUP_ALTILLO',\n",
    " 'AGRUP_CALEFACCION',\n",
    " 'AGRUP_TARQUINI',\n",
    " 'AGRUP_JARDIN DE INVIERNO',\n",
    " 'AGRUP_CALDERA',\n",
    " 'AGRUP_SEGURIDAD 24HS',\n",
    " 'AGRUP_CANCHA DE FUTBOL',\n",
    " 'AGRUP_CANCHA DE TENIS',\n",
    " 'AGRUP_TRIPLEX',\n",
    " 'PROP_TIPO_PH',\n",
    " 'PROP_TIPO_apartment',\n",
    " 'PROP_TIPO_house',\n",
    " 'PROP_TIPO_store',\n",
    " 'BARRIO_Capital Federal, Abasto',\n",
    " 'BARRIO_Capital Federal, Agronomía',\n",
    " 'BARRIO_Capital Federal, Almagro',\n",
    " 'BARRIO_Capital Federal, Balvanera',\n",
    " 'BARRIO_Capital Federal, Barracas',\n",
    " 'BARRIO_Capital Federal, Barrio Norte',\n",
    " 'BARRIO_Capital Federal, Belgrano',\n",
    " 'BARRIO_Capital Federal, Boca',\n",
    " 'BARRIO_Capital Federal, Boedo',\n",
    " 'BARRIO_Capital Federal, Caballito',\n",
    " 'BARRIO_Capital Federal, Capital Federal',\n",
    " 'BARRIO_Capital Federal, Catalinas',\n",
    " 'BARRIO_Capital Federal, Centro / Microcentro',\n",
    " 'BARRIO_Capital Federal, Chacarita',\n",
    " 'BARRIO_Capital Federal, Coghlan',\n",
    " 'BARRIO_Capital Federal, Colegiales',\n",
    " 'BARRIO_Capital Federal, Congreso',\n",
    " 'BARRIO_Capital Federal, Constitución',\n",
    " 'BARRIO_Capital Federal, Flores',\n",
    " 'BARRIO_Capital Federal, Floresta',\n",
    " 'BARRIO_Capital Federal, Las Cañitas',\n",
    " 'BARRIO_Capital Federal, Liniers',\n",
    " 'BARRIO_Capital Federal, Mataderos',\n",
    " 'BARRIO_Capital Federal, Monserrat',\n",
    " 'BARRIO_Capital Federal, Monte Castro',\n",
    " 'BARRIO_Capital Federal, Nuñez',\n",
    " 'BARRIO_Capital Federal, Once',\n",
    " 'BARRIO_Capital Federal, Palermo',\n",
    " 'BARRIO_Capital Federal, Palermo Chico',\n",
    " 'BARRIO_Capital Federal, Palermo Hollywood',\n",
    " 'BARRIO_Capital Federal, Palermo Soho',\n",
    " 'BARRIO_Capital Federal, Palermo Viejo',\n",
    " 'BARRIO_Capital Federal, Parque Avellaneda',\n",
    " 'BARRIO_Capital Federal, Parque Centenario',\n",
    " 'BARRIO_Capital Federal, Parque Chacabuco',\n",
    " 'BARRIO_Capital Federal, Parque Chas',\n",
    " 'BARRIO_Capital Federal, Parque Patricios',\n",
    " 'BARRIO_Capital Federal, Paternal',\n",
    " 'BARRIO_Capital Federal, Pompeya',\n",
    " 'BARRIO_Capital Federal, Puerto Madero',\n",
    " 'BARRIO_Capital Federal, Recoleta',\n",
    " 'BARRIO_Capital Federal, Retiro',\n",
    " 'BARRIO_Capital Federal, Saavedra',\n",
    " 'BARRIO_Capital Federal, San Cristobal',\n",
    " 'BARRIO_Capital Federal, San Nicolás',\n",
    " 'BARRIO_Capital Federal, San Telmo',\n",
    " 'BARRIO_Capital Federal, Tribunales',\n",
    " 'BARRIO_Capital Federal, Velez Sarsfield',\n",
    " 'BARRIO_Capital Federal, Versalles',\n",
    " 'BARRIO_Capital Federal, Villa Crespo',\n",
    " 'BARRIO_Capital Federal, Villa Devoto',\n",
    " 'BARRIO_Capital Federal, Villa General Mitre',\n",
    " 'BARRIO_Capital Federal, Villa Lugano',\n",
    " 'BARRIO_Capital Federal, Villa Luro',\n",
    " 'BARRIO_Capital Federal, Villa Ortuzar',\n",
    " 'BARRIO_Capital Federal, Villa Pueyrredón',\n",
    " 'BARRIO_Capital Federal, Villa Real',\n",
    " 'BARRIO_Capital Federal, Villa Riachuelo',\n",
    " 'BARRIO_Capital Federal, Villa Santa Rita',\n",
    " 'BARRIO_Capital Federal, Villa Soldati',\n",
    " 'BARRIO_Capital Federal, Villa Urquiza',\n",
    " 'BARRIO_Capital Federal, Villa del Parque']]"
   ]
  },
  {
   "cell_type": "code",
   "execution_count": null,
   "metadata": {
    "colab": {
     "autoexec": {
      "startup": false,
      "wait_interval": 0
     }
    },
    "colab_type": "code",
    "id": "UBWM1QmiNgTO"
   },
   "outputs": [],
   "source": [
    "# Armar el modelo para predecir\n",
    "\n",
    "VAR_CONT = PolynomialFeatures(2,include_bias=True, interaction_only=False).fit_transform(dfcont)\n",
    "DUMMIES = dfdummies\n",
    "\n",
    "dfresult = [VAR_CONT, DUMMIES]\n",
    "X = pd.concat(dfresult)\n",
    "y = dfresult.PRC"
   ]
  },
  {
   "cell_type": "code",
   "execution_count": null,
   "metadata": {
    "colab": {
     "autoexec": {
      "startup": false,
      "wait_interval": 0
     }
    },
    "colab_type": "code",
    "id": "B9E7BShfNgTP"
   },
   "outputs": [],
   "source": [
    "# Separar el df en train & test\n",
    "X_train, X_test, y_train, y_test = train_test_split(X, y, test_size=0.3, random_state=5)\n",
    "print(X_train.shape, y_train.shape)\n",
    "print(X_test.shape, y_test.shape)"
   ]
  },
  {
   "cell_type": "code",
   "execution_count": null,
   "metadata": {
    "colab": {
     "autoexec": {
      "startup": false,
      "wait_interval": 0
     }
    },
    "colab_type": "code",
    "id": "wUSCpWz0NgTS"
   },
   "outputs": [],
   "source": [
    "# hiperparámetros y CV\n",
    "\n",
    "al_ridge = np.linspace(0.1, 0.3, 10)\n",
    "al_lasso = np.linspace(0.1, 0.3, 10)\n",
    "kf = KFold(n_splits=7, shuffle=True, random_state=5)\n",
    "\n",
    "# Instanciar\n",
    "\n",
    "lm = LinearRegression()\n",
    "lmRidgeCV = RidgeCV(alphas=al_ridge, cv=kf, normalize=True)\n",
    "lmLassoCV = LassoCV(alphas=al_lasso, cv=kf, normalize=True)"
   ]
  },
  {
   "cell_type": "code",
   "execution_count": null,
   "metadata": {
    "colab": {
     "autoexec": {
      "startup": false,
      "wait_interval": 0
     }
    },
    "colab_type": "code",
    "id": "K0ZgSMr0NgTW"
   },
   "outputs": [],
   "source": [
    "# Fit\n",
    "\n",
    "lm.fit(X_train, y_train)\n",
    "lmRidgeCV.fit(X_train, y_train)\n",
    "lmLassoCV.fit(X_train, y_train)"
   ]
  },
  {
   "cell_type": "code",
   "execution_count": null,
   "metadata": {
    "colab": {
     "autoexec": {
      "startup": false,
      "wait_interval": 0
     }
    },
    "colab_type": "code",
    "id": "Wb3u9F7wNgTb"
   },
   "outputs": [],
   "source": [
    "# Ver alphas \n",
    "print('Alpha Ridge:',lmRidgeCV.alpha_,'\\n'\n",
    "      'Alpha LASSO:',lmLassoCV.alpha_,'\\n')"
   ]
  },
  {
   "cell_type": "code",
   "execution_count": null,
   "metadata": {
    "colab": {
     "autoexec": {
      "startup": false,
      "wait_interval": 0
     }
    },
    "colab_type": "code",
    "id": "QPTaAHVsNgTe"
   },
   "outputs": [],
   "source": [
    "# Error con R2\n",
    "\n",
    "print(\"Score Train Lineal:\", lm.score(X_train, y_train),\"\\n\"\n",
    "      \"Score Train Ridge:\",  lmRidgeCV.score(X_train, y_train),\"\\n\"\n",
    "      \"Score Train Lasso:\",  lmLassoCV.score(X_train, y_train))\n",
    "\n",
    "# Error con MSE\n",
    "\n",
    "lmpred_Tr = lm.predict(X_train)\n",
    "lmRidgepred_Tr = lmRidgeCV.predict(X_train)\n",
    "lmLassoepred_Tr = lmLassoCV.predict(X_train)\n",
    "\n",
    "print(\"Train MSE lineal=\", mean_squared_error(y_train,lmpred_Tr), \"\\n\"\n",
    "      \"Train MSE Ridge=\",  mean_squared_error(y_train,lmRidgepred_Tr), \"\\n\"\n",
    "      \"Train MSE Lasso=\",  mean_squared_error(y_train,lmLassoepred_Tr))\n"
   ]
  },
  {
   "cell_type": "code",
   "execution_count": null,
   "metadata": {
    "colab": {
     "autoexec": {
      "startup": false,
      "wait_interval": 0
     }
    },
    "colab_type": "code",
    "id": "wOkfzsgzNgTg"
   },
   "outputs": [],
   "source": [
    "# Ordenada + Betas RL\n",
    "(lm.intercept_,lm.coef_)"
   ]
  },
  {
   "cell_type": "code",
   "execution_count": null,
   "metadata": {
    "colab": {
     "autoexec": {
      "startup": false,
      "wait_interval": 0
     }
    },
    "colab_type": "code",
    "id": "ogha1yKqNgTj"
   },
   "outputs": [],
   "source": [
    "# Ordenada + Betas Ridge\n",
    "(lmRidgeCV.intercept_,lmRidgeCV.coef_)"
   ]
  },
  {
   "cell_type": "code",
   "execution_count": null,
   "metadata": {
    "colab": {
     "autoexec": {
      "startup": false,
      "wait_interval": 0
     }
    },
    "colab_type": "code",
    "id": "vyGSs23GNgTk"
   },
   "outputs": [],
   "source": [
    "# Ordenada + Betas Lasso\n",
    "(lmLassoCV.intercept_,lmLassoCV.coef_)"
   ]
  },
  {
   "cell_type": "code",
   "execution_count": null,
   "metadata": {
    "colab": {
     "autoexec": {
      "startup": false,
      "wait_interval": 0
     }
    },
    "colab_type": "code",
    "id": "2B-cwOfsNgTo"
   },
   "outputs": [],
   "source": [
    "# Test predicción\n",
    "\n",
    "lmpred_Te = lm.predict(X_test)\n",
    "lmRidgepred_Te = lmRidgeCV.predict(X_test)\n",
    "lmLassoepred_Te = lmLassoCV.predict(X_test)\n",
    "\n",
    "# Error del test\n",
    "\n",
    "print(\"Test Score lineal=\", mean_squared_error(y_test,lmpred_Te), \"\\n\"\n",
    "      \"Test Score Ridge=\",  mean_squared_error(y_test,lmRidgepred_Te), \"\\n\"\n",
    "      \"Test Score Lasso=\",  mean_squared_error(y_test,lmLassoepred_Te))"
   ]
  },
  {
   "cell_type": "markdown",
   "metadata": {
    "colab_type": "text",
    "id": "EAW4fiGmNgTr",
    "slideshow": {
     "slide_type": "subslide"
    }
   },
   "source": [
    "# Limpiar el dataset\n",
    "Practiquemos nuestras capacidades para realizar limpieza de datos con el dataset de ventas de propiedades de Properatti. Si no recuerdan cómo hacer alguna de estas tareas, busquen en Internet o en clases anteriores de manipulación de datos.\n",
    "\n",
    "Buscamos que completen las siguientes tareas:\n",
    "* Quitar columnas redundantes\n",
    "* Convertir las variables categóricas numéricas a integer\n",
    "* Lidiar con los valores perdidos y/o erróneos en algunas variables clave: \n",
    "\n",
    "    + en este punto podría ser interesante realizar algo ligeramente más complejo que un simple rellenado en función de medias. Podría eventualmente imputar en función de medias condicionadas.\n",
    "        * por ejemplo, los campos `lat` y `long` tienen, también, muchos casos perdidos. Quizás una estrategia posible sería tratar de imputar las coordenadas con la media de los casos en el mismo `place_name` -barrio-.\n",
    "    + también podrían evaluar la posibilidad de extraer alguna información para completar los datos perdidos del campo \"description\" que contiene texto del aviso. \n",
    "        * por ejemplo, el campo `rooms` tiene una altísima cantidad de missing. Podrían intentar usando alguna expresión regex extraer información "
   ]
  },
  {
   "cell_type": "code",
   "execution_count": null,
   "metadata": {
    "colab": {
     "autoexec": {
      "startup": false,
      "wait_interval": 0
     }
    },
    "colab_type": "code",
    "id": "NfXcWhoINgTs"
   },
   "outputs": [],
   "source": []
  },
  {
   "cell_type": "code",
   "execution_count": null,
   "metadata": {
    "colab": {
     "autoexec": {
      "startup": false,
      "wait_interval": 0
     }
    },
    "colab_type": "code",
    "id": "ZshXZt-nNgTy",
    "slideshow": {
     "slide_type": "skip"
    }
   },
   "outputs": [],
   "source": [
    "#Unnamed es igual a identity, no hay valores False\n",
    "\n",
    "df['BARRIO'].value_counts()\n"
   ]
  },
  {
   "cell_type": "code",
   "execution_count": null,
   "metadata": {
    "colab": {
     "autoexec": {
      "startup": false,
      "wait_interval": 0
     }
    },
    "colab_type": "code",
    "id": "k5kVs0u5NgT0"
   },
   "outputs": [],
   "source": [
    "prcm2=df.\n",
    "\n"
   ]
  },
  {
   "cell_type": "markdown",
   "metadata": {
    "colab_type": "text",
    "id": "K40FDCOhNgT2",
    "slideshow": {
     "slide_type": "subslide"
    }
   },
   "source": [
    "# Filtrar los Datos\n",
    "\n",
    "En general, los mdoelos de precios suelen tener un carácter local. Es por eso que deberán elegir alguna zona o provincia para trabajar y estimar el modelo en base a dicha selección."
   ]
  },
  {
   "cell_type": "code",
   "execution_count": null,
   "metadata": {
    "colab": {
     "autoexec": {
      "startup": false,
      "wait_interval": 0
     }
    },
    "colab_type": "code",
    "id": "4e3908e8-a791-40a5-90d9-1d0802247ed6"
   },
   "outputs": [],
   "source": [
    "# Filtrar la zona elegida para estimar el modelo\n",
    "\n"
   ]
  },
  {
   "cell_type": "markdown",
   "metadata": {
    "colab_type": "text",
    "id": "5WvpVll8NgT6"
   },
   "source": [
    "# Análisis exploratorio\n",
    "\n",
    "Como estamos intentando predecir precios por metro cuadrado es importante realizar una primera vista y exploración de los datos."
   ]
  },
  {
   "cell_type": "code",
   "execution_count": null,
   "metadata": {
    "colab": {
     "autoexec": {
      "startup": false,
      "wait_interval": 0
     }
    },
    "colab_type": "code",
    "id": "a202ef16-b0d9-48e0-bed5-7d7b5be65f9f"
   },
   "outputs": [],
   "source": [
    "# Calculo de correlacion entre features\n"
   ]
  },
  {
   "cell_type": "code",
   "execution_count": null,
   "metadata": {
    "colab": {
     "autoexec": {
      "startup": false,
      "wait_interval": 0
     }
    },
    "colab_type": "code",
    "id": "xK28lOUZNgUA"
   },
   "outputs": [],
   "source": [
    "# Analisis exploratorio, graficos...\n"
   ]
  },
  {
   "cell_type": "markdown",
   "metadata": {
    "colab_type": "text",
    "id": "2DsOrFn1NgUC"
   },
   "source": [
    "¿En qué barrios los precios por $m^2$ son más altos? "
   ]
  },
  {
   "cell_type": "code",
   "execution_count": null,
   "metadata": {
    "colab": {
     "autoexec": {
      "startup": false,
      "wait_interval": 0
     }
    },
    "colab_type": "code",
    "id": "8U-BV7jbNgUD"
   },
   "outputs": [],
   "source": []
  },
  {
   "cell_type": "markdown",
   "metadata": {
    "colab_type": "text",
    "id": "mgehwxB5NgUH"
   },
   "source": [
    "¿En qué barrios hay una mayor cantidad de viviendas para su venta?"
   ]
  },
  {
   "cell_type": "code",
   "execution_count": null,
   "metadata": {
    "colab": {
     "autoexec": {
      "startup": false,
      "wait_interval": 0
     }
    },
    "colab_type": "code",
    "id": "ePW0u7OvNgUI"
   },
   "outputs": [],
   "source": []
  },
  {
   "cell_type": "markdown",
   "metadata": {
    "colab_type": "text",
    "id": "3C-x3QuFNgUL"
   },
   "source": [
    "¿ En qué barrios hay una mayor dispersión de precios?"
   ]
  },
  {
   "cell_type": "code",
   "execution_count": null,
   "metadata": {
    "colab": {
     "autoexec": {
      "startup": false,
      "wait_interval": 0
     }
    },
    "colab_type": "code",
    "id": "8QPqrF2GNgUM"
   },
   "outputs": [],
   "source": []
  },
  {
   "cell_type": "markdown",
   "metadata": {
    "colab_type": "text",
    "id": "Oufa1dWCNgUP"
   },
   "source": [
    "¿Qué tipo de propiedad presenta los mayores precios? ¿Cuál las mayores dispersiones?"
   ]
  },
  {
   "cell_type": "code",
   "execution_count": null,
   "metadata": {
    "colab": {
     "autoexec": {
      "startup": false,
      "wait_interval": 0
     }
    },
    "colab_type": "code",
    "id": "nrzJSsk3NgUQ"
   },
   "outputs": [],
   "source": []
  },
  {
   "cell_type": "markdown",
   "metadata": {
    "colab_type": "text",
    "id": "ssfBOkcgNgUR"
   },
   "source": [
    "Continua realizando un análisis exploratorio del dataset..."
   ]
  },
  {
   "cell_type": "code",
   "execution_count": null,
   "metadata": {
    "colab": {
     "autoexec": {
      "startup": false,
      "wait_interval": 0
     }
    },
    "colab_type": "code",
    "id": "irLz1ZAJNgUS"
   },
   "outputs": [],
   "source": []
  },
  {
   "cell_type": "markdown",
   "metadata": {
    "colab_type": "text",
    "id": "_PmpRwhWNgUV"
   },
   "source": [
    "## BONUS: Empezando con regresiones lineales...\n",
    "\n",
    "Si se atreven, podrían empezar a probar con algunos modelos de regresión no demasiado sofisticados. Seleccionen (o construyan) su variable dependiente ($Y$) y comiencen probando con pocas variables y modelos sencillos.\n",
    "\n",
    "Usen el estimador `LinearRegression` de submódulo `sklearn.linear_model`.\n",
    "\n",
    "Recuerden los pasos para comenzar a trabajar con estimadores en Scikit-Learn.\n",
    "    \n",
    "1. Elegir una clase de modelo importando la clase de estimador apropiado de Scikit-Learn.\n",
    "2. Seleccionar los hiperparámetros del modelo instanciando la clase con los valores deseados.\n",
    "3. Preparar los datos en una matriz de features y un array target, como vimos previamente.\n",
    "4. Ajustar el modelo a los datos invocando el método fit() de la instancia del modelo.\n",
    "5. Aplicar el modelo a nuevos datos:\n",
    "    * Para aprendizaje supervisado, frecuentemente predecimos labels para datos nuevos usando el método predict()\n",
    "    * Para aprendizaje no supervisado, frecuentemente transformamos o inferimos propiedades de los datos usando los métodos transform() o predict()\n",
    "    \n",
    "¿Qué pueden decir del ajuste y la capacidad predictiva de sus modelos?"
   ]
  },
  {
   "cell_type": "code",
   "execution_count": null,
   "metadata": {
    "colab": {
     "autoexec": {
      "startup": false,
      "wait_interval": 0
     }
    },
    "colab_type": "code",
    "id": "yeXWDLICNgUW"
   },
   "outputs": [],
   "source": [
    "from sklearn.linear_model import LinearRegression"
   ]
  },
  {
   "cell_type": "code",
   "execution_count": null,
   "metadata": {
    "colab": {
     "autoexec": {
      "startup": false,
      "wait_interval": 0
     }
    },
    "colab_type": "code",
    "id": "giTaRJvjNgUY"
   },
   "outputs": [],
   "source": []
  }
 ],
 "metadata": {
  "colab": {
   "default_view": {},
   "name": "TP (1).ipynb",
   "provenance": [],
   "toc_visible": true,
   "version": "0.3.2",
   "views": {}
  },
  "kernelspec": {
   "display_name": "Python 3",
   "language": "python",
   "name": "python3"
  },
  "language_info": {
   "codemirror_mode": {
    "name": "ipython",
    "version": 3
   },
   "file_extension": ".py",
   "mimetype": "text/x-python",
   "name": "python",
   "nbconvert_exporter": "python",
   "pygments_lexer": "ipython3",
   "version": "3.6.3"
  },
  "varInspector": {
   "cols": {
    "lenName": 16,
    "lenType": 16,
    "lenVar": 40
   },
   "kernels_config": {
    "python": {
     "delete_cmd_postfix": "",
     "delete_cmd_prefix": "del ",
     "library": "var_list.py",
     "varRefreshCmd": "print(var_dic_list())"
    },
    "r": {
     "delete_cmd_postfix": ") ",
     "delete_cmd_prefix": "rm(",
     "library": "var_list.r",
     "varRefreshCmd": "cat(var_dic_list()) "
    }
   },
   "position": {
    "height": "537px",
    "left": "216px",
    "right": "346px",
    "top": "260px",
    "width": "590px"
   },
   "types_to_exclude": [
    "module",
    "function",
    "builtin_function_or_method",
    "instance",
    "_Feature"
   ],
   "window_display": false
  }
 },
 "nbformat": 4,
 "nbformat_minor": 1
}
