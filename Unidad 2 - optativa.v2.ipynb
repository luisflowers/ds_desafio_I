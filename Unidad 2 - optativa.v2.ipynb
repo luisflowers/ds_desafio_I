{
 "cells": [
  {
   "cell_type": "code",
   "execution_count": 1,
   "metadata": {},
   "outputs": [],
   "source": [
    "import numpy as np\n",
    "import pandas as pd"
   ]
  },
  {
   "cell_type": "code",
   "execution_count": 2,
   "metadata": {},
   "outputs": [],
   "source": [
    "ventas = pd.read_csv('./Data/volumen_ventas_producto_sucursal.csv')"
   ]
  },
  {
   "cell_type": "code",
   "execution_count": 3,
   "metadata": {},
   "outputs": [],
   "source": [
    "precios = pd.read_csv('./Data/precio_producto.csv')"
   ]
  },
  {
   "cell_type": "code",
   "execution_count": 4,
   "metadata": {},
   "outputs": [
    {
     "data": {
      "text/html": [
       "<div>\n",
       "<style scoped>\n",
       "    .dataframe tbody tr th:only-of-type {\n",
       "        vertical-align: middle;\n",
       "    }\n",
       "\n",
       "    .dataframe tbody tr th {\n",
       "        vertical-align: top;\n",
       "    }\n",
       "\n",
       "    .dataframe thead th {\n",
       "        text-align: right;\n",
       "    }\n",
       "</style>\n",
       "<table border=\"1\" class=\"dataframe\">\n",
       "  <thead>\n",
       "    <tr style=\"text-align: right;\">\n",
       "      <th></th>\n",
       "      <th>producto</th>\n",
       "      <th>Precio</th>\n",
       "    </tr>\n",
       "  </thead>\n",
       "  <tbody>\n",
       "    <tr>\n",
       "      <th>0</th>\n",
       "      <td>Malbec</td>\n",
       "      <td>208</td>\n",
       "    </tr>\n",
       "    <tr>\n",
       "      <th>1</th>\n",
       "      <td>Cabernet</td>\n",
       "      <td>216</td>\n",
       "    </tr>\n",
       "    <tr>\n",
       "      <th>2</th>\n",
       "      <td>Syrah</td>\n",
       "      <td>247</td>\n",
       "    </tr>\n",
       "    <tr>\n",
       "      <th>3</th>\n",
       "      <td>Caberne Franc</td>\n",
       "      <td>180</td>\n",
       "    </tr>\n",
       "    <tr>\n",
       "      <th>4</th>\n",
       "      <td>Merlot</td>\n",
       "      <td>180</td>\n",
       "    </tr>\n",
       "    <tr>\n",
       "      <th>5</th>\n",
       "      <td>Pinot noir</td>\n",
       "      <td>243</td>\n",
       "    </tr>\n",
       "  </tbody>\n",
       "</table>\n",
       "</div>"
      ],
      "text/plain": [
       "        producto  Precio\n",
       "0         Malbec     208\n",
       "1       Cabernet     216\n",
       "2          Syrah     247\n",
       "3  Caberne Franc     180\n",
       "4         Merlot     180\n",
       "5     Pinot noir     243"
      ]
     },
     "execution_count": 4,
     "metadata": {},
     "output_type": "execute_result"
    }
   ],
   "source": [
    "precios"
   ]
  },
  {
   "cell_type": "code",
   "execution_count": 5,
   "metadata": {},
   "outputs": [
    {
     "data": {
      "text/html": [
       "<div>\n",
       "<style scoped>\n",
       "    .dataframe tbody tr th:only-of-type {\n",
       "        vertical-align: middle;\n",
       "    }\n",
       "\n",
       "    .dataframe tbody tr th {\n",
       "        vertical-align: top;\n",
       "    }\n",
       "\n",
       "    .dataframe thead th {\n",
       "        text-align: right;\n",
       "    }\n",
       "</style>\n",
       "<table border=\"1\" class=\"dataframe\">\n",
       "  <thead>\n",
       "    <tr style=\"text-align: right;\">\n",
       "      <th></th>\n",
       "      <th>producto</th>\n",
       "      <th>Sucursal 1</th>\n",
       "      <th>Sucursal 2</th>\n",
       "      <th>Sucursal 3</th>\n",
       "      <th>Sucursal 4</th>\n",
       "      <th>Sucursal 5</th>\n",
       "      <th>Sucursal 6</th>\n",
       "      <th>Sucursal 7</th>\n",
       "    </tr>\n",
       "  </thead>\n",
       "  <tbody>\n",
       "    <tr>\n",
       "      <th>0</th>\n",
       "      <td>Malbec</td>\n",
       "      <td>429</td>\n",
       "      <td>106</td>\n",
       "      <td>437</td>\n",
       "      <td>177</td>\n",
       "      <td>200</td>\n",
       "      <td>412</td>\n",
       "      <td>309</td>\n",
       "    </tr>\n",
       "    <tr>\n",
       "      <th>1</th>\n",
       "      <td>Cabernet</td>\n",
       "      <td>244</td>\n",
       "      <td>111</td>\n",
       "      <td>282</td>\n",
       "      <td>238</td>\n",
       "      <td>144</td>\n",
       "      <td>198</td>\n",
       "      <td>331</td>\n",
       "    </tr>\n",
       "    <tr>\n",
       "      <th>2</th>\n",
       "      <td>Syrah</td>\n",
       "      <td>374</td>\n",
       "      <td>278</td>\n",
       "      <td>241</td>\n",
       "      <td>408</td>\n",
       "      <td>177</td>\n",
       "      <td>381</td>\n",
       "      <td>237</td>\n",
       "    </tr>\n",
       "    <tr>\n",
       "      <th>3</th>\n",
       "      <td>Caberne Franc</td>\n",
       "      <td>449</td>\n",
       "      <td>291</td>\n",
       "      <td>461</td>\n",
       "      <td>484</td>\n",
       "      <td>452</td>\n",
       "      <td>388</td>\n",
       "      <td>466</td>\n",
       "    </tr>\n",
       "    <tr>\n",
       "      <th>4</th>\n",
       "      <td>Merlot</td>\n",
       "      <td>222</td>\n",
       "      <td>494</td>\n",
       "      <td>436</td>\n",
       "      <td>252</td>\n",
       "      <td>161</td>\n",
       "      <td>187</td>\n",
       "      <td>337</td>\n",
       "    </tr>\n",
       "    <tr>\n",
       "      <th>5</th>\n",
       "      <td>Pinot noir</td>\n",
       "      <td>335</td>\n",
       "      <td>137</td>\n",
       "      <td>233</td>\n",
       "      <td>487</td>\n",
       "      <td>394</td>\n",
       "      <td>488</td>\n",
       "      <td>331</td>\n",
       "    </tr>\n",
       "  </tbody>\n",
       "</table>\n",
       "</div>"
      ],
      "text/plain": [
       "        producto  Sucursal 1  Sucursal 2  Sucursal 3  Sucursal 4  Sucursal 5  \\\n",
       "0         Malbec         429         106         437         177         200   \n",
       "1       Cabernet         244         111         282         238         144   \n",
       "2          Syrah         374         278         241         408         177   \n",
       "3  Caberne Franc         449         291         461         484         452   \n",
       "4         Merlot         222         494         436         252         161   \n",
       "5     Pinot noir         335         137         233         487         394   \n",
       "\n",
       "   Sucursal 6  Sucursal 7  \n",
       "0         412         309  \n",
       "1         198         331  \n",
       "2         381         237  \n",
       "3         388         466  \n",
       "4         187         337  \n",
       "5         488         331  "
      ]
     },
     "execution_count": 5,
     "metadata": {},
     "output_type": "execute_result"
    }
   ],
   "source": [
    "ventas"
   ]
  },
  {
   "cell_type": "code",
   "execution_count": 6,
   "metadata": {},
   "outputs": [],
   "source": [
    "sucurales = ventas.columns[1:8]"
   ]
  },
  {
   "cell_type": "code",
   "execution_count": 7,
   "metadata": {},
   "outputs": [
    {
     "data": {
      "text/plain": [
       "array(['Sucursal 1', 'Sucursal 2', 'Sucursal 3', 'Sucursal 4',\n",
       "       'Sucursal 5', 'Sucursal 6', 'Sucursal 7'], dtype=object)"
      ]
     },
     "execution_count": 7,
     "metadata": {},
     "output_type": "execute_result"
    }
   ],
   "source": [
    "sucurales.values"
   ]
  },
  {
   "cell_type": "markdown",
   "metadata": {},
   "source": []
  },
  {
   "cell_type": "code",
   "execution_count": 8,
   "metadata": {},
   "outputs": [],
   "source": [
    "ventasSuc = ventas.values[:,1:]\n",
    "ventasSuc2 = ventas.iloc[:, 1:].values"
   ]
  },
  {
   "cell_type": "code",
   "execution_count": 9,
   "metadata": {},
   "outputs": [],
   "source": [
    "ventasSuc\n",
    "ventasSuc2\n",
    "maxVenta = np.sum(ventasSuc, axis=0)"
   ]
  },
  {
   "cell_type": "code",
   "execution_count": 10,
   "metadata": {},
   "outputs": [
    {
     "data": {
      "text/plain": [
       "array([[429, 106, 437, 177, 200, 412, 309],\n",
       "       [244, 111, 282, 238, 144, 198, 331],\n",
       "       [374, 278, 241, 408, 177, 381, 237],\n",
       "       [449, 291, 461, 484, 452, 388, 466],\n",
       "       [222, 494, 436, 252, 161, 187, 337],\n",
       "       [335, 137, 233, 487, 394, 488, 331]])"
      ]
     },
     "execution_count": 10,
     "metadata": {},
     "output_type": "execute_result"
    }
   ],
   "source": [
    "\n",
    "ventasSuc2"
   ]
  },
  {
   "cell_type": "code",
   "execution_count": 11,
   "metadata": {},
   "outputs": [
    {
     "data": {
      "text/plain": [
       "array([[429, 106, 437, 177, 200, 412, 309],\n",
       "       [244, 111, 282, 238, 144, 198, 331],\n",
       "       [374, 278, 241, 408, 177, 381, 237],\n",
       "       [449, 291, 461, 484, 452, 388, 466],\n",
       "       [222, 494, 436, 252, 161, 187, 337],\n",
       "       [335, 137, 233, 487, 394, 488, 331]], dtype=object)"
      ]
     },
     "execution_count": 11,
     "metadata": {},
     "output_type": "execute_result"
    }
   ],
   "source": [
    "ventasSuc"
   ]
  },
  {
   "cell_type": "code",
   "execution_count": 12,
   "metadata": {},
   "outputs": [],
   "source": [
    "maxVentaSuc= np.around(ventasSuc2.sum(axis=0), decimals=2)"
   ]
  },
  {
   "cell_type": "code",
   "execution_count": 13,
   "metadata": {},
   "outputs": [],
   "source": [
    "maxVentaProd = np.around(ventasSuc2.sum(axis=1), decimals=2)"
   ]
  },
  {
   "cell_type": "code",
   "execution_count": 14,
   "metadata": {},
   "outputs": [],
   "source": [
    "maxVentaSucID = np.around(maxVentaSuc.argmax(axis=0), decimals=2)"
   ]
  },
  {
   "cell_type": "code",
   "execution_count": 15,
   "metadata": {},
   "outputs": [],
   "source": [
    "maxVentaPrdID = np.around(maxVentaProd.argmax(axis=0), decimals=2)"
   ]
  },
  {
   "cell_type": "code",
   "execution_count": 16,
   "metadata": {},
   "outputs": [
    {
     "data": {
      "text/plain": [
       "2"
      ]
     },
     "execution_count": 16,
     "metadata": {},
     "output_type": "execute_result"
    }
   ],
   "source": [
    "maxVentaSucID"
   ]
  },
  {
   "cell_type": "code",
   "execution_count": 17,
   "metadata": {},
   "outputs": [
    {
     "data": {
      "text/plain": [
       "array([2053, 1417, 2090, 2046, 1528, 2054, 2011])"
      ]
     },
     "execution_count": 17,
     "metadata": {},
     "output_type": "execute_result"
    }
   ],
   "source": [
    "maxVentaSuc\n"
   ]
  },
  {
   "cell_type": "code",
   "execution_count": 18,
   "metadata": {},
   "outputs": [
    {
     "data": {
      "text/plain": [
       "3"
      ]
     },
     "execution_count": 18,
     "metadata": {},
     "output_type": "execute_result"
    }
   ],
   "source": [
    "maxVentaPrdID"
   ]
  },
  {
   "cell_type": "code",
   "execution_count": 19,
   "metadata": {},
   "outputs": [
    {
     "data": {
      "text/plain": [
       "'Sucursal 3'"
      ]
     },
     "execution_count": 19,
     "metadata": {},
     "output_type": "execute_result"
    }
   ],
   "source": [
    "###############33sucursal que mas vendio \n",
    "sucurales[maxVentaSucID]"
   ]
  },
  {
   "cell_type": "code",
   "execution_count": 20,
   "metadata": {},
   "outputs": [],
   "source": [
    "preciosUnitarios = precios.iloc[:,1:]"
   ]
  },
  {
   "cell_type": "code",
   "execution_count": 21,
   "metadata": {},
   "outputs": [
    {
     "data": {
      "text/plain": [
       "array([[208],\n",
       "       [216],\n",
       "       [247],\n",
       "       [180],\n",
       "       [180],\n",
       "       [243]])"
      ]
     },
     "execution_count": 21,
     "metadata": {},
     "output_type": "execute_result"
    }
   ],
   "source": [
    "\n",
    "np.array(preciosUnitarios)"
   ]
  },
  {
   "cell_type": "code",
   "execution_count": 22,
   "metadata": {},
   "outputs": [
    {
     "data": {
      "text/plain": [
       "array([[429, 106, 437, 177, 200, 412, 309],\n",
       "       [244, 111, 282, 238, 144, 198, 331],\n",
       "       [374, 278, 241, 408, 177, 381, 237],\n",
       "       [449, 291, 461, 484, 452, 388, 466],\n",
       "       [222, 494, 436, 252, 161, 187, 337],\n",
       "       [335, 137, 233, 487, 394, 488, 331]])"
      ]
     },
     "execution_count": 22,
     "metadata": {},
     "output_type": "execute_result"
    }
   ],
   "source": [
    "np.array(ventasSuc2)[::]"
   ]
  },
  {
   "cell_type": "code",
   "execution_count": 24,
   "metadata": {},
   "outputs": [
    {
     "data": {
      "text/plain": [
       "array([216])"
      ]
     },
     "execution_count": 24,
     "metadata": {},
     "output_type": "execute_result"
    }
   ],
   "source": [
    "def getPrecio(i):\n",
    "    return preciosUnitarios.values[i]\n",
    "\n",
    "getPrecio(1)"
   ]
  },
  {
   "cell_type": "code",
   "execution_count": 62,
   "metadata": {},
   "outputs": [
    {
     "data": {
      "text/plain": [
       "<enumerate at 0x7f82bc67c900>"
      ]
     },
     "execution_count": 62,
     "metadata": {},
     "output_type": "execute_result"
    }
   ],
   "source": [
    "\n",
    "idx=0\n",
    "def quePasa(i):\n",
    "    print(i*getPrecio(1)[0])\n",
    "    print (precioIdx)\n",
    "    print (i)\n",
    "    \n",
    "    print ('-------------')\n",
    "    \n",
    "\n",
    "enumerate(ventasSuc2)"
   ]
  },
  {
   "cell_type": "code",
   "execution_count": 64,
   "metadata": {},
   "outputs": [
    {
     "name": "stdout",
     "output_type": "stream",
     "text": [
      "[92664 22896 94392 38232 43200 88992 66744]\n",
      "0\n",
      "[429 106 437 177 200 412 309]\n",
      "-------------\n",
      "[52704 23976 60912 51408 31104 42768 71496]\n",
      "0\n",
      "[244 111 282 238 144 198 331]\n",
      "-------------\n",
      "[80784 60048 52056 88128 38232 82296 51192]\n",
      "0\n",
      "[374 278 241 408 177 381 237]\n",
      "-------------\n",
      "[ 96984  62856  99576 104544  97632  83808 100656]\n",
      "0\n",
      "[449 291 461 484 452 388 466]\n",
      "-------------\n",
      "[ 47952 106704  94176  54432  34776  40392  72792]\n",
      "0\n",
      "[222 494 436 252 161 187 337]\n",
      "-------------\n",
      "[ 72360  29592  50328 105192  85104 105408  71496]\n",
      "0\n",
      "[335 137 233 487 394 488 331]\n",
      "-------------\n"
     ]
    },
    {
     "data": {
      "text/plain": [
       "array([None, None, None, None, None, None], dtype=object)"
      ]
     },
     "execution_count": 64,
     "metadata": {},
     "output_type": "execute_result"
    }
   ],
   "source": [
    "idx=1\n",
    "np.array([quePasa(i ) for   i in (ventasSuc2)])\n"
   ]
  },
  {
   "cell_type": "code",
   "execution_count": null,
   "metadata": {},
   "outputs": [],
   "source": []
  },
  {
   "cell_type": "code",
   "execution_count": null,
   "metadata": {},
   "outputs": [],
   "source": []
  }
 ],
 "metadata": {
  "kernelspec": {
   "display_name": "Python 3",
   "language": "python",
   "name": "python3"
  },
  "language_info": {
   "codemirror_mode": {
    "name": "ipython",
    "version": 3
   },
   "file_extension": ".py",
   "mimetype": "text/x-python",
   "name": "python",
   "nbconvert_exporter": "python",
   "pygments_lexer": "ipython3",
   "version": "3.6.3"
  }
 },
 "nbformat": 4,
 "nbformat_minor": 2
}
