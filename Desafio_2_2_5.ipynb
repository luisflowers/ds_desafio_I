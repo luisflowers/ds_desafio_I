{
  "nbformat": 4,
  "nbformat_minor": 0,
  "metadata": {
    "colab": {
      "name": "Desafio 2-2-5.ipynb",
      "version": "0.3.2",
      "provenance": [],
      "collapsed_sections": [],
      "include_colab_link": true
    },
    "kernelspec": {
      "display_name": "Python 3",
      "language": "python",
      "name": "python3"
    }
  },
  "cells": [
    {
      "cell_type": "markdown",
      "metadata": {
        "id": "view-in-github",
        "colab_type": "text"
      },
      "source": [
        "[View in Colaboratory](https://colab.research.google.com/github/luisflowers/ds_desafio_I/blob/master/Desafio_2_2_5.ipynb)"
      ]
    },
    {
      "metadata": {
        "id": "4CRAVdaJ9Frv",
        "colab_type": "code",
        "colab": {
          "base_uri": "https://localhost:8080/",
          "height": 888
        },
        "outputId": "104444d5-210a-4569-9b01-ffaf7972efba"
      },
      "cell_type": "code",
      "source": [
        "! pip install pydrive\n",
        "# these classes allow you to request the Google drive API\n",
        "from pydrive.auth import GoogleAuth\n",
        "from pydrive.drive import GoogleDrive \n",
        "from google.colab import auth \n",
        "from oauth2client.client import GoogleCredentials\n",
        "\n",
        "# 1. Authenticate and create the PyDrive client.\n",
        "auth.authenticate_user()\n",
        "gauth = GoogleAuth()\n",
        "gauth.credentials = GoogleCredentials.get_application_default()\n",
        "drive = GoogleDrive(gauth)\n",
        "file_id = '1u2lMckjqMlD-7qXfV8i8MJiQm_6GbLX9'\n",
        "downloaded = drive.CreateFile({'id': file_id})\n",
        "# allows you to temporarily load your file in the notebook VM\n",
        "\n",
        "# assume the file is called file.csv and it's located at the root of your drive\n",
        "downloaded.GetContentFile('properatti.csv')\n",
        "\n",
        "!pip install stop-words\n",
        "\n",
        "!pip install regex\n",
        "\n",
        "!pip install unidecode"
      ],
      "execution_count": 1,
      "outputs": [
        {
          "output_type": "stream",
          "text": [
            "Collecting pydrive\n",
            "\u001b[?25l  Downloading https://files.pythonhosted.org/packages/52/e0/0e64788e5dd58ce2d6934549676243dc69d982f198524be9b99e9c2a4fd5/PyDrive-1.3.1.tar.gz (987kB)\n",
            "\u001b[K    100% |████████████████████████████████| 993kB 9.6MB/s \n",
            "\u001b[?25hRequirement already satisfied: google-api-python-client>=1.2 in /usr/local/lib/python3.6/dist-packages (from pydrive) (1.6.7)\n",
            "Requirement already satisfied: oauth2client>=4.0.0 in /usr/local/lib/python3.6/dist-packages (from pydrive) (4.1.3)\n",
            "Requirement already satisfied: PyYAML>=3.0 in /usr/local/lib/python3.6/dist-packages (from pydrive) (3.13)\n",
            "Requirement already satisfied: uritemplate<4dev,>=3.0.0 in /usr/local/lib/python3.6/dist-packages (from google-api-python-client>=1.2->pydrive) (3.0.0)\n",
            "Requirement already satisfied: httplib2<1dev,>=0.9.2 in /usr/local/lib/python3.6/dist-packages (from google-api-python-client>=1.2->pydrive) (0.11.3)\n",
            "Requirement already satisfied: six<2dev,>=1.6.1 in /usr/local/lib/python3.6/dist-packages (from google-api-python-client>=1.2->pydrive) (1.11.0)\n",
            "Requirement already satisfied: pyasn1>=0.1.7 in /usr/local/lib/python3.6/dist-packages (from oauth2client>=4.0.0->pydrive) (0.4.4)\n",
            "Requirement already satisfied: pyasn1-modules>=0.0.5 in /usr/local/lib/python3.6/dist-packages (from oauth2client>=4.0.0->pydrive) (0.2.2)\n",
            "Requirement already satisfied: rsa>=3.1.4 in /usr/local/lib/python3.6/dist-packages (from oauth2client>=4.0.0->pydrive) (3.4.2)\n",
            "Building wheels for collected packages: pydrive\n",
            "  Running setup.py bdist_wheel for pydrive ... \u001b[?25l-\b \b\\\b \bdone\n",
            "\u001b[?25h  Stored in directory: /root/.cache/pip/wheels/fa/d2/9a/d3b6b506c2da98289e5d417215ce34b696db856643bad779f4\n",
            "Successfully built pydrive\n",
            "Installing collected packages: pydrive\n",
            "Successfully installed pydrive-1.3.1\n",
            "Collecting stop-words\n",
            "  Downloading https://files.pythonhosted.org/packages/1c/cb/d58290804b7a4c5daa42abbbe2a93c477ae53e45541b1825e86f0dfaaf63/stop-words-2018.7.23.tar.gz\n",
            "Building wheels for collected packages: stop-words\n",
            "  Running setup.py bdist_wheel for stop-words ... \u001b[?25l-\b \bdone\n",
            "\u001b[?25h  Stored in directory: /root/.cache/pip/wheels/75/37/6a/2b295e03bd07290f0da95c3adb9a74ba95fbc333aa8b0c7c78\n",
            "Successfully built stop-words\n",
            "Installing collected packages: stop-words\n",
            "Successfully installed stop-words-2018.7.23\n",
            "Requirement already satisfied: regex in /usr/local/lib/python3.6/dist-packages (2017.4.5)\n",
            "Collecting unidecode\n",
            "\u001b[?25l  Downloading https://files.pythonhosted.org/packages/59/ef/67085e30e8bbcdd76e2f0a4ad8151c13a2c5bce77c85f8cad6e1f16fb141/Unidecode-1.0.22-py2.py3-none-any.whl (235kB)\n",
            "\u001b[K    100% |████████████████████████████████| 235kB 7.9MB/s \n",
            "\u001b[?25hInstalling collected packages: unidecode\n",
            "Successfully installed unidecode-1.0.22\n"
          ],
          "name": "stdout"
        }
      ]
    },
    {
      "metadata": {
        "id": "Ekc3YnGM8qMf",
        "colab_type": "code",
        "colab": {}
      },
      "cell_type": "code",
      "source": [
        "\n",
        "% matplotlib inline\n",
        "import matplotlib.pyplot as plt\n",
        "import datetime\n",
        "import numpy as np\n",
        "import pandas as pd\n",
        "import seaborn as sns\n",
        "from sklearn.feature_extraction.text import CountVectorizer\n",
        "from sklearn.feature_extraction.text import TfidfVectorizer\n",
        "from sklearn.feature_extraction.text import TfidfTransformer\n",
        "\n",
        "\n",
        "from sklearn.naive_bayes import MultinomialNB\n",
        "from sklearn.pipeline import Pipeline\n",
        "\n",
        "\n",
        "from sklearn.feature_extraction import DictVectorizer\n",
        "\n",
        "\n",
        "from scipy.sparse import hstack\n",
        "\n",
        "\n",
        "from stop_words import get_stop_words\n",
        "import unidecode\n",
        "import re\n",
        "\n",
        "excluyoZonas=False\n",
        "tomoSampleo=True\n",
        "columnasToDummy = ['property_type']\n",
        "columnasToFill = [ 'property_type','new_usd_per_m2','place_name','rooms','surface_total_in_m2','surface_covered_in_m2','floor']\n",
        "columnasFilled = [ 'rooms_filled','surface_total_in_m2_filled']"
      ],
      "execution_count": 0,
      "outputs": []
    },
    {
      "metadata": {
        "id": "cW9Mo1Hi8qMm",
        "colab_type": "code",
        "colab": {}
      },
      "cell_type": "code",
      "source": [
        "df = pd.read_csv('./properatti.csv')  # Dataset de PROPERATI\n",
        "### si descomento tengo un conjunto acotado\n",
        "#if (tomoSampleo):\n",
        "#    df =df[:65000]\n",
        "if(excluyoZonas):\n",
        "    df_zonas_count = df.groupby(by='place_with_parent_names').agg({'property_type':'count'})\n",
        "    ### obtengo las zonas que tengan pocos elementos. Si tengo mas features que elementos no sirve\n",
        "    ### para clasificar.\n",
        "    ### no se que hacer!!!!!!!!!!!!!!!!!!!!!!!!!!!!!\n",
        "    df_zonas_count=df_zonas_count[df_zonas_count['property_type'] <df_zonas_count['property_type'].std()*1.5 ].index\n"
      ],
      "execution_count": 0,
      "outputs": []
    },
    {
      "metadata": {
        "id": "RT1AUPeg8qMu",
        "colab_type": "text"
      },
      "cell_type": "markdown",
      "source": [
        "\n",
        "## obtengo todas las zonas que tengan menos de 1.5desvios en propiedades por tipo\n",
        "### si tengo muchos features caracteristicos de una zona con peso no me sirve para pocas zonas\n",
        "### en cambio si quiero hacerlo para todos tengo que empezar a sacar features\n",
        "\n",
        "# ES PARA REVISAR"
      ]
    },
    {
      "metadata": {
        "id": "EMIqgI3k8qMw",
        "colab_type": "code",
        "colab": {}
      },
      "cell_type": "code",
      "source": [
        "if (excluyoZonas):\n",
        "    df=df[df['place_with_parent_names'].isin(pd.DataFrame(df_zonas_count)['place_with_parent_names'])] \n",
        "    #df[~df['place_with_parent_names']]\n",
        "    print('Quedaron',df.shape[0],' propiedades')"
      ],
      "execution_count": 0,
      "outputs": []
    },
    {
      "metadata": {
        "id": "tET6th3h8qM0",
        "colab_type": "code",
        "colab": {}
      },
      "cell_type": "code",
      "source": [
        "### La funcion de Luis con un cambio \n",
        "### Cambio : 10/9 - Leo\n",
        "### A los nans les imputo 0 (de otra forma lo hubiera hecho mas adelante cuando a los nan los reemplazaba por 0)\n",
        "### no aplico solo a un grupo estrecho sin los outliers.\n",
        "### aplico a la mediana con los outliers.\n",
        "def imputoPrecio(dfTmp):\n",
        "\n",
        "    #Obtenemos un dataframe con los valores dummies del tipo de moneda\n",
        "    dummies_price = pd.get_dummies(dfTmp['currency'])\n",
        "    #Filtramos en una nueva columna los valores que están en ARS\n",
        "    dfTmp[\"ars\"] = dfTmp[\"price\"] * dummies_price[\"ARS\"]\n",
        "    #dummies_price[\"ARS\"].value_counts()\n",
        "    #Calculamos el valor aproximado del USD según los precios que están en pesos \"ars\"\n",
        "    #y que tienen el precio aproximado en USD en la columna \"price_aprox_usd\" y lo guardamos\n",
        "    #en una nueva columna \"USDaprox\"\n",
        "    dfTmp[\"USDaprox\"] = dfTmp[\"ars\"] / (df[\"price_aprox_usd\"] * dummies_price[\"ARS\"])\n",
        "\n",
        "    #Encontramos el valor que se utiliza en la mediana de los casos para el dólar\n",
        "    # y así trabajar con este valor para las aproximaciones que hagan falta\n",
        "    #df[\"USDaprox\"].median()\n",
        "    #Calculamos el valor aproximado del USD según los precios que están en pesos \"ars\"\n",
        "    #y que tienen el precio aproximado en USD en la columna \"price_aprox_usd\" y lo guardamos\n",
        "    #en una nueva columna \"USDaprox\"\n",
        "    #Armamos un nuevo array donde vamos a imputar los precios por M2 en USD de forma que\n",
        "    #podamos usarlo como valorizador. Lo llenamos en principio con los valores de price_usd_per_m2\n",
        "    USD = df[\"USDaprox\"].median()\n",
        "    \n",
        "    y = df[\"price_per_m2\"].fillna(0)/USD\n",
        "    dfTmp[\"new_usd_per_m2\"] = dfTmp[\"price_usd_per_m2\"].fillna(y)\n",
        "    return dfTmp"
      ],
      "execution_count": 0,
      "outputs": []
    },
    {
      "metadata": {
        "id": "RqB4IQ3n8qM6",
        "colab_type": "code",
        "colab": {}
      },
      "cell_type": "code",
      "source": [
        ""
      ],
      "execution_count": 0,
      "outputs": []
    },
    {
      "metadata": {
        "id": "jt5Xox-t8qM_",
        "colab_type": "code",
        "colab": {}
      },
      "cell_type": "code",
      "source": [
        "### dada una lista de dummy definida arriba la convierto a dummy .\n",
        "### el flag de sparse no funciona.\n",
        "def setMatricesDummy(columnas,dfTmp,esSparse):\n",
        "    frames = []\n",
        "    for i in columnas:\n",
        "        frames.append( pd.get_dummies( dfTmp[i ],sparse=esSparse))\n",
        "    pdCompleto=pd.concat(frames,axis=1,join='outer')\n",
        "    \n",
        "    return pdCompleto\n",
        "\n",
        "#dfFilled.columns\n",
        "#dfFeaturesFromTitle.columns\n",
        "#dfDummy.columns"
      ],
      "execution_count": 0,
      "outputs": []
    },
    {
      "metadata": {
        "id": "sY--jQ5v8qNE",
        "colab_type": "code",
        "colab": {}
      },
      "cell_type": "code",
      "source": [
        "### defino la lista de palabras que no contamos con el count vectorizer\n",
        "def getStopWords():\n",
        "    stop_words=get_stop_words('spanish')\n",
        "    stop_words_xl = [',',':','!','/','$','+','?','|','!!','!!!','$','+','-','//',' ','ambientes','ph','departamento','casa','.','argentina','u$d','u$s','venta','vende','vendo','amb','ambiente','ambientes','u$s','u$d']\n",
        "    return stop_words + stop_words_xl + df['place_name'].apply(lambda x:(str(x).lower())).tolist() +df['country_name'].apply(lambda x:(str(x).lower())).tolist() +df['state_name'].apply(lambda x:(str(x).lower())).tolist() \n",
        "### diccionario de palabras que descubrio count vectorizer. finalmente no uso el diccionario \n",
        "### sirve para ver que hay\n",
        "def getDictFeatures():\n",
        "    return [\n",
        "    {'feature': 'acceso'},\n",
        "    {'feature': 'subte'},\n",
        "    {'feature': 'amplia'},\n",
        "    {'feature': 'amplia'},\n",
        "    {'feature': 'amplio'},\n",
        "    {'feature': 'amplios'},\n",
        "    {'feature': 'avenida'},\n",
        "    {'feature': 'balcon'},\n",
        "    {'feature': 'bano'},\n",
        "    {'feature': 'bano completo'},\n",
        "    {'feature': 'calefaccion'},\n",
        "    {'feature': 'cochera'},\n",
        "    {'feature': 'cocheras'},\n",
        "    {'feature': 'cocina'},\n",
        "    {'feature': 'cocina comedor'},\n",
        "    {'feature': 'cocina integrada'},\n",
        "    {'feature': 'comedor'},\n",
        "    {'feature': 'comercial'},\n",
        "    {'feature': 'complejo'},\n",
        "    {'feature': 'dependencia'},\n",
        "    {'feature': 'baulera'},\n",
        "    {'feature': 'lavadero'},\n",
        "    {'feature': 'living comedor'},\n",
        "    {'feature': 'jardin'},\n",
        "    {'feature': 'luminoso'},\n",
        "     {'feature': 'madera'},\n",
        "    {'feature': 'patio'},\n",
        "    {'feature': 'parrilla'},    \n",
        "     {'feature': 'parque'},\n",
        "    {'feature': 'jardin'},\n",
        "    {'feature': 'luminoso'},\n",
        "     {'feature': 'placard'},\n",
        "    {'feature': 'piscina'},\n",
        "    {'feature': 'pileta'},\n",
        "        {'feature': 'quincho'},\n",
        "    {'feature': 'suite'},\n",
        "        {'feature': 'terraza'},\n",
        "    {'feature': 'toilet'}\n",
        "]\n",
        "### borro numeros en el analisis de palabras. no quiero valores numericos que le pongo al modelo \n",
        "### por otro lado.\n",
        "def dropNumero(x):\n",
        "    p = re.compile(r'\\d')\n",
        "    if (bool(p.search(x))):\n",
        "        return ''\n",
        "    else:\n",
        "        return x\n",
        "### saco acentos\n",
        "def sacoAcentos(s):\n",
        "    return unidecode.unidecode(s)\n",
        "### convierto oraciones a listas de palabras\n",
        "### de vuelta saco los numeros y los reemplazo por una palabra clave \n",
        "def getTexto(col):\n",
        "    return col.replace('\\d+', '|NUM|', regex=True).apply(lambda x:sacoAcentos(x)).apply(lambda x:(x.lower().replace('.','').split()))\n",
        "    \n",
        "def getPlaces(dfTmp):\n",
        "    return dfTmp['place_with_parent_names'].apply(lambda x:x.split('|'))\n",
        "\n",
        "\n",
        "\n",
        "\n",
        "def extraigoColsConValorNumericoDeFeatures(dfTmp):\n",
        "    ## si hay un valor numerico en el titulo que muestra al model algun feature numerico de otra columna es un problema.\n",
        "    ##mejor sacar\n",
        "    col2drop =[]\n",
        "    for i in dfTmp.columns:\n",
        "        if ('num' in i):\n",
        "            col2drop.append(i)\n",
        "    dfTmp.drop(col2drop,axis=1,inplace=True)\n",
        "    return dfTmp    "
      ],
      "execution_count": 0,
      "outputs": []
    },
    {
      "metadata": {
        "id": "JMIueEjF8qNI",
        "colab_type": "code",
        "colab": {}
      },
      "cell_type": "code",
      "source": [
        "\n",
        "### tengo un df con caracteristicas del titulo - no lo uso porque uso uno que me devuelve un sparse\n",
        "def getFeaturesFromTitle(dfTmp):\n",
        "    stop_words=getStopWords()\n",
        "    cvec=TfidfVectorizer(stop_words=stop_words,ngram_range=(1,2),strip_accents=None, max_features=150,token_pattern='[\\d_]', tokenizer=lambda doc: doc,analyzer='word' ,lowercase=False)\n",
        "    bag = cvec.fit_transform(getTexto(dfTmp['title']))\n",
        "    \n",
        "    #bag = cvec.fit_transform(dfTmp['title'].replace('\\d+', '|NUM|', regex=True).apply(lambda x:sacoAcentos(x)).apply(lambda x:(x.lower().replace('.','').split())))\n",
        "    #bag = cvec.fit_transform(dfTmp['title'].apply(lambda x:sacoAcentos(x)).apply(lambda x:(x.lower().replace('.','').split())))\n",
        "    dfFeatures=pd.DataFrame(bag.T.toarray() ,cvec.get_feature_names())\n",
        "    \n",
        "    return extraigoColsConValorNumericoDeFeatures(dfFeatures.T)\n",
        "\n",
        "### tengo un df con las ubicaciones\n",
        "def getFeaturesFromPlaces(dfTmp):\n",
        "    stop_words=getStopWords()\n",
        "    cvec=TfidfVectorizer(ngram_range=(1,3),strip_accents=None, token_pattern='[\\d_]', tokenizer=lambda doc: doc,analyzer='word' ,lowercase=False)\n",
        "    bag = cvec.fit_transform(getPlaces(dfTmp))\n",
        "    dfFeatures=pd.DataFrame(bag.T.toarray() ,cvec.get_feature_names())\n",
        "    return extraigoColsConValorNumericoDeFeatures(dfFeatures.T)\n",
        "\n",
        "\n",
        "## tengo una sparse con las caracteristicas del titulo\n",
        "def getFeaturesFromTitleSparse(dfTmp):\n",
        "    stop_words=getStopWords()\n",
        "    cvec=TfidfVectorizer(stop_words=stop_words,ngram_range=(1,1),strip_accents=None, max_features=25,token_pattern='[\\d_]', tokenizer=lambda doc: doc,analyzer='word' ,lowercase=False)\n",
        "    pipeline=Pipeline([('vect',cvec),\n",
        "                      #('tfidf',TfidfTransformer(use_idf=True,smooth_idf=True)),\n",
        "                      #('clf',MultinomialNB(alpha=1))\n",
        "                      ])\n",
        "    return pipeline.fit_transform(getTexto(dfTmp['title']))\n",
        "def getFeaturesFromTitleSparse2(dfTmp):\n",
        "    stop_words=getStopWords()\n",
        "    cvec=CountVectorizer(stop_words=stop_words,ngram_range=(1,1),strip_accents=None, max_features=5,token_pattern='[\\d_]', tokenizer=lambda doc: doc,analyzer='word' ,lowercase=False)\n",
        "    pipeline=Pipeline([('vect',cvec),\n",
        "                      ('tfidf',TfidfTransformer(use_idf=True,smooth_idf=True)),\n",
        "                      ('clf',MultinomialNB(alpha=1))\n",
        "                      ])\n",
        "    return pipeline.fit_transform(dfTmp['title'])\n",
        "\n",
        "\n",
        "## tengo una sparse con las ubicaciones    \n",
        "def getFeaturesFromPlacesSparse(dfTmp):\n",
        "    stop_words=getStopWords()\n",
        "    cvec=CountVectorizer(ngram_range=(1,3),strip_accents=None, token_pattern='[\\d_]', tokenizer=lambda doc: doc,analyzer='word' ,lowercase=False)\n",
        "    pipeline=Pipeline([('vect',cvec),\n",
        "                      #('tfidf',TfidfTransformer(use_idf=True,smooth_idf=True)),\n",
        "                      #('clf',MultinomialNB(alpha=1))\n",
        "                      ])\n",
        "    return pipeline.fit_transform(getPlaces(dfTmp))\n",
        "    \n",
        "\n",
        "\n",
        "\n",
        "## armo columnas copiando el valor original donde le pongo un filler(0) a los nans.\n",
        "## la lista de columnas la paso arriba.\n",
        "def agregoColumnasConFlagNaN(columnas,dfTmp,filler):\n",
        "    for i in columnas:\n",
        "        dfTmp[i + '_filled'] = dfTmp[i].fillna(filler)\n",
        "    return dfTmp"
      ],
      "execution_count": 0,
      "outputs": []
    },
    {
      "metadata": {
        "id": "8nlBhwft8qNK",
        "colab_type": "code",
        "colab": {}
      },
      "cell_type": "code",
      "source": [
        "### normalizo precio.\n",
        "### todavia no se sirve pero la teoria parece indicar que si para evitar la dispersion \n",
        "## que observamos en desafio I\n",
        "\n",
        "def normalizoPrice(dfTmp):\n",
        "    from sklearn.preprocessing import FunctionTransformer\n",
        "    # Instancio el Optimus Prime con log1p\n",
        "    transformer = FunctionTransformer(np.log1p)\n",
        "    price = dfTmp['new_usd_per_m2'].values\n",
        "    return transformer.transform([price])[0]\n",
        "\n"
      ],
      "execution_count": 0,
      "outputs": []
    },
    {
      "metadata": {
        "id": "jkeWp-fD8qNM",
        "colab_type": "code",
        "colab": {}
      },
      "cell_type": "code",
      "source": [
        "### convierto la escala de los de la lista\n",
        "### rooms y m2.\n",
        "\n",
        "def conviertoEscala(dfTmp,columnas):\n",
        "    from sklearn.preprocessing import MinMaxScaler\n",
        "    from sklearn.preprocessing import scale\n",
        "    minmaxscaler_model = MinMaxScaler()\n",
        "    return minmaxscaler_model.fit_transform(dfTmp[columnas])"
      ],
      "execution_count": 0,
      "outputs": []
    },
    {
      "metadata": {
        "id": "azhmVGlg8qNO",
        "colab_type": "code",
        "colab": {
          "base_uri": "https://localhost:8080/",
          "height": 92
        },
        "outputId": "a79ea194-5912-4731-d5c3-f038663e1732"
      },
      "cell_type": "code",
      "source": [
        "getFeaturesFromPlacesSparse(df)"
      ],
      "execution_count": 38,
      "outputs": [
        {
          "output_type": "execute_result",
          "data": {
            "text/plain": [
              "<121220x5653 sparse matrix of type '<class 'numpy.int64'>'\n",
              "\twith 1424141 stored elements in Compressed Sparse Row format>"
            ]
          },
          "metadata": {
            "tags": []
          },
          "execution_count": 38
        }
      ]
    },
    {
      "metadata": {
        "id": "suVdF2gA8qNS",
        "colab_type": "text"
      },
      "cell_type": "markdown",
      "source": [
        "## obtengo mis x -> matriz\n",
        "## y -> precio"
      ]
    },
    {
      "metadata": {
        "id": "qtYWvGVS8qNT",
        "colab_type": "code",
        "colab": {}
      },
      "cell_type": "code",
      "source": [
        "### Termine de definir las funciones auxiliares \n",
        "### obtengo el x e y\n",
        "\n",
        "#frames = [dfFilled,dfPrecioImputado,dfFeaturesFromTitle,dfDummy]\n",
        "df = imputoPrecio(df)\n",
        "df = agregoColumnasConFlagNaN(columnasToFill,df,0)\n",
        "dfEscala = conviertoEscala(df,columnasFilled)\n",
        "### new_usd_per_m2_filled\n",
        "#precios = df.iloc[:,30:31]\n",
        "### new_usd_per_m2\n",
        "#precios = df.iloc[:,28:29]\n",
        "\n",
        "### obtengo la matriz  X\n",
        "### DUMMY DE TIPO DE PROP, sparse de UBICACION Y TITULO y M2 TOTAL Y ROOMS en escala \n",
        "matriz = hstack([getFeaturesFromPlacesSparse(df),\n",
        "                 #getFeaturesFromTitleSparse(df),\n",
        "                 #setMatricesDummy(columnasToDummy,df,True),\n",
        "                 conviertoEscala(df,columnasFilled)\n",
        "                ])\n",
        "\n",
        "#display(matriz.shape)\n",
        "#matriz.shape\n",
        "\n",
        "#from sklearn.preprocessing import Imputer\n",
        "#imp = Imputer(missing_values='NaN', strategy='mean', axis=0)\n",
        "#precios = imp.fit_transform(precios)x=normalizoPrice(df)\n",
        "\n",
        "#### Aca tengo mis Y\n",
        "\n",
        "precios=normalizoPrice(df)\n",
        "\n",
        "\n",
        "#dfCompleto=pd.concat(frames,axis=1,join='outer')"
      ],
      "execution_count": 0,
      "outputs": []
    },
    {
      "metadata": {
        "id": "EjAmOpA-8qNV",
        "colab_type": "code",
        "colab": {}
      },
      "cell_type": "code",
      "source": [
        "\n",
        "#columnas = ['place_name','rooms','surface_total_in_m2','surface_covered_in_m2','floor']"
      ],
      "execution_count": 0,
      "outputs": []
    },
    {
      "metadata": {
        "id": "E0op8LDp8qNX",
        "colab_type": "code",
        "colab": {}
      },
      "cell_type": "code",
      "source": [
        "#getFeaturesFromTitle(df).to_csv('properati_featurizado.csv', sep=',', encoding='utf-8')\n",
        "\n",
        "#df2.columns"
      ],
      "execution_count": 0,
      "outputs": []
    },
    {
      "metadata": {
        "id": "hInpKICW8qNZ",
        "colab_type": "text"
      },
      "cell_type": "markdown",
      "source": [
        "## 2da PARTE"
      ]
    },
    {
      "metadata": {
        "id": "f8_I5ibe8qNZ",
        "colab_type": "code",
        "colab": {}
      },
      "cell_type": "code",
      "source": [
        "from sklearn import linear_model\n",
        "from sklearn.model_selection import train_test_split\n",
        "from matplotlib import pyplot as plt"
      ],
      "execution_count": 0,
      "outputs": []
    },
    {
      "metadata": {
        "id": "VKBxWZ-G8qNb",
        "colab_type": "code",
        "colab": {}
      },
      "cell_type": "code",
      "source": [
        "#dfPrecioImputadoColumnsDel=['Unnamed: 0', 'operation', 'property_type', 'place_name',\n",
        "#       'place_with_parent_names', 'country_name', 'state_name', 'geonames_id',\n",
        "#       'lat-lon', 'lat', 'lon', 'price', 'currency',\n",
        "#       'price_aprox_local_currency', 'price_aprox_usd', 'surface_total_in_m2',\n",
        "#       'surface_covered_in_m2', 'price_usd_per_m2', 'price_per_m2', 'floor',\n",
        "#       'rooms', 'expenses', 'properati_url', 'description', 'title',\n",
        "#       'image_thumbnail', 'ars', 'USDaprox', 'new_usd_per_m2','property_type_filled', 'place_name_filled', ]\n",
        "#dfCompleto.drop(dfPrecioImputadoColumnsDel,inplace=True,axis=1)"
      ],
      "execution_count": 0,
      "outputs": []
    },
    {
      "metadata": {
        "id": "84jzQFlc8qNd",
        "colab_type": "code",
        "colab": {}
      },
      "cell_type": "code",
      "source": [
        ""
      ],
      "execution_count": 0,
      "outputs": []
    },
    {
      "metadata": {
        "id": "tkYUWmat8qNe",
        "colab_type": "code",
        "colab": {
          "base_uri": "https://localhost:8080/",
          "height": 92
        },
        "outputId": "86d4eaca-330a-4163-a983-6bea0843ace4"
      },
      "cell_type": "code",
      "source": [
        "#precios=precios[precios['new_usd_per_m2_filled']<200000]\n",
        "precios\n"
      ],
      "execution_count": 14,
      "outputs": [
        {
          "output_type": "execute_result",
          "data": {
            "text/plain": [
              "array([7.02844318, 0.        , 7.17785181, ..., 5.27425315, 7.72539668,\n",
              "       4.79921399])"
            ]
          },
          "metadata": {
            "tags": []
          },
          "execution_count": 14
        }
      ]
    },
    {
      "metadata": {
        "id": "sTPCSLGe8qNh",
        "colab_type": "code",
        "colab": {
          "base_uri": "https://localhost:8080/",
          "height": 76
        },
        "outputId": "218b978e-f1b6-4277-b1c6-2174ff6d828c"
      },
      "cell_type": "code",
      "source": [
        "y= precios\n",
        "df = matriz\n",
        "type(df)"
      ],
      "execution_count": 40,
      "outputs": [
        {
          "output_type": "execute_result",
          "data": {
            "text/plain": [
              "scipy.sparse.coo.coo_matrix"
            ]
          },
          "metadata": {
            "tags": []
          },
          "execution_count": 40
        }
      ]
    },
    {
      "metadata": {
        "id": "1wz6Jaed8qNk",
        "colab_type": "code",
        "colab": {}
      },
      "cell_type": "code",
      "source": [
        "#dfSample = dfCompleto.sample(10)"
      ],
      "execution_count": 0,
      "outputs": []
    },
    {
      "metadata": {
        "id": "FWNiHeKK8qNm",
        "colab_type": "code",
        "colab": {
          "base_uri": "https://localhost:8080/",
          "height": 111
        },
        "outputId": "e63ce4a2-2766-4d89-dc37-d2cd9a70c1da"
      },
      "cell_type": "code",
      "source": [
        "# create training and testing vars\n",
        "X_train, X_test, y_train, y_test = train_test_split(df, y, test_size=0.2)\n",
        "display (X_train.shape, y_train.shape)\n",
        "display (X_test.shape, y_test.shape)"
      ],
      "execution_count": 41,
      "outputs": [
        {
          "output_type": "display_data",
          "data": {
            "text/plain": [
              "(96976, 5655)"
            ]
          },
          "metadata": {
            "tags": []
          }
        },
        {
          "output_type": "display_data",
          "data": {
            "text/plain": [
              "(96976,)"
            ]
          },
          "metadata": {
            "tags": []
          }
        },
        {
          "output_type": "display_data",
          "data": {
            "text/plain": [
              "(24244, 5655)"
            ]
          },
          "metadata": {
            "tags": []
          }
        },
        {
          "output_type": "display_data",
          "data": {
            "text/plain": [
              "(24244,)"
            ]
          },
          "metadata": {
            "tags": []
          }
        }
      ]
    },
    {
      "metadata": {
        "id": "H7cftvwa8qNt",
        "colab_type": "code",
        "colab": {}
      },
      "cell_type": "code",
      "source": [
        "\n",
        "from sklearn.linear_model import LassoCV, LassoLarsCV, LassoLarsIC\n",
        "model_bic = LassoLarsIC(criterion='bic')\n",
        "#model_bic.fit(matriz.toarray(), precios)\n",
        "#alpha_bic_ = model_bic.alpha_\n",
        "\n",
        "model_aic = LassoLarsIC(criterion='aic')\n",
        "#model_aic.fit(matriz.toarray(),precios)\n",
        "#alpha_aic_ = model_aic.alpha_\n",
        "\n",
        "#display(alpha_bic_,alpha_aic_)"
      ],
      "execution_count": 0,
      "outputs": []
    },
    {
      "metadata": {
        "id": "WLokfxe88qNv",
        "colab_type": "text"
      },
      "cell_type": "markdown",
      "source": [
        "# Tengo x e y\n",
        "# Vamos jugando con los modelos"
      ]
    },
    {
      "metadata": {
        "id": "-UEwnoyL8qNw",
        "colab_type": "code",
        "colab": {}
      },
      "cell_type": "code",
      "source": [
        "\n",
        "# fit a model\n",
        "#lm = linear_model.LinearRegression(fit_intercept=True,normalize=True)\n",
        "lm = linear_model.Lasso(alpha=0.0008)\n",
        "#lm = linear_model.Ridge(alpha=0.8)\n",
        "#lm=linear_model.ElasticNet(alpha=0.01)\n",
        "\n",
        "\n",
        "\n",
        "model = lm.fit(X_train, y_train)\n",
        "predictions = lm.predict(X_test)"
      ],
      "execution_count": 0,
      "outputs": []
    },
    {
      "metadata": {
        "id": "K6CAx2Z68qNy",
        "colab_type": "code",
        "colab": {},
        "outputId": "67f86c02-b9bf-4b2c-96a6-c8f325e29f06"
      },
      "cell_type": "code",
      "source": [
        "predictions[0:5]"
      ],
      "execution_count": 0,
      "outputs": [
        {
          "output_type": "execute_result",
          "data": {
            "text/plain": [
              "array([6.60742029, 6.60742029, 3.83240326, 5.76198181, 5.07592828])"
            ]
          },
          "metadata": {
            "tags": []
          },
          "execution_count": 172
        }
      ]
    },
    {
      "metadata": {
        "id": "CWr-0dCq8qN2",
        "colab_type": "code",
        "colab": {},
        "outputId": "ceecdc51-0414-4db8-c36d-1ddf3428d80c"
      },
      "cell_type": "code",
      "source": [
        "## The line / model\n",
        "plt.scatter(y_test, predictions)\n",
        "plt.xlabel('True Values')\n",
        "plt.ylabel('Predictions') \n"
      ],
      "execution_count": 0,
      "outputs": [
        {
          "output_type": "execute_result",
          "data": {
            "text/plain": [
              "Text(0,0.5,'Predictions')"
            ]
          },
          "metadata": {
            "tags": []
          },
          "execution_count": 173
        },
        {
          "output_type": "display_data",
          "data": {
            "image/png": "[encoded data removed]",
            "text/plain": [
              "<Figure size 432x288 with 1 Axes>"
            ]
          },
          "metadata": {
            "tags": []
          }
        }
      ]
    },
    {
      "metadata": {
        "id": "vcvJ-53J8qN6",
        "colab_type": "code",
        "colab": {},
        "outputId": "0917c4c6-0c01-4b78-d8b3-6cc334cea488"
      },
      "cell_type": "code",
      "source": [
        "print ('Score:', model.score(X_test, y_test))"
      ],
      "execution_count": 0,
      "outputs": [
        {
          "output_type": "stream",
          "text": [
            "Score: 0.04549159881537035\n"
          ],
          "name": "stdout"
        }
      ]
    },
    {
      "metadata": {
        "id": "Kmmu__JU8qN9",
        "colab_type": "code",
        "colab": {}
      },
      "cell_type": "code",
      "source": [
        ""
      ],
      "execution_count": 0,
      "outputs": []
    },
    {
      "metadata": {
        "id": "l8XzB-ZR8qN_",
        "colab_type": "code",
        "colab": {},
        "outputId": "354c3938-0420-4eda-ba90-12f6e257c520"
      },
      "cell_type": "code",
      "source": [
        "from sklearn.model_selection import KFold # import KFold\n",
        "kf = KFold(n_splits=6) # Define the split - into 2 folds \n",
        "kf.get_n_splits(df) # returns the number of splitting iterations in the cross-validator"
      ],
      "execution_count": 0,
      "outputs": [
        {
          "output_type": "execute_result",
          "data": {
            "text/plain": [
              "6"
            ]
          },
          "metadata": {
            "tags": []
          },
          "execution_count": 174
        }
      ]
    },
    {
      "metadata": {
        "id": "Fh7Y-MQZ8qOB",
        "colab_type": "code",
        "colab": {}
      },
      "cell_type": "code",
      "source": [
        "#for train_index, test_index in kf.split(df):\n",
        "#    print('Train', train_index, 'Test', test_index)\n",
        "#    X_train, X_test = df[train_index], df[test_index]\n",
        "#    y_train, y_test = y[train_index], y[test_index]\n"
      ],
      "execution_count": 0,
      "outputs": []
    },
    {
      "metadata": {
        "id": "3fLrj4cu8qOD",
        "colab_type": "code",
        "colab": {
          "base_uri": "https://localhost:8080/",
          "height": 92
        },
        "outputId": "5670f78e-2b23-410f-ef41-39ac1a1262b6"
      },
      "cell_type": "code",
      "source": [
        "# Necessary imports: \n",
        "from sklearn.cross_validation import cross_val_score, cross_val_predict\n",
        "from sklearn import metrics"
      ],
      "execution_count": 17,
      "outputs": [
        {
          "output_type": "stream",
          "text": [
            "/usr/local/lib/python3.6/dist-packages/sklearn/cross_validation.py:41: DeprecationWarning: This module was deprecated in version 0.18 in favor of the model_selection module into which all the refactored classes and functions are moved. Also note that the interface of the new CV iterators are different from that of this module. This module will be removed in 0.20.\n",
            "  \"This module will be removed in 0.20.\", DeprecationWarning)\n"
          ],
          "name": "stderr"
        }
      ]
    },
    {
      "metadata": {
        "id": "0nqE6xgW8qOG",
        "colab_type": "code",
        "colab": {},
        "outputId": "ccf07ba2-5cb0-4dc8-e85b-59eacbafdb5b"
      },
      "cell_type": "code",
      "source": [
        "\n",
        "# Perform 6-fold cross validation\n",
        "scores = cross_val_score(model, df, y, cv=6)\n",
        "print ('Cross-validated scores:', scores)"
      ],
      "execution_count": 0,
      "outputs": [
        {
          "output_type": "stream",
          "text": [
            "Cross-validated scores: [-0.09086583  0.17271129  0.18953817  0.14795873  0.1712872   0.17869503]\n"
          ],
          "name": "stdout"
        }
      ]
    },
    {
      "metadata": {
        "id": "k5hqyMWZ8qOJ",
        "colab_type": "code",
        "colab": {},
        "outputId": "2cdae447-08f1-480c-bd9e-ff65f038f6fa"
      },
      "cell_type": "code",
      "source": [
        "# Make cross validated predictions\n",
        "predictions = cross_val_predict(model, df, y, cv=6)\n",
        "plt.scatter(y, predictions)"
      ],
      "execution_count": 0,
      "outputs": [
        {
          "output_type": "execute_result",
          "data": {
            "text/plain": [
              "<matplotlib.collections.PathCollection at 0x7fd5e700f908>"
            ]
          },
          "metadata": {
            "tags": []
          },
          "execution_count": 178
        },
        {
          "output_type": "display_data",
          "data": {
            "image/png": "[encoded data removed]",
            "text/plain": [
              "<Figure size 432x288 with 1 Axes>"
            ]
          },
          "metadata": {
            "tags": []
          }
        }
      ]
    },
    {
      "metadata": {
        "id": "PYMieikk8qOL",
        "colab_type": "code",
        "colab": {},
        "outputId": "b768ba80-5532-430c-c7ca-b9414aad51d0"
      },
      "cell_type": "code",
      "source": [
        "accuracy = metrics.r2_score(y, predictions)\n",
        "print (accuracy)"
      ],
      "execution_count": 0,
      "outputs": [
        {
          "output_type": "stream",
          "text": [
            "0.1455247203970481\n"
          ],
          "name": "stdout"
        }
      ]
    },
    {
      "metadata": {
        "id": "DMcMFPBigGXY",
        "colab_type": "text"
      },
      "cell_type": "markdown",
      "source": [
        "# 3. Comparación Modelos"
      ]
    },
    {
      "metadata": {
        "id": "es9hHd1YUctM",
        "colab_type": "code",
        "colab": {}
      },
      "cell_type": "code",
      "source": [
        "# Importamos librerías\n",
        "\n",
        "from sklearn import datasets, linear_model\n",
        "from sklearn.model_selection import cross_val_score, train_test_split, KFold\n",
        "from sklearn.metrics import r2_score\n",
        "from sklearn.model_selection import KFold # import KFold\n",
        "from sklearn.cross_validation import cross_val_score, cross_val_predict\n",
        "from sklearn import metrics\n",
        "from sklearn.model_selection import train_test_split, KFold, cross_val_score\n",
        "from sklearn.linear_model import LinearRegression, Lasso, LassoCV, Ridge, RidgeCV\n",
        "from sklearn.model_selection import train_test_split, KFold, cross_val_score"
      ],
      "execution_count": 0,
      "outputs": []
    },
    {
      "metadata": {
        "id": "_G-tt-gbUctN",
        "colab_type": "code",
        "colab": {}
      },
      "cell_type": "code",
      "source": [
        "# Generamos un grid de $\\alpha$ para probar e instanciamos un particionador del Training Set \n",
        "# en K partes para realizar la validación cruzada\n",
        "\n",
        "al_ridge = np.linspace(0.001, 20, 10)\n",
        "al_lasso = np.linspace(0.1, 10, 10)\n",
        "kf = KFold(n_splits=6, shuffle=True, random_state=12)\n",
        "\n",
        "# Instanciamos los modelos\n",
        "\n",
        "lm = LinearRegression(fit_intercept=True,normalize=True)\n",
        "lmRidgeCV = RidgeCV(alphas=al_ridge, cv=kf, normalize=False)\n",
        "lmLassoCV = LassoCV(alphas=al_lasso, cv=kf, normalize=False)"
      ],
      "execution_count": 0,
      "outputs": []
    },
    {
      "metadata": {
        "id": "QHZYD2EbjVhQ",
        "colab_type": "text"
      },
      "cell_type": "markdown",
      "source": [
        "## 3.1 Regresión lineal"
      ]
    },
    {
      "metadata": {
        "id": "ljDE2895UctO",
        "colab_type": "code",
        "colab": {}
      },
      "cell_type": "code",
      "source": [
        "# Entrenamos el modelo LM\n",
        "\n",
        "model = lm.fit(X_train, y_train)\n",
        "predictions = lm.predict(X_test)"
      ],
      "execution_count": 0,
      "outputs": []
    },
    {
      "metadata": {
        "id": "iPaNrnZgUctQ",
        "colab_type": "code",
        "colab": {
          "base_uri": "https://localhost:8080/",
          "height": 112
        },
        "outputId": "9c06de3b-095c-4901-9d98-9d203287e870"
      },
      "cell_type": "code",
      "source": [
        "# Hacemos cross validation\n",
        "\n",
        "scores = cross_val_score(lm, X_train, y_train, cv=6, scoring='r2') \n",
        "scores, scores.mean()"
      ],
      "execution_count": 46,
      "outputs": [
        {
          "output_type": "execute_result",
          "data": {
            "text/plain": [
              "(array([0.20580443, 0.20554925, 0.20787385, 0.2170759 , 0.21352648,\n",
              "        0.2105874 ]), 0.21006955078181025)"
            ]
          },
          "metadata": {
            "tags": []
          },
          "execution_count": 46
        }
      ]
    },
    {
      "metadata": {
        "id": "eo4XASb9gxit",
        "colab_type": "text"
      },
      "cell_type": "markdown",
      "source": [
        "## 3.2 Modelo Ridge"
      ]
    },
    {
      "metadata": {
        "id": "yrOxVmt1UctR",
        "colab_type": "code",
        "colab": {}
      },
      "cell_type": "code",
      "source": [
        "# Entrenamos el modelo Ridge\n",
        "\n",
        "ridgemodel = lmRidgeCV.fit(X_train, y_train)"
      ],
      "execution_count": 0,
      "outputs": []
    },
    {
      "metadata": {
        "id": "lyrvb8m0UctS",
        "colab_type": "code",
        "colab": {
          "base_uri": "https://localhost:8080/",
          "height": 148
        },
        "outputId": "6794a876-5886-4b85-9299-3e54a86424f5"
      },
      "cell_type": "code",
      "source": [
        "#Hacemos cross validation\n",
        "\n",
        "scores = cross_val_score(ridgemodel, X_train, y_train, cv=6, scoring='r2')\n",
        "dict(alpha=ridgemodel.alpha_, scores=scores, mean_score=scores.mean())"
      ],
      "execution_count": 26,
      "outputs": [
        {
          "output_type": "execute_result",
          "data": {
            "text/plain": [
              "{'alpha': 15.555777777777775,\n",
              " 'mean_score': 0.26752994582493345,\n",
              " 'scores': array([0.26963522, 0.26019659, 0.28661914, 0.25489363, 0.26579637,\n",
              "        0.26803873])}"
            ]
          },
          "metadata": {
            "tags": []
          },
          "execution_count": 26
        }
      ]
    },
    {
      "metadata": {
        "id": "zPY5pqNKqBmb",
        "colab_type": "code",
        "colab": {
          "base_uri": "https://localhost:8080/",
          "height": 92
        },
        "outputId": "6c325fb4-8c0c-4774-d600-fd1b46aa4734"
      },
      "cell_type": "code",
      "source": [
        "print (\"r^2:\", ridgemodel.score(X_test, y_test))\n",
        "print (\"alpha:\", ridgemodel.alpha_)"
      ],
      "execution_count": 27,
      "outputs": [
        {
          "output_type": "stream",
          "text": [
            "r^2: 0.2749794842700505\n",
            "alpha: 15.555777777777775\n"
          ],
          "name": "stdout"
        }
      ]
    },
    {
      "metadata": {
        "id": "1DLu1Tl3g14t",
        "colab_type": "text"
      },
      "cell_type": "markdown",
      "source": [
        "## 3.3 Modelo Lasso"
      ]
    },
    {
      "metadata": {
        "id": "v4S3jDFNg45a",
        "colab_type": "code",
        "colab": {}
      },
      "cell_type": "code",
      "source": [
        "# Entrenamos el modelo Lasso\n",
        "\n",
        "lassomodel = lmLassoCV.fit(X_train, y_train)"
      ],
      "execution_count": 0,
      "outputs": []
    },
    {
      "metadata": {
        "id": "ON_IehMujQI9",
        "colab_type": "code",
        "colab": {
          "base_uri": "https://localhost:8080/",
          "height": 143
        },
        "outputId": "903139c4-bb7d-42af-ebc3-b523105c25d5"
      },
      "cell_type": "code",
      "source": [
        "#Hacemos cross validation\n",
        "\n",
        "scores = cross_val_score(lassomomodel, X_train, y_train, cv=6, scoring='r2')\n",
        "dict(alpha=lassomodel.alpha_, scores=scores, mean_score=scores.mean(), zero_coefs=(model.coef_ == 0).sum())"
      ],
      "execution_count": 0,
      "outputs": [
        {
          "output_type": "execute_result",
          "data": {
            "text/plain": [
              "{'alpha': 0.1,\n",
              " 'mean_score': 0.039844735076225324,\n",
              " 'scores': array([0.0447771 , 0.03688315, 0.0449976 , 0.03764962, 0.03286014,\n",
              "        0.04190081]),\n",
              " 'zero_coefs': 222}"
            ]
          },
          "metadata": {
            "tags": []
          },
          "execution_count": 43
        }
      ]
    },
    {
      "metadata": {
        "id": "zuKWt-FJwn4a",
        "colab_type": "code",
        "colab": {
          "base_uri": "https://localhost:8080/",
          "height": 92
        },
        "outputId": "e462b220-fba8-48fd-beb1-5a9dbc597da5"
      },
      "cell_type": "code",
      "source": [
        "print (\"r^2:\", lassomodel.score(X_test, y_test))\n",
        "print (\"alpha:\", lassomodel.alpha_)"
      ],
      "execution_count": 0,
      "outputs": [
        {
          "output_type": "stream",
          "text": [
            "r^2: 0.04273292504536353\n",
            "alpha: 0.1\n"
          ],
          "name": "stdout"
        }
      ]
    },
    {
      "metadata": {
        "id": "56iy6-cujkdj",
        "colab_type": "text"
      },
      "cell_type": "markdown",
      "source": [
        "## 3.4 ElasticNet"
      ]
    },
    {
      "metadata": {
        "id": "EaOlwMG_jnqd",
        "colab_type": "code",
        "colab": {
          "base_uri": "https://localhost:8080/",
          "height": 76
        },
        "outputId": "79d40f25-d309-462b-b3fc-a97f599506fb"
      },
      "cell_type": "code",
      "source": [
        "elasticnet_model = linear_model.ElasticNet()\n",
        "\n",
        "# Ajustamos nuevamente, esta vez con regularizacion\n",
        "\n",
        "elasticnet_model = elasticnet_model.fit(X_train, y_train)\n",
        "predictions = elasticnet_model.predict(X_test)\n",
        "\n",
        "print (\"r^2:\", elasticnet_model.score(X_test, y_test))"
      ],
      "execution_count": 28,
      "outputs": [
        {
          "output_type": "stream",
          "text": [
            "r^2: -0.0004189215404966085\n"
          ],
          "name": "stdout"
        }
      ]
    },
    {
      "metadata": {
        "id": "sjPfqZlK8qOQ",
        "colab_type": "code",
        "colab": {}
      },
      "cell_type": "code",
      "source": [
        ""
      ],
      "execution_count": 0,
      "outputs": []
    },
    {
      "metadata": {
        "id": "AfkMv4698qOS",
        "colab_type": "code",
        "colab": {}
      },
      "cell_type": "code",
      "source": [
        ""
      ],
      "execution_count": 0,
      "outputs": []
    },
    {
      "metadata": {
        "id": "0nT1WCNL8qOY",
        "colab_type": "code",
        "colab": {}
      },
      "cell_type": "code",
      "source": [
        ""
      ],
      "execution_count": 0,
      "outputs": []
    },
    {
      "metadata": {
        "id": "yU9CLD6D8qOb",
        "colab_type": "code",
        "colab": {}
      },
      "cell_type": "code",
      "source": [
        ""
      ],
      "execution_count": 0,
      "outputs": []
    },
    {
      "metadata": {
        "id": "1p81QBDc8qOd",
        "colab_type": "code",
        "colab": {}
      },
      "cell_type": "code",
      "source": [
        ""
      ],
      "execution_count": 0,
      "outputs": []
    },
    {
      "metadata": {
        "id": "GfFqRzhM8qOe",
        "colab_type": "code",
        "colab": {}
      },
      "cell_type": "code",
      "source": [
        ""
      ],
      "execution_count": 0,
      "outputs": []
    }
  ]
}